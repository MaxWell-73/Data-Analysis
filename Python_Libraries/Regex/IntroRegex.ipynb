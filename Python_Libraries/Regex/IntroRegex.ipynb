{
 "cells": [
  {
   "cell_type": "markdown",
   "id": "75410977",
   "metadata": {},
   "source": [
    "# Regex\n",
    "\n",
    "\n",
    "Regex \"Regular expressions\" se usa para encontrar coincidencia \"match\" de patrones \"patterns\" en cadenas de texto. Las expresiones regulares, se escriben en un lenguaje de formato condensado.\n",
    "\n",
    "En general, una expresión regular se puede ver como un patrón dado a regex junto con unos datos. Luego, regex analiza los datos utilizando ese patrón y devuelve fragmentos de texto para su posterior manipulación."
   ]
  },
  {
   "cell_type": "code",
   "execution_count": 1,
   "id": "ddd7149b",
   "metadata": {},
   "outputs": [],
   "source": [
    "#re.search(pattern, string, flags=0)"
   ]
  },
  {
   "cell_type": "markdown",
   "id": "12d992b6",
   "metadata": {},
   "source": [
    "Por qué usar regex? \n",
    "\n",
    "* Para revisar si un patrón existe en los datos.\n",
    "* Para obtener todas las instancias de un patrón de los datos \n",
    "* Para limpiar los datos usando un patón, generalmente división de strings. "
   ]
  },
  {
   "cell_type": "markdown",
   "id": "99350282",
   "metadata": {},
   "source": [
    "### Documentación \n",
    "Python 3: https://docs.python.org/3/library/re.html \\\n",
    "Regex ampliado por terceros: https://pypi.org/project/regex/"
   ]
  },
  {
   "cell_type": "code",
   "execution_count": 2,
   "id": "44b3af03",
   "metadata": {},
   "outputs": [],
   "source": [
    "import re"
   ]
  },
  {
   "cell_type": "markdown",
   "id": "d46d2e85",
   "metadata": {},
   "source": [
    "### Funciones"
   ]
  },
  {
   "cell_type": "code",
   "execution_count": 3,
   "id": "e58f7b58",
   "metadata": {},
   "outputs": [],
   "source": [
    "texto = \"Hoy es un buen dia.\"\n",
    "patron = \"buen\"\n",
    "#texto = \"Hoy es un mal dia.\""
   ]
  },
  {
   "cell_type": "code",
   "execution_count": 4,
   "id": "54822192",
   "metadata": {
    "scrolled": true
   },
   "outputs": [
    {
     "name": "stdout",
     "output_type": "stream",
     "text": [
      ":)\n"
     ]
    }
   ],
   "source": [
    "if re.search(patron,texto): #re.search evalua si el patron esta en cualquier parte del texto\n",
    "    print(\":)\")\n",
    "else:\n",
    "    print(\":(\")"
   ]
  },
  {
   "cell_type": "code",
   "execution_count": 5,
   "id": "065c7c9b",
   "metadata": {
    "scrolled": true
   },
   "outputs": [
    {
     "name": "stdout",
     "output_type": "stream",
     "text": [
      "Hoy\n"
     ]
    }
   ],
   "source": [
    "if re.match(\"Hoy\",texto): #re.match evalua si el patron esta al inicio del texto\n",
    "    print(\"Hoy\")\n",
    "else:\n",
    "    print(\"Otro día\")"
   ]
  },
  {
   "cell_type": "code",
   "execution_count": 6,
   "id": "fac7b662",
   "metadata": {},
   "outputs": [
    {
     "data": {
      "text/plain": [
       "<re.Match object; span=(10, 14), match='buen'>"
      ]
     },
     "execution_count": 6,
     "metadata": {},
     "output_type": "execute_result"
    }
   ],
   "source": [
    "re.search(patron,texto) #Objeto de tipo re.Match, este objeto siempre contiene un valor booleano de verdadero\n",
    "#print(re.search(patron,texto))"
   ]
  },
  {
   "cell_type": "code",
   "execution_count": 7,
   "id": "500d88d6",
   "metadata": {
    "scrolled": true
   },
   "outputs": [
    {
     "name": "stdout",
     "output_type": "stream",
     "text": [
      "None\n"
     ]
    }
   ],
   "source": [
    "print(re.match(\"Ayer\",texto)) #Si no se encuentra el patrón no se devuelve ningún objeto"
   ]
  },
  {
   "cell_type": "code",
   "execution_count": 8,
   "id": "14b4a32d",
   "metadata": {},
   "outputs": [],
   "source": [
    "Texto = '''Bogotá, oficialmente bogotá, Distrito Capital (antiguamente, Santafé de bogotá y originalmente, Santafé),\n",
    "es la capital de la República de Colombia y del departamento de Cundinamarca.\n",
    "'''"
   ]
  },
  {
   "cell_type": "code",
   "execution_count": 9,
   "id": "db4a000d",
   "metadata": {
    "scrolled": true
   },
   "outputs": [
    {
     "data": {
      "text/plain": [
       "['Bogotá']"
      ]
     },
     "execution_count": 9,
     "metadata": {},
     "output_type": "execute_result"
    }
   ],
   "source": [
    "re.findall('Bogotá',Texto)#re.findall devuelve el patron tantas veces y en el orden en el que lo encuentra en el Texto"
   ]
  },
  {
   "cell_type": "code",
   "execution_count": 10,
   "id": "f131397d",
   "metadata": {
    "scrolled": true
   },
   "outputs": [
    {
     "name": "stdout",
     "output_type": "stream",
     "text": [
      "['Bogotá', 'bogotá', 'bogotá']\n"
     ]
    },
    {
     "data": {
      "text/plain": [
       "3"
      ]
     },
     "execution_count": 10,
     "metadata": {},
     "output_type": "execute_result"
    }
   ],
   "source": [
    "bogota = re.findall('Bogotá',Texto,re.IGNORECASE)\n",
    "print(bogota)\n",
    "len(bogota)\n",
    "\n",
    "#La bandera \"flag\" re.IGNORECASE o re.I vuelve a la función insensible a mayúsculas o minúsculas."
   ]
  },
  {
   "cell_type": "markdown",
   "id": "5e028ee0",
   "metadata": {},
   "source": [
    "### Caracteres Especiales "
   ]
  },
  {
   "cell_type": "code",
   "execution_count": 11,
   "id": "99d4fb49",
   "metadata": {},
   "outputs": [],
   "source": [
    "notas = \"55243154034005555324\""
   ]
  },
  {
   "cell_type": "code",
   "execution_count": 12,
   "id": "95b4d337",
   "metadata": {},
   "outputs": [
    {
     "data": {
      "text/plain": [
       "['5', '5', '5', '5', '5', '5', '5']"
      ]
     },
     "execution_count": 12,
     "metadata": {},
     "output_type": "execute_result"
    }
   ],
   "source": [
    "re.findall(\"5\",notas)"
   ]
  },
  {
   "cell_type": "code",
   "execution_count": 13,
   "id": "e9b921d6",
   "metadata": {},
   "outputs": [
    {
     "data": {
      "text/plain": [
       "['5']"
      ]
     },
     "execution_count": 13,
     "metadata": {},
     "output_type": "execute_result"
    }
   ],
   "source": [
    "re.findall(\"^5\",notas)#\"^\" marca el inicio de un string"
   ]
  },
  {
   "cell_type": "code",
   "execution_count": 14,
   "id": "2018e6bc",
   "metadata": {},
   "outputs": [
    {
     "data": {
      "text/plain": [
       "[]"
      ]
     },
     "execution_count": 14,
     "metadata": {},
     "output_type": "execute_result"
    }
   ],
   "source": [
    "re.findall(\"$5\",notas)#\"$\" marca el final de un string"
   ]
  },
  {
   "cell_type": "code",
   "execution_count": 15,
   "id": "f9fd519f",
   "metadata": {},
   "outputs": [
    {
     "data": {
      "text/plain": [
       "['54']"
      ]
     },
     "execution_count": 15,
     "metadata": {},
     "output_type": "execute_result"
    }
   ],
   "source": [
    "#Si quisieramos ver cuantos 5 y 4 hay, escribir 54 no funcionaria pues esto devolveria unicamente cuando los dos numeros estan \n",
    "#juntos y ordenados de la forma \"54\"\n",
    "re.findall(\"54\",notas)"
   ]
  },
  {
   "cell_type": "code",
   "execution_count": 16,
   "id": "690ceeb8",
   "metadata": {},
   "outputs": [
    {
     "data": {
      "text/plain": [
       "['5', '5', '4', '5', '4', '4', '5', '5', '5', '5', '4']"
      ]
     },
     "execution_count": 16,
     "metadata": {},
     "output_type": "execute_result"
    }
   ],
   "source": [
    "#Por ello, usamos un conjunto de caracteres\n",
    "re.findall(\"[54]\",notas)#\"[]\" indica un conjunto de caracteres"
   ]
  },
  {
   "cell_type": "code",
   "execution_count": 17,
   "id": "2b3b535c",
   "metadata": {
    "scrolled": true
   },
   "outputs": [
    {
     "data": {
      "text/plain": [
       "['2', '1', '0', '0', '0', '2']"
      ]
     },
     "execution_count": 17,
     "metadata": {},
     "output_type": "execute_result"
    }
   ],
   "source": [
    "re.findall(\"[0-2]\",notas)#Tambien podemos indicar rangos de letras ej: [a-z] o numeros ej: [0-9]"
   ]
  },
  {
   "cell_type": "code",
   "execution_count": 18,
   "id": "b9d88a6a",
   "metadata": {
    "scrolled": true
   },
   "outputs": [
    {
     "data": {
      "text/plain": [
       "['43', '53']"
      ]
     },
     "execution_count": 18,
     "metadata": {},
     "output_type": "execute_result"
    }
   ],
   "source": [
    "re.findall(\"[5|4][3]\",notas)# \"|\" or"
   ]
  },
  {
   "cell_type": "code",
   "execution_count": 19,
   "id": "efea7edd",
   "metadata": {},
   "outputs": [
    {
     "data": {
      "text/plain": [
       "['2', '4', '3', '1', '4', '0', '3', '4', '0', '0', '3', '2', '4']"
      ]
     },
     "execution_count": 19,
     "metadata": {},
     "output_type": "execute_result"
    }
   ],
   "source": [
    "re.findall(\"[^5]\",notas)# \"^\" not"
   ]
  },
  {
   "cell_type": "code",
   "execution_count": 20,
   "id": "ae990c61",
   "metadata": {
    "scrolled": false
   },
   "outputs": [
    {
     "data": {
      "text/plain": [
       "[]"
      ]
     },
     "execution_count": 20,
     "metadata": {},
     "output_type": "execute_result"
    }
   ],
   "source": [
    "#Cuidado! Algunos caracteres dentro de [] cambian su significado \n",
    "re.findall(\"^[^5]\",notas)"
   ]
  },
  {
   "cell_type": "markdown",
   "id": "0fcb4883",
   "metadata": {},
   "source": [
    "### Cuantificadores\n",
    "Cuando no se especifica el cuantificador por defecto es 1, como en los ejemplos anteriores"
   ]
  },
  {
   "cell_type": "code",
   "execution_count": 21,
   "id": "c4682676",
   "metadata": {},
   "outputs": [
    {
     "data": {
      "text/plain": [
       "['55', '5555']"
      ]
     },
     "execution_count": 21,
     "metadata": {},
     "output_type": "execute_result"
    }
   ],
   "source": [
    "re.findall(\"5{2,5}\",notas) #repeticiones dentro de un rango"
   ]
  },
  {
   "cell_type": "code",
   "execution_count": null,
   "id": "34d06fb5",
   "metadata": {},
   "outputs": [],
   "source": [
    "re.findall(\"5{2}\",notas) #exacto numero de repeticiones"
   ]
  },
  {
   "cell_type": "code",
   "execution_count": null,
   "id": "64cee620",
   "metadata": {},
   "outputs": [],
   "source": [
    "#Cuidado! En Regex la sintaxis debe ser rigurosa\n",
    "re.findall(\"5{2 }\",notas) "
   ]
  },
  {
   "cell_type": "code",
   "execution_count": null,
   "id": "26679864",
   "metadata": {},
   "outputs": [],
   "source": [
    "re.findall(\"54*\",notas)#\"*\" Indica que el string puede estar seguido 0 o más veces por el último carácter "
   ]
  },
  {
   "cell_type": "code",
   "execution_count": null,
   "id": "0e650269",
   "metadata": {},
   "outputs": [],
   "source": [
    "re.findall(\"543*\",notas)"
   ]
  },
  {
   "cell_type": "code",
   "execution_count": null,
   "id": "05e82412",
   "metadata": {},
   "outputs": [],
   "source": [
    "re.findall(\"54+\",notas) #\"*\" Indica que el string debe estar seguido 1 o más veces por el último carácter "
   ]
  },
  {
   "cell_type": "code",
   "execution_count": null,
   "id": "93fbc302",
   "metadata": {},
   "outputs": [],
   "source": [
    "re.findall(\"5555\",notas)"
   ]
  },
  {
   "cell_type": "code",
   "execution_count": null,
   "id": "a6ee704e",
   "metadata": {},
   "outputs": [],
   "source": [
    "re.findall(\"55?\",notas) #\"?\" Indica que el string debe estar seguido 0 o 1 vez por el el último carácter "
   ]
  },
  {
   "cell_type": "markdown",
   "id": "906a8e13",
   "metadata": {},
   "source": [
    "### Ejemplo práctico"
   ]
  },
  {
   "cell_type": "code",
   "execution_count": null,
   "id": "be7dffb4",
   "metadata": {
    "scrolled": true
   },
   "outputs": [],
   "source": [
    "import pandas as pd\n",
    "data = pd.read_csv(r'CLEAN_FIFA23_official_data.csv')\n",
    "data.head(10)"
   ]
  },
  {
   "cell_type": "code",
   "execution_count": null,
   "id": "e4b4c9cd",
   "metadata": {},
   "outputs": [],
   "source": [
    "nationality = '  '.join(str(value) for value in data['Nationality'])"
   ]
  },
  {
   "cell_type": "code",
   "execution_count": null,
   "id": "046c766b",
   "metadata": {
    "scrolled": true
   },
   "outputs": [],
   "source": [
    "nationality"
   ]
  },
  {
   "cell_type": "code",
   "execution_count": null,
   "id": "dbf8fb32",
   "metadata": {},
   "outputs": [],
   "source": [
    "type(nationality)"
   ]
  },
  {
   "cell_type": "code",
   "execution_count": null,
   "id": "e28c3495",
   "metadata": {
    "scrolled": true
   },
   "outputs": [],
   "source": [
    "len(re.findall(\"Portugal\",nationality))"
   ]
  },
  {
   "cell_type": "code",
   "execution_count": null,
   "id": "7d98656d",
   "metadata": {},
   "outputs": [],
   "source": [
    "re.findall('\\d',nationality) #Busca dígitos decimal Unicode [0-9] y otros"
   ]
  },
  {
   "cell_type": "code",
   "execution_count": null,
   "id": "ec776e93",
   "metadata": {},
   "outputs": [],
   "source": [
    "len(re.findall(\"nan\",nationality))"
   ]
  },
  {
   "cell_type": "code",
   "execution_count": null,
   "id": "5455a0c1",
   "metadata": {},
   "outputs": [],
   "source": [
    "len(re.findall(\"None\",nationality))"
   ]
  },
  {
   "cell_type": "code",
   "execution_count": null,
   "id": "241331cd",
   "metadata": {},
   "outputs": [],
   "source": [
    "nacionalidades = nationality.split('  ') #Divide el string a partir del patron dado\n",
    "nacionalidades[:10]"
   ]
  },
  {
   "cell_type": "code",
   "execution_count": null,
   "id": "81f884a8",
   "metadata": {},
   "outputs": [],
   "source": [
    "re.split(r'  ',nationality) == nationality.split('  ') "
   ]
  },
  {
   "cell_type": "code",
   "execution_count": null,
   "id": "ae07c7c8",
   "metadata": {
    "scrolled": true
   },
   "outputs": [],
   "source": [
    "conteo_nacionalidades = {}\n",
    "\n",
    "for nacion in nacionalidades:\n",
    "    coincidencias = re.findall(nacion, ' '.join(nacionalidades))\n",
    "    conteo_nacionalidades[nacion] = len(coincidencias)\n",
    "\n",
    "print(conteo_nacionalidades)"
   ]
  },
  {
   "cell_type": "code",
   "execution_count": null,
   "id": "32330bd8",
   "metadata": {},
   "outputs": [],
   "source": [
    "maxPais = max(conteo_nacionalidades.items(), key=lambda x: x[1])[0]\n",
    "maxPaisJugadores = max(conteo_nacionalidades.items(), key=lambda x: x[1])[1]\n",
    "\n",
    "print(f\"El pais: {maxPais} es el más representado en el dataset con {maxPaisJugadores} jugadores.\") #f-string"
   ]
  },
  {
   "cell_type": "code",
   "execution_count": null,
   "id": "dcbf99bd",
   "metadata": {},
   "outputs": [],
   "source": [
    "nacionalidades_ordenadas = sorted(conteo_nacionalidades.items(), key=lambda x: x[1], reverse=True)\n",
    "print(nacionalidades_ordenadas)"
   ]
  },
  {
   "cell_type": "code",
   "execution_count": null,
   "id": "496f7c5d",
   "metadata": {},
   "outputs": [],
   "source": [
    "names = '  '.join(str(value) for value in data['Name'])\n",
    "names[:100]"
   ]
  },
  {
   "cell_type": "code",
   "execution_count": null,
   "id": "5c264782",
   "metadata": {
    "scrolled": true
   },
   "outputs": [],
   "source": [
    "len(re.findall(\"George\",names))"
   ]
  },
  {
   "cell_type": "code",
   "execution_count": null,
   "id": "c1779028",
   "metadata": {},
   "outputs": [],
   "source": [
    "len(re.findall(\"Jorge\",names))"
   ]
  },
  {
   "cell_type": "code",
   "execution_count": null,
   "id": "50f0c5c6",
   "metadata": {},
   "outputs": [],
   "source": [
    "names = re.sub('George','Jorge',names)"
   ]
  },
  {
   "cell_type": "code",
   "execution_count": null,
   "id": "5c51c540",
   "metadata": {},
   "outputs": [],
   "source": [
    "len(re.findall(\"George\",names))"
   ]
  },
  {
   "cell_type": "code",
   "execution_count": null,
   "id": "dec6770c",
   "metadata": {},
   "outputs": [],
   "source": [
    "len(re.findall('\\d',names))"
   ]
  },
  {
   "cell_type": "code",
   "execution_count": null,
   "id": "43d46d1a",
   "metadata": {},
   "outputs": [],
   "source": [
    "names = re.sub('\\d','',names)\n",
    "names[:100]"
   ]
  }
 ],
 "metadata": {
  "kernelspec": {
   "display_name": "Python 3 (ipykernel)",
   "language": "python",
   "name": "python3"
  },
  "language_info": {
   "codemirror_mode": {
    "name": "ipython",
    "version": 3
   },
   "file_extension": ".py",
   "mimetype": "text/x-python",
   "name": "python",
   "nbconvert_exporter": "python",
   "pygments_lexer": "ipython3",
   "version": "3.11.3"
  }
 },
 "nbformat": 4,
 "nbformat_minor": 5
}
