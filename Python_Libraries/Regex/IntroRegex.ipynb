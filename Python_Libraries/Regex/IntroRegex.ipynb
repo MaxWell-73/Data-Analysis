{
 "cells": [
  {
   "cell_type": "markdown",
   "id": "75410977",
   "metadata": {},
   "source": [
    "# Regex\n",
    "\n",
    "\n",
    "Regex \"Regular expressions\" se usa para encontrar coincidencia \"match\" de patrones \"patterns\" en cadenas de texto. Las expresiones regulares, se escriben en un lenguaje de formato condensado.\n",
    "\n",
    "En general, una expresión regular se puede ver como un patrón dado a regex junto con unos datos. Luego, regex analiza los datos utilizando ese patrón y devuelve fragmentos de texto para su posterior manipulación."
   ]
  },
  {
   "cell_type": "code",
   "execution_count": 1,
   "id": "ddd7149b",
   "metadata": {},
   "outputs": [],
   "source": [
    "#re.search(pattern, string, flags=0)"
   ]
  },
  {
   "cell_type": "markdown",
   "id": "12d992b6",
   "metadata": {},
   "source": [
    "Por qué usar regex? \n",
    "\n",
    "* Para revisar si un patrón existe en los datos.\n",
    "* Para obtener todas las instancias de un patrón de los datos \n",
    "* Para limpiar los datos usando un patón, generalmente división de strings. "
   ]
  },
  {
   "cell_type": "markdown",
   "id": "99350282",
   "metadata": {},
   "source": [
    "### Documentación \n",
    "Python 3: https://docs.python.org/3/library/re.html \\\n",
    "Regex ampliado por terceros: https://pypi.org/project/regex/"
   ]
  },
  {
   "cell_type": "code",
   "execution_count": 1,
   "id": "44b3af03",
   "metadata": {},
   "outputs": [],
   "source": [
    "import re"
   ]
  },
  {
   "cell_type": "markdown",
   "id": "d46d2e85",
   "metadata": {},
   "source": [
    "### Funciones"
   ]
  },
  {
   "cell_type": "code",
   "execution_count": 3,
   "id": "e58f7b58",
   "metadata": {},
   "outputs": [],
   "source": [
    "texto = \"Hoy es un buen dia.\"\n",
    "patron = \"buen\"\n",
    "#texto = \"Hoy es un mal dia.\""
   ]
  },
  {
   "cell_type": "code",
   "execution_count": 4,
   "id": "54822192",
   "metadata": {
    "scrolled": true
   },
   "outputs": [
    {
     "name": "stdout",
     "output_type": "stream",
     "text": [
      ":)\n"
     ]
    }
   ],
   "source": [
    "if re.search(patron,texto): #re.search evalua si el patron esta en cualquier parte del texto\n",
    "    print(\":)\")\n",
    "else:\n",
    "    print(\":(\")"
   ]
  },
  {
   "cell_type": "code",
   "execution_count": 5,
   "id": "065c7c9b",
   "metadata": {
    "scrolled": true
   },
   "outputs": [
    {
     "name": "stdout",
     "output_type": "stream",
     "text": [
      "Hoy\n"
     ]
    }
   ],
   "source": [
    "if re.match(\"Hoy\",texto): #re.match evalua si el patron esta al inicio del texto\n",
    "    print(\"Hoy\")\n",
    "else:\n",
    "    print(\"Otro día\")"
   ]
  },
  {
   "cell_type": "code",
   "execution_count": 6,
   "id": "fac7b662",
   "metadata": {},
   "outputs": [
    {
     "data": {
      "text/plain": [
       "<re.Match object; span=(10, 14), match='buen'>"
      ]
     },
     "execution_count": 6,
     "metadata": {},
     "output_type": "execute_result"
    }
   ],
   "source": [
    "re.search(patron,texto) #Objeto de tipo re.Match, este objeto siempre contiene un valor booleano de verdadero\n",
    "#print(re.search(patron,texto))"
   ]
  },
  {
   "cell_type": "code",
   "execution_count": 7,
   "id": "500d88d6",
   "metadata": {
    "scrolled": true
   },
   "outputs": [
    {
     "name": "stdout",
     "output_type": "stream",
     "text": [
      "None\n"
     ]
    }
   ],
   "source": [
    "print(re.match(\"Ayer\",texto)) #Si no se encuentra el patrón no se devuelve ningún objeto"
   ]
  },
  {
   "cell_type": "code",
   "execution_count": 8,
   "id": "14b4a32d",
   "metadata": {},
   "outputs": [],
   "source": [
    "Texto = '''Bogotá, oficialmente bogotá, Distrito Capital (antiguamente, Santafé de bogotá y originalmente, Santafé),\n",
    "es la capital de la República de Colombia y del departamento de Cundinamarca.\n",
    "'''"
   ]
  },
  {
   "cell_type": "code",
   "execution_count": 9,
   "id": "db4a000d",
   "metadata": {
    "scrolled": true
   },
   "outputs": [
    {
     "data": {
      "text/plain": [
       "['Bogotá']"
      ]
     },
     "execution_count": 9,
     "metadata": {},
     "output_type": "execute_result"
    }
   ],
   "source": [
    "re.findall('Bogotá',Texto)#re.findall devuelve el patron tantas veces y en el orden en el que lo encuentra en el Texto"
   ]
  },
  {
   "cell_type": "code",
   "execution_count": 10,
   "id": "f131397d",
   "metadata": {
    "scrolled": true
   },
   "outputs": [
    {
     "name": "stdout",
     "output_type": "stream",
     "text": [
      "['Bogotá', 'bogotá', 'bogotá']\n"
     ]
    },
    {
     "data": {
      "text/plain": [
       "3"
      ]
     },
     "execution_count": 10,
     "metadata": {},
     "output_type": "execute_result"
    }
   ],
   "source": [
    "bogota = re.findall('Bogotá',Texto,re.IGNORECASE)\n",
    "print(bogota)\n",
    "len(bogota)\n",
    "\n",
    "#La bandera \"flag\" re.IGNORECASE o re.I vuelve a la función insensible a mayúsculas o minúsculas."
   ]
  },
  {
   "cell_type": "markdown",
   "id": "5e028ee0",
   "metadata": {},
   "source": [
    "### Caracteres Especiales "
   ]
  },
  {
   "cell_type": "code",
   "execution_count": 11,
   "id": "99d4fb49",
   "metadata": {},
   "outputs": [],
   "source": [
    "notas = \"55243154034005555324\""
   ]
  },
  {
   "cell_type": "code",
   "execution_count": 12,
   "id": "95b4d337",
   "metadata": {},
   "outputs": [
    {
     "data": {
      "text/plain": [
       "['5', '5', '5', '5', '5', '5', '5']"
      ]
     },
     "execution_count": 12,
     "metadata": {},
     "output_type": "execute_result"
    }
   ],
   "source": [
    "re.findall(\"5\",notas)"
   ]
  },
  {
   "cell_type": "code",
   "execution_count": 13,
   "id": "e9b921d6",
   "metadata": {},
   "outputs": [
    {
     "data": {
      "text/plain": [
       "['5']"
      ]
     },
     "execution_count": 13,
     "metadata": {},
     "output_type": "execute_result"
    }
   ],
   "source": [
    "re.findall(\"^5\",notas)#\"^\" marca el inicio de un string"
   ]
  },
  {
   "cell_type": "code",
   "execution_count": 14,
   "id": "2018e6bc",
   "metadata": {},
   "outputs": [
    {
     "data": {
      "text/plain": [
       "[]"
      ]
     },
     "execution_count": 14,
     "metadata": {},
     "output_type": "execute_result"
    }
   ],
   "source": [
    "re.findall(\"$5\",notas)#\"$\" marca el final de un string"
   ]
  },
  {
   "cell_type": "code",
   "execution_count": 15,
   "id": "f9fd519f",
   "metadata": {},
   "outputs": [
    {
     "data": {
      "text/plain": [
       "['54']"
      ]
     },
     "execution_count": 15,
     "metadata": {},
     "output_type": "execute_result"
    }
   ],
   "source": [
    "#Si quisieramos ver cuantos 5 y 4 hay, escribir 54 no funcionaria pues esto devolveria unicamente cuando los dos numeros estan \n",
    "#juntos y ordenados de la forma \"54\"\n",
    "re.findall(\"54\",notas)"
   ]
  },
  {
   "cell_type": "code",
   "execution_count": 16,
   "id": "690ceeb8",
   "metadata": {},
   "outputs": [
    {
     "data": {
      "text/plain": [
       "['5', '5', '4', '5', '4', '4', '5', '5', '5', '5', '4']"
      ]
     },
     "execution_count": 16,
     "metadata": {},
     "output_type": "execute_result"
    }
   ],
   "source": [
    "#Por ello, usamos un conjunto de caracteres\n",
    "re.findall(\"[54]\",notas)#\"[]\" indica un conjunto de caracteres"
   ]
  },
  {
   "cell_type": "code",
   "execution_count": 17,
   "id": "2b3b535c",
   "metadata": {
    "scrolled": true
   },
   "outputs": [
    {
     "data": {
      "text/plain": [
       "['2', '1', '0', '0', '0', '2']"
      ]
     },
     "execution_count": 17,
     "metadata": {},
     "output_type": "execute_result"
    }
   ],
   "source": [
    "re.findall(\"[0-2]\",notas)#Tambien podemos indicar rangos de letras ej: [a-z] o numeros ej: [0-9]"
   ]
  },
  {
   "cell_type": "code",
   "execution_count": 18,
   "id": "b9d88a6a",
   "metadata": {
    "scrolled": true
   },
   "outputs": [
    {
     "data": {
      "text/plain": [
       "['43', '53']"
      ]
     },
     "execution_count": 18,
     "metadata": {},
     "output_type": "execute_result"
    }
   ],
   "source": [
    "re.findall(\"[5|4][3]\",notas)# \"|\" or"
   ]
  },
  {
   "cell_type": "code",
   "execution_count": 19,
   "id": "efea7edd",
   "metadata": {},
   "outputs": [
    {
     "data": {
      "text/plain": [
       "['2', '4', '3', '1', '4', '0', '3', '4', '0', '0', '3', '2', '4']"
      ]
     },
     "execution_count": 19,
     "metadata": {},
     "output_type": "execute_result"
    }
   ],
   "source": [
    "re.findall(\"[^5]\",notas)# \"^\" not"
   ]
  },
  {
   "cell_type": "code",
   "execution_count": 20,
   "id": "ae990c61",
   "metadata": {
    "scrolled": false
   },
   "outputs": [
    {
     "data": {
      "text/plain": [
       "[]"
      ]
     },
     "execution_count": 20,
     "metadata": {},
     "output_type": "execute_result"
    }
   ],
   "source": [
    "#Cuidado! Algunos caracteres dentro de [] cambian su significado \n",
    "re.findall(\"^[^5]\",notas)"
   ]
  },
  {
   "cell_type": "markdown",
   "id": "0fcb4883",
   "metadata": {},
   "source": [
    "### Cuantificadores\n",
    "Cuando no se especifica el cuantificador por defecto es 1, como en los ejemplos anteriores"
   ]
  },
  {
   "cell_type": "code",
   "execution_count": 21,
   "id": "c4682676",
   "metadata": {},
   "outputs": [
    {
     "data": {
      "text/plain": [
       "['55', '5555']"
      ]
     },
     "execution_count": 21,
     "metadata": {},
     "output_type": "execute_result"
    }
   ],
   "source": [
    "re.findall(\"5{2,5}\",notas) #repeticiones dentro de un rango"
   ]
  },
  {
   "cell_type": "code",
   "execution_count": null,
   "id": "34d06fb5",
   "metadata": {},
   "outputs": [],
   "source": [
    "re.findall(\"5{2}\",notas) #exacto numero de repeticiones"
   ]
  },
  {
   "cell_type": "code",
   "execution_count": null,
   "id": "64cee620",
   "metadata": {},
   "outputs": [],
   "source": [
    "#Cuidado! En Regex la sintaxis debe ser rigurosa\n",
    "re.findall(\"5{2 }\",notas) "
   ]
  },
  {
   "cell_type": "code",
   "execution_count": null,
   "id": "26679864",
   "metadata": {},
   "outputs": [],
   "source": [
    "re.findall(\"54*\",notas)#\"*\" Indica que el string puede estar seguido 0 o más veces por el último carácter "
   ]
  },
  {
   "cell_type": "code",
   "execution_count": null,
   "id": "0e650269",
   "metadata": {},
   "outputs": [],
   "source": [
    "re.findall(\"543*\",notas)"
   ]
  },
  {
   "cell_type": "code",
   "execution_count": null,
   "id": "05e82412",
   "metadata": {},
   "outputs": [],
   "source": [
    "re.findall(\"54+\",notas) #\"*\" Indica que el string debe estar seguido 1 o más veces por el último carácter "
   ]
  },
  {
   "cell_type": "code",
   "execution_count": null,
   "id": "93fbc302",
   "metadata": {},
   "outputs": [],
   "source": [
    "re.findall(\"5555\",notas)"
   ]
  },
  {
   "cell_type": "code",
   "execution_count": null,
   "id": "a6ee704e",
   "metadata": {},
   "outputs": [],
   "source": [
    "re.findall(\"55?\",notas) #\"?\" Indica que el string debe estar seguido 0 o 1 vez por el el último carácter "
   ]
  },
  {
   "cell_type": "markdown",
   "id": "906a8e13",
   "metadata": {},
   "source": [
    "### Ejemplo práctico"
   ]
  },
  {
   "cell_type": "code",
   "execution_count": 2,
   "id": "be7dffb4",
   "metadata": {
    "scrolled": true
   },
   "outputs": [
    {
     "data": {
      "text/html": [
       "<div>\n",
       "<style scoped>\n",
       "    .dataframe tbody tr th:only-of-type {\n",
       "        vertical-align: middle;\n",
       "    }\n",
       "\n",
       "    .dataframe tbody tr th {\n",
       "        vertical-align: top;\n",
       "    }\n",
       "\n",
       "    .dataframe thead th {\n",
       "        text-align: right;\n",
       "    }\n",
       "</style>\n",
       "<table border=\"1\" class=\"dataframe\">\n",
       "  <thead>\n",
       "    <tr style=\"text-align: right;\">\n",
       "      <th></th>\n",
       "      <th>Unnamed: 0</th>\n",
       "      <th>ID</th>\n",
       "      <th>Name</th>\n",
       "      <th>Age</th>\n",
       "      <th>Photo</th>\n",
       "      <th>Nationality</th>\n",
       "      <th>Flag</th>\n",
       "      <th>Overall</th>\n",
       "      <th>Potential</th>\n",
       "      <th>Club</th>\n",
       "      <th>...</th>\n",
       "      <th>Position</th>\n",
       "      <th>Joined</th>\n",
       "      <th>Loaned From</th>\n",
       "      <th>Contract Valid Until</th>\n",
       "      <th>Height(cm.)</th>\n",
       "      <th>Weight(lbs.)</th>\n",
       "      <th>Release Clause(£)</th>\n",
       "      <th>Kit Number</th>\n",
       "      <th>Best Overall Rating</th>\n",
       "      <th>Year_Joined;</th>\n",
       "    </tr>\n",
       "  </thead>\n",
       "  <tbody>\n",
       "    <tr>\n",
       "      <th>0</th>\n",
       "      <td>0</td>\n",
       "      <td>209658.0</td>\n",
       "      <td>L. Goretzka</td>\n",
       "      <td>27.0</td>\n",
       "      <td>https://cdn.sofifa.net/players/209/658/23_60.png</td>\n",
       "      <td>Germany</td>\n",
       "      <td>https://cdn.sofifa.net/flags/de.png</td>\n",
       "      <td>87.0</td>\n",
       "      <td>88.0</td>\n",
       "      <td>FC Bayern München</td>\n",
       "      <td>...</td>\n",
       "      <td>SUB</td>\n",
       "      <td>2018-07-01</td>\n",
       "      <td>None</td>\n",
       "      <td>2026.0</td>\n",
       "      <td>189.0</td>\n",
       "      <td>180.810</td>\n",
       "      <td>157000000.0</td>\n",
       "      <td>8.0</td>\n",
       "      <td>0.0</td>\n",
       "      <td>2018;</td>\n",
       "    </tr>\n",
       "    <tr>\n",
       "      <th>1</th>\n",
       "      <td>1</td>\n",
       "      <td>212198.0</td>\n",
       "      <td>Bruno Fernandes</td>\n",
       "      <td>27.0</td>\n",
       "      <td>https://cdn.sofifa.net/players/212/198/23_60.png</td>\n",
       "      <td>Portugal</td>\n",
       "      <td>https://cdn.sofifa.net/flags/pt.png</td>\n",
       "      <td>86.0</td>\n",
       "      <td>87.0</td>\n",
       "      <td>Manchester United</td>\n",
       "      <td>...</td>\n",
       "      <td>LCM</td>\n",
       "      <td>2020-01-30</td>\n",
       "      <td>None</td>\n",
       "      <td>2026.0</td>\n",
       "      <td>179.0</td>\n",
       "      <td>152.145</td>\n",
       "      <td>155000000.0</td>\n",
       "      <td>8.0</td>\n",
       "      <td>0.0</td>\n",
       "      <td>2020;</td>\n",
       "    </tr>\n",
       "    <tr>\n",
       "      <th>2</th>\n",
       "      <td>2</td>\n",
       "      <td>224334.0</td>\n",
       "      <td>M. Acuña</td>\n",
       "      <td>30.0</td>\n",
       "      <td>https://cdn.sofifa.net/players/224/334/23_60.png</td>\n",
       "      <td>Argentina</td>\n",
       "      <td>https://cdn.sofifa.net/flags/ar.png</td>\n",
       "      <td>85.0</td>\n",
       "      <td>85.0</td>\n",
       "      <td>Sevilla FC</td>\n",
       "      <td>...</td>\n",
       "      <td>LB</td>\n",
       "      <td>2020-09-14</td>\n",
       "      <td>None</td>\n",
       "      <td>2024.0</td>\n",
       "      <td>172.0</td>\n",
       "      <td>152.145</td>\n",
       "      <td>97700000.0</td>\n",
       "      <td>19.0</td>\n",
       "      <td>0.0</td>\n",
       "      <td>2020;</td>\n",
       "    </tr>\n",
       "    <tr>\n",
       "      <th>3</th>\n",
       "      <td>3</td>\n",
       "      <td>192985.0</td>\n",
       "      <td>K. De Bruyne</td>\n",
       "      <td>31.0</td>\n",
       "      <td>https://cdn.sofifa.net/players/192/985/23_60.png</td>\n",
       "      <td>Belgium</td>\n",
       "      <td>https://cdn.sofifa.net/flags/be.png</td>\n",
       "      <td>91.0</td>\n",
       "      <td>91.0</td>\n",
       "      <td>Manchester City</td>\n",
       "      <td>...</td>\n",
       "      <td>RCM</td>\n",
       "      <td>2015-08-30</td>\n",
       "      <td>None</td>\n",
       "      <td>2025.0</td>\n",
       "      <td>181.0</td>\n",
       "      <td>154.350</td>\n",
       "      <td>198900000.0</td>\n",
       "      <td>17.0</td>\n",
       "      <td>0.0</td>\n",
       "      <td>2015;</td>\n",
       "    </tr>\n",
       "    <tr>\n",
       "      <th>4</th>\n",
       "      <td>4</td>\n",
       "      <td>224232.0</td>\n",
       "      <td>N. Barella</td>\n",
       "      <td>25.0</td>\n",
       "      <td>https://cdn.sofifa.net/players/224/232/23_60.png</td>\n",
       "      <td>Italy</td>\n",
       "      <td>https://cdn.sofifa.net/flags/it.png</td>\n",
       "      <td>86.0</td>\n",
       "      <td>89.0</td>\n",
       "      <td>Inter</td>\n",
       "      <td>...</td>\n",
       "      <td>RCM</td>\n",
       "      <td>2020-09-01</td>\n",
       "      <td>None</td>\n",
       "      <td>2026.0</td>\n",
       "      <td>172.0</td>\n",
       "      <td>149.940</td>\n",
       "      <td>154400000.0</td>\n",
       "      <td>23.0</td>\n",
       "      <td>0.0</td>\n",
       "      <td>2020;</td>\n",
       "    </tr>\n",
       "    <tr>\n",
       "      <th>5</th>\n",
       "      <td>5</td>\n",
       "      <td>212622.0</td>\n",
       "      <td>J. Kimmich</td>\n",
       "      <td>27.0</td>\n",
       "      <td>https://cdn.sofifa.net/players/212/622/23_60.png</td>\n",
       "      <td>Germany</td>\n",
       "      <td>https://cdn.sofifa.net/flags/de.png</td>\n",
       "      <td>89.0</td>\n",
       "      <td>90.0</td>\n",
       "      <td>FC Bayern München</td>\n",
       "      <td>...</td>\n",
       "      <td>RDM</td>\n",
       "      <td>2015-07-01</td>\n",
       "      <td>None</td>\n",
       "      <td>2025.0</td>\n",
       "      <td>177.0</td>\n",
       "      <td>165.375</td>\n",
       "      <td>182000000.0</td>\n",
       "      <td>6.0</td>\n",
       "      <td>0.0</td>\n",
       "      <td>2015;</td>\n",
       "    </tr>\n",
       "    <tr>\n",
       "      <th>6</th>\n",
       "      <td>6</td>\n",
       "      <td>197445.0</td>\n",
       "      <td>D. Alaba</td>\n",
       "      <td>30.0</td>\n",
       "      <td>https://cdn.sofifa.net/players/197/445/23_60.png</td>\n",
       "      <td>Austria</td>\n",
       "      <td>https://cdn.sofifa.net/flags/at.png</td>\n",
       "      <td>86.0</td>\n",
       "      <td>86.0</td>\n",
       "      <td>Real Madrid CF</td>\n",
       "      <td>...</td>\n",
       "      <td>LCB</td>\n",
       "      <td>2021-07-01</td>\n",
       "      <td>None</td>\n",
       "      <td>2026.0</td>\n",
       "      <td>180.0</td>\n",
       "      <td>171.990</td>\n",
       "      <td>113800000.0</td>\n",
       "      <td>4.0</td>\n",
       "      <td>0.0</td>\n",
       "      <td>2021;</td>\n",
       "    </tr>\n",
       "    <tr>\n",
       "      <th>7</th>\n",
       "      <td>7</td>\n",
       "      <td>187961.0</td>\n",
       "      <td>22 Paulinho</td>\n",
       "      <td>32.0</td>\n",
       "      <td>https://cdn.sofifa.net/players/187/961/22_60.png</td>\n",
       "      <td>Brazil</td>\n",
       "      <td>https://cdn.sofifa.net/flags/br.png</td>\n",
       "      <td>83.0</td>\n",
       "      <td>83.0</td>\n",
       "      <td>Al Ahli</td>\n",
       "      <td>...</td>\n",
       "      <td>LCM</td>\n",
       "      <td>2021-07-22</td>\n",
       "      <td>None</td>\n",
       "      <td>2024.0</td>\n",
       "      <td>183.0</td>\n",
       "      <td>176.400</td>\n",
       "      <td>48500000.0</td>\n",
       "      <td>15.0</td>\n",
       "      <td>0.0</td>\n",
       "      <td>2021;</td>\n",
       "    </tr>\n",
       "    <tr>\n",
       "      <th>8</th>\n",
       "      <td>8</td>\n",
       "      <td>208333.0</td>\n",
       "      <td>E. Can</td>\n",
       "      <td>28.0</td>\n",
       "      <td>https://cdn.sofifa.net/players/208/333/23_60.png</td>\n",
       "      <td>Germany</td>\n",
       "      <td>https://cdn.sofifa.net/flags/de.png</td>\n",
       "      <td>82.0</td>\n",
       "      <td>82.0</td>\n",
       "      <td>Borussia Dortmund</td>\n",
       "      <td>...</td>\n",
       "      <td>SUB</td>\n",
       "      <td>2020-02-18</td>\n",
       "      <td>None</td>\n",
       "      <td>2024.0</td>\n",
       "      <td>186.0</td>\n",
       "      <td>189.630</td>\n",
       "      <td>51900000.0</td>\n",
       "      <td>23.0</td>\n",
       "      <td>0.0</td>\n",
       "      <td>2020;</td>\n",
       "    </tr>\n",
       "    <tr>\n",
       "      <th>9</th>\n",
       "      <td>9</td>\n",
       "      <td>210514.0</td>\n",
       "      <td>João Cancelo</td>\n",
       "      <td>28.0</td>\n",
       "      <td>https://cdn.sofifa.net/players/210/514/23_60.png</td>\n",
       "      <td>Portugal</td>\n",
       "      <td>https://cdn.sofifa.net/flags/pt.png</td>\n",
       "      <td>88.0</td>\n",
       "      <td>88.0</td>\n",
       "      <td>Manchester City</td>\n",
       "      <td>...</td>\n",
       "      <td>LB</td>\n",
       "      <td>2019-08-07</td>\n",
       "      <td>None</td>\n",
       "      <td>2027.0</td>\n",
       "      <td>182.0</td>\n",
       "      <td>163.170</td>\n",
       "      <td>152600000.0</td>\n",
       "      <td>7.0</td>\n",
       "      <td>0.0</td>\n",
       "      <td>2019;</td>\n",
       "    </tr>\n",
       "  </tbody>\n",
       "</table>\n",
       "<p>10 rows × 31 columns</p>\n",
       "</div>"
      ],
      "text/plain": [
       "  Unnamed: 0        ID             Name   Age  \\\n",
       "0          0  209658.0      L. Goretzka  27.0   \n",
       "1          1  212198.0  Bruno Fernandes  27.0   \n",
       "2          2  224334.0         M. Acuña  30.0   \n",
       "3          3  192985.0     K. De Bruyne  31.0   \n",
       "4          4  224232.0       N. Barella  25.0   \n",
       "5          5  212622.0       J. Kimmich  27.0   \n",
       "6          6  197445.0         D. Alaba  30.0   \n",
       "7          7  187961.0      22 Paulinho  32.0   \n",
       "8          8  208333.0           E. Can  28.0   \n",
       "9          9  210514.0     João Cancelo  28.0   \n",
       "\n",
       "                                              Photo Nationality  \\\n",
       "0  https://cdn.sofifa.net/players/209/658/23_60.png     Germany   \n",
       "1  https://cdn.sofifa.net/players/212/198/23_60.png    Portugal   \n",
       "2  https://cdn.sofifa.net/players/224/334/23_60.png   Argentina   \n",
       "3  https://cdn.sofifa.net/players/192/985/23_60.png     Belgium   \n",
       "4  https://cdn.sofifa.net/players/224/232/23_60.png       Italy   \n",
       "5  https://cdn.sofifa.net/players/212/622/23_60.png     Germany   \n",
       "6  https://cdn.sofifa.net/players/197/445/23_60.png     Austria   \n",
       "7  https://cdn.sofifa.net/players/187/961/22_60.png      Brazil   \n",
       "8  https://cdn.sofifa.net/players/208/333/23_60.png     Germany   \n",
       "9  https://cdn.sofifa.net/players/210/514/23_60.png    Portugal   \n",
       "\n",
       "                                  Flag  Overall  Potential               Club  \\\n",
       "0  https://cdn.sofifa.net/flags/de.png     87.0       88.0  FC Bayern München   \n",
       "1  https://cdn.sofifa.net/flags/pt.png     86.0       87.0  Manchester United   \n",
       "2  https://cdn.sofifa.net/flags/ar.png     85.0       85.0         Sevilla FC   \n",
       "3  https://cdn.sofifa.net/flags/be.png     91.0       91.0    Manchester City   \n",
       "4  https://cdn.sofifa.net/flags/it.png     86.0       89.0              Inter   \n",
       "5  https://cdn.sofifa.net/flags/de.png     89.0       90.0  FC Bayern München   \n",
       "6  https://cdn.sofifa.net/flags/at.png     86.0       86.0     Real Madrid CF   \n",
       "7  https://cdn.sofifa.net/flags/br.png     83.0       83.0            Al Ahli   \n",
       "8  https://cdn.sofifa.net/flags/de.png     82.0       82.0  Borussia Dortmund   \n",
       "9  https://cdn.sofifa.net/flags/pt.png     88.0       88.0    Manchester City   \n",
       "\n",
       "   ... Position      Joined  Loaned From  Contract Valid Until Height(cm.)  \\\n",
       "0  ...      SUB  2018-07-01         None                2026.0       189.0   \n",
       "1  ...      LCM  2020-01-30         None                2026.0       179.0   \n",
       "2  ...       LB  2020-09-14         None                2024.0       172.0   \n",
       "3  ...      RCM  2015-08-30         None                2025.0       181.0   \n",
       "4  ...      RCM  2020-09-01         None                2026.0       172.0   \n",
       "5  ...      RDM  2015-07-01         None                2025.0       177.0   \n",
       "6  ...      LCB  2021-07-01         None                2026.0       180.0   \n",
       "7  ...      LCM  2021-07-22         None                2024.0       183.0   \n",
       "8  ...      SUB  2020-02-18         None                2024.0       186.0   \n",
       "9  ...       LB  2019-08-07         None                2027.0       182.0   \n",
       "\n",
       "   Weight(lbs.)  Release Clause(£)  Kit Number Best Overall Rating  \\\n",
       "0       180.810        157000000.0         8.0                 0.0   \n",
       "1       152.145        155000000.0         8.0                 0.0   \n",
       "2       152.145         97700000.0        19.0                 0.0   \n",
       "3       154.350        198900000.0        17.0                 0.0   \n",
       "4       149.940        154400000.0        23.0                 0.0   \n",
       "5       165.375        182000000.0         6.0                 0.0   \n",
       "6       171.990        113800000.0         4.0                 0.0   \n",
       "7       176.400         48500000.0        15.0                 0.0   \n",
       "8       189.630         51900000.0        23.0                 0.0   \n",
       "9       163.170        152600000.0         7.0                 0.0   \n",
       "\n",
       "  Year_Joined;  \n",
       "0        2018;  \n",
       "1        2020;  \n",
       "2        2020;  \n",
       "3        2015;  \n",
       "4        2020;  \n",
       "5        2015;  \n",
       "6        2021;  \n",
       "7        2021;  \n",
       "8        2020;  \n",
       "9        2019;  \n",
       "\n",
       "[10 rows x 31 columns]"
      ]
     },
     "execution_count": 2,
     "metadata": {},
     "output_type": "execute_result"
    }
   ],
   "source": [
    "import pandas as pd\n",
    "data = pd.read_csv(r'CLEAN_FIFA23_official_data.csv')\n",
    "data.head(10)"
   ]
  },
  {
   "cell_type": "code",
   "execution_count": 3,
   "id": "e4b4c9cd",
   "metadata": {},
   "outputs": [],
   "source": [
    "nationality = '  '.join(str(value) for value in data['Nationality'])"
   ]
  },
  {
   "cell_type": "code",
   "execution_count": 4,
   "id": "046c766b",
   "metadata": {
    "scrolled": true
   },
   "outputs": [
    {
     "data": {
      "text/plain": [
       "\"Germany  Portugal  Argentina  Belgium  Italy  Germany  Austria  Brazil  Germany  Portugal  Italy  Croatia  Serbia  Spain  Spain  Argentina  Croatia  Netherlands  France  Colombia  Serbia  England  Uruguay  Morocco  Croatia  Egypt  Italy  Spain  England  Spain  France  Portugal  Spain  Algeria  Brazil  Ukraine  United States  Brazil  Spain  Côte d'Ivoire  France  Poland  Chile  Uruguay  France  England  France  Germany  France  Germany  Netherlands  France  England  Spain  England  England  Argentina  Italy  Colombia  Uruguay  Senegal  Argentina  Brazil  Spain  Belgium  Brazil  Portugal  Spain  Spain  Portugal  England  Central African Republic  England  Italy  Denmark  France  Nigeria  Spain  Mexico  Argentina  Austria  Turkey  Portugal  Argentina  Germany  Portugal  Canada  Denmark  Netherlands  France  France  Spain  Portugal  Brazil  Spain  Argentina  Spain  Argentina  Brazil  Italy  Portugal  France  Brazil  Wales  Germany  Austria  Germany  Germany  France  Scotland  Italy  England  Belgium  Brazil  Spain  Brazil  Brazil  Italy  France  Romania  Argentina  England  Argentina  Belgium  France  Germany  Germany  Argentina  Spain  Czech Republic  Ghana  France  Argentina  Brazil  Croatia  Korea Republic  Germany  Argentina  Spain  Spain  Bosnia and Herzegovina  Argentina  Italy  Brazil  Italy  Mali  Slovakia  Brazil  Brazil  Spain  Spain  Italy  Ukraine  Argentina  Brazil  Spain  Spain  Croatia  Netherlands  Côte d'Ivoire  Brazil  Brazil  Spain  Italy  Scotland  France  Portugal  France  Netherlands  France  Poland  Armenia  France  Spain  England  Spain  Mexico  Argentina  Germany  France  Norway  Italy  Argentina  Switzerland  Brazil  England  France  Brazil  Netherlands  England  Côte d'Ivoire  Czech Republic  Netherlands  Brazil  Argentina  Spain  Portugal  Germany  Croatia  England  Spain  Portugal  Uruguay  Cameroon  Netherlands  Netherlands  Scotland  Portugal  Belgium  Brazil  Portugal  Austria  Brazil  Norway  Spain  Mali  Spain  Denmark  Spain  Brazil  Peru  Argentina  Uruguay  Serbia  Czech Republic  England  Colombia  Italy  Argentina  Spain  Morocco  Portugal  England  Brazil  Spain  Spain  Czech Republic  Portugal  Argentina  United States  Jamaica  France  England  Spain  France  Netherlands  Italy  England  Brazil  Brazil  Germany  England  Poland  Chile  Brazil  Zambia  Brazil  Brazil  Scotland  Belgium  Switzerland  Spain  Guinea  Uruguay  France  Ukraine  Italy  Scotland  Germany  Mexico  Slovakia  Italy  Brazil  Italy  Senegal  France  Sweden  France  Brazil  Italy  France  Spain  Brazil  England  Denmark  Norway  Spain  Turkey  Netherlands  North Macedonia  Portugal  France  Turkey  Spain  France  Nigeria  France  Netherlands  Germany  Guinea  Brazil  Côte d'Ivoire  Argentina  Germany  France  Brazil  Bosnia and Herzegovina  Russia  Netherlands  Croatia  Croatia  Spain  Mexico  Spain  Tunisia  Malta  Spain  England  Brazil  England  Nigeria  Germany  Côte d'Ivoire  Brazil  France  Slovakia  Angola  Italy  Morocco  Uruguay  Brazil  Republic of Ireland  Brazil  Argentina  Ecuador  Czech Republic  Brazil  Germany  England  Portugal  Argentina  Benin  Turkey  Portugal  Italy  Mexico  France  England  Czech Republic  Argentina  England  Romania  Peru  England  Germany  Paraguay  Germany  Bosnia and Herzegovina  Denmark  France  Netherlands  France  Montenegro  Spain  Australia  Spain  Serbia  Portugal  Belgium  Russia  Brazil  France  Portugal  Belgium  Czech Republic  Croatia  Brazil  Scotland  Argentina  France  Comoros  Colombia  Brazil  Uruguay  Uruguay  Netherlands  Portugal  Germany  Spain  Italy  Uruguay  Algeria  Spain  Belgium  Italy  Netherlands  Argentina  Germany  Italy  Italy  Scotland  Algeria  Switzerland  Spain  Germany  Switzerland  Argentina  Spain  Germany  Austria  Portugal  Netherlands  Gabon  Czech Republic  Germany  Netherlands  Spain  Mali  Serbia  Austria  Turkey  Iceland  Spain  Ghana  England  Morocco  Spain  Spain  Spain  Denmark  Italy  England  Brazil  Switzerland  Brazil  Ghana  Chile  Norway  Croatia  Chile  England  France  Serbia  Paraguay  France  Ukraine  Spain  Spain  Ghana  Italy  France  France  Turkey  Turkey  Colombia  Portugal  Portugal  Mexico  Slovenia  France  Italy  Colombia  Poland  Austria  France  Portugal  England  Poland  England  Argentina  Morocco  Argentina  Japan  Belgium  Brazil  Argentina  Spain  Netherlands  Switzerland  France  Argentina  Italy  Brazil  Croatia  Brazil  Brazil  Italy  Spain  Spain  United States  France  Mali  Netherlands  Brazil  Paraguay  Netherlands  France  Croatia  Belgium  France  Netherlands  Uruguay  England  Italy  Brazil  Germany  Serbia  Russia  Czech Republic  England  Mexico  Uruguay  Denmark  Spain  Spain  Croatia  Czech Republic  Croatia  France  France  England  Spain  Croatia  Netherlands  Portugal  Spain  Spain  Belgium  Spain  Colombia  Israel  Argentina  Colombia  Paraguay  Algeria  China PR  North Macedonia  Brazil  Portugal  Austria  Belgium  Portugal  Mexico  Nigeria  Scotland  Morocco  Serbia  England  Brazil  Ukraine  Italy  Mexico  Armenia  Slovakia  France  Spain  Peru  Italy  Mexico  Brazil  Germany  Uruguay  England  Germany  Spain  France  Germany  Slovenia  Italy  Croatia  Argentina  Germany  Venezuela  Argentina  Gabon  Liberia  Uruguay  Sweden  Portugal  Netherlands  France  France  Germany  Serbia  Brazil  France  Netherlands  Serbia  Sweden  Greece  Portugal  France  Germany  Switzerland  Nigeria  Argentina  Portugal  France  Norway  Croatia  Germany  France  France  Mexico  Brazil  Romania  Italy  Portugal  England  England  Venezuela  Scotland  Poland  England  Bulgaria  Brazil  Netherlands  Netherlands  France  France  France  Argentina  England  Slovakia  France  Spain  Spain  Greece  Germany  Norway  Argentina  Spain  Brazil  Germany  Ghana  Cameroon  Argentina  Brazil  Netherlands  Senegal  Colombia  Turkey  Czech Republic  Netherlands  Spain  England  Spain  Spain  Brazil  France  Honduras  Greece  Spain  Brazil  Croatia  Portugal  Brazil  Brazil  Greece  Algeria  France  Turkey  Saudi Arabia  Côte d'Ivoire  France  Austria  Norway  France  Uruguay  Germany  Curacao  Argentina  Italy  Netherlands  Spain  Austria  Slovakia  England  Mexico  Chile  Senegal  Algeria  England  North Macedonia  Mali  Argentina  Mexico  Brazil  Algeria  Republic of Ireland  Belgium  Italy  Switzerland  Germany  Germany  Australia  Italy  Spain  Germany  United States  Brazil  Slovenia  Uruguay  Spain  Belgium  Cameroon  Spain  Brazil  Côte d'Ivoire  Republic of Ireland  Argentina  Côte d'Ivoire  Ghana  Portugal  Spain  Brazil  Italy  Belgium  Japan  Argentina  Netherlands  Uruguay  Denmark  France  Brazil  Brazil  Russia  Croatia  Czech Republic  Norway  Netherlands  Argentina  Portugal  France  Austria  Belgium  Brazil  Argentina  Norway  Colombia  Spain  Ecuador  Mexico  France  Brazil  France  Colombia  Spain  Belgium  Brazil  Brazil  Serbia  Portugal  Uruguay  Argentina  Argentina  England  England  Croatia  Brazil  England  Romania  Brazil  Czech Republic  Denmark  Netherlands  Nigeria  Denmark  Portugal  Belgium  England  Northern Ireland  Japan  Spain  France  England  Italy  Italy  Russia  Portugal  Spain  Italy  Netherlands  Mexico  England  Croatia  Germany  Argentina  Ukraine  Germany  Sweden  Spain  Germany  Netherlands  Italy  Germany  Guinea Bissau  Portugal  France  United States  Argentina  Argentina  Turkey  Tunisia  Argentina  Brazil  Canada  Ukraine  Ukraine  Argentina  Spain  Wales  United States  Poland  Spain  England  Austria  Kosovo  Wales  Ghana  Bosnia and Herzegovina  Mexico  Greece  Morocco  Hungary  Germany  Paraguay  Argentina  England  England  Spain  Spain  Uruguay  Spain  Poland  United States  Netherlands  England  Iceland  Paraguay  England  France  Switzerland  Turkey  Italy  Scotland  Switzerland  Spain  Portugal  Brazil  Turkey  Finland  Spain  Portugal  Switzerland  Spain  England  Curacao  Australia  Serbia  Denmark  Germany  Netherlands  Brazil  Algeria  Italy  Greece  France  Portugal  Belgium  Austria  Argentina  France  Netherlands  Spain  Argentina  Belgium  Argentina  Germany  Spain  Netherlands  Argentina  Argentina  Argentina  Turkey  Mexico  France  Brazil  Argentina  Spain  France  Denmark  Jamaica  Costa Rica  Netherlands  Mexico  Scotland  Netherlands  Argentina  Argentina  Morocco  Portugal  Brazil  England  Italy  Paraguay  Brazil  France  Colombia  France  Spain  Brazil  Brazil  Brazil  Argentina  Cameroon  Paraguay  Cameroon  France  Ukraine  Uruguay  Belgium  Spain  Germany  Turkey  Ghana  United States  United States  Albania  England  Germany  Argentina  Côte d'Ivoire  Spain  England  Paraguay  Italy  England  Belgium  Norway  Spain  Hungary  Germany  France  Congo DR  France  Norway  Colombia  England  Congo DR  Belgium  Spain  Argentina  England  Switzerland  Czech Republic  Japan  France  England  England  Turkey  Switzerland  Argentina  Argentina  Spain  Brazil  Portugal  Colombia  Argentina  Czech Republic  Peru  England  Denmark  Iran  England  Belgium  Mozambique  Germany  Norway  Croatia  Argentina  Brazil  Netherlands  Italy  Brazil  Colombia  Croatia  Scotland  France  Germany  Brazil  Germany  Wales  Portugal  Portugal  Slovakia  France  Sweden  China PR  Australia  Russia  Argentina  Suriname  England  Northern Ireland  Mexico  France  France  Japan  Portugal  Portugal  Mexico  Spain  Netherlands  Argentina  Czech Republic  Germany  Spain  Italy  Portugal  Argentina  Germany  Switzerland  Brazil  England  Israel  France  France  England  Argentina  Denmark  Netherlands  Spain  Côte d'Ivoire  Cape Verde Islands  Côte d'Ivoire  Turkey  Uruguay  Morocco  France  Spain  England  Argentina  Argentina  France  Spain  Morocco  France  Spain  Mexico  Brazil  Mali  Egypt  France  Italy  Bolivia  Netherlands  Albania  Spain  Denmark  Argentina  Poland  France  England  Bosnia and Herzegovina  Japan  Scotland  Germany  France  Spain  Sweden  England  Spain  Greece  England  France  Portugal  Argentina  Mali  Iran  Argentina  Spain  France  Mexico  Republic of Ireland  North Macedonia  Madagascar  Brazil  Nigeria  France  Uruguay  Scotland  England  Spain  Belgium  Belgium  Switzerland  England  France  Turkey  Norway  Chile  Jamaica  Argentina  Scotland  Honduras  Mexico  Portugal  Argentina  Australia  Argentina  Cameroon  Côte d'Ivoire  Spain  Scotland  France  Scotland  Spain  Portugal  Cameroon  Korea Republic  Colombia  Mexico  Germany  Germany  United States  Argentina  Belgium  Mali  Wales  Congo DR  England  Greece  Argentina  Serbia  Argentina  Bosnia and Herzegovina  Mexico  Spain  Uruguay  Senegal  Brazil  Morocco  Ghana  Croatia  Norway  Argentina  Germany  Argentina  France  Denmark  Spain  Chile  Denmark  Romania  New Zealand  Russia  Burkina Faso  Nigeria  Italy  France  Slovakia  Switzerland  England  Australia  Spain  Switzerland  Netherlands  Brazil  Spain  Brazil  Portugal  Italy  Algeria  Switzerland  Peru  Bosnia and Herzegovina  Republic of Ireland  Serbia  Scotland  Austria  Italy  Argentina  Brazil  Colombia  Slovakia  France  Brazil  Spain  France  Netherlands  Nigeria  Germany  Senegal  Dominican Republic  Senegal  Ecuador  Spain  Argentina  France  Brazil  Brazil  Hungary  Norway  England  France  Colombia  Côte d'Ivoire  Netherlands  Austria  Montenegro  England  Italy  Ghana  Ecuador  Italy  Argentina  England  Sweden  Spain  Germany  England  Canada  Kosovo  Sweden  Nigeria  Kazakhstan  Spain  Gabon  New Zealand  France  Mali  Switzerland  England  Mexico  Congo DR  Italy  Tunisia  France  France  France  England  Germany  Colombia  Spain  Bosnia and Herzegovina  Brazil  Argentina  Croatia  Paraguay  Uruguay  Spain  Spain  Algeria  England  Germany  Uruguay  England  Argentina  Italy  Turkey  Brazil  Germany  Germany  Portugal  Argentina  Cameroon  Argentina  Italy  Japan  Brazil  Argentina  Croatia  Germany  Sweden  Japan  Norway  Austria  Netherlands  Mexico  England  Argentina  Portugal  Argentina  France  Austria  Italy  Wales  Italy  Cape Verde Islands  Egypt  Germany  Gabon  Uruguay  England  England  United States  Côte d'Ivoire  Syria  England  Sweden  Colombia  Spain  Japan  Japan  Austria  Luxembourg  Nigeria  Germany  Jamaica  Japan  Belgium  Netherlands  Wales  Chile  Norway  Sweden  France  Scotland  Morocco  China PR  Kenya  Korea Republic  Paraguay  Mali  Colombia  Côte d'Ivoire  Chile  Romania  Argentina  Slovakia  Spain  Nigeria  Spain  Brazil  Spain  Cameroon  Gabon  Denmark  Spain  France  Netherlands  Ecuador  Brazil  Germany  Côte d'Ivoire  Switzerland  Ukraine  Austria  Argentina  England  United States  Iceland  Brazil  Brazil  Hungary  Argentina  United States  England  Netherlands  France  Spain  France  Sweden  Portugal  Portugal  England  France  Argentina  Spain  Czech Republic  England  Netherlands  Zimbabwe  Côte d'Ivoire  Argentina  Haiti  Norway  England  Australia  England  Colombia  France  Italy  Uruguay  Senegal  Turkey  England  China PR  France  Nigeria  Spain  England  Czech Republic  Ghana  Korea Republic  England  Portugal  Portugal  Argentina  Sweden  England  Brazil  Spain  Spain  Finland  Spain  England  Spain  Sweden  Cameroon  Turkey  China PR  Nigeria  Germany  France  Uzbekistan  Ghana  Argentina  Ukraine  Spain  Venezuela  Austria  Greece  Austria  South Africa  Brazil  Spain  Portugal  Germany  Cyprus  Spain  Poland  Spain  Japan  Ecuador  United States  England  South Africa  France  Saudi Arabia  Albania  Korea Republic  Spain  Croatia  Greece  Côte d'Ivoire  Ecuador  Suriname  Nigeria  England  England  Russia  France  Norway  Wales  Algeria  Congo DR  Spain  Spain  Colombia  United States  Czech Republic  Italy  Mexico  Albania  Argentina  Brazil  Argentina  Guinea Bissau  Spain  Japan  Serbia  Canada  Brazil  Slovenia  North Macedonia  Spain  Argentina  England  Cameroon  France  Spain  Spain  Ukraine  Brazil  Colombia  Uruguay  Morocco  Serbia  Brazil  Congo DR  Brazil  Peru  England  Colombia  Japan  Netherlands  France  Portugal  Spain  Argentina  Spain  Qatar  Germany  Norway  Germany  Germany  Korea Republic  Ecuador  Ecuador  Morocco  France  Spain  Norway  France  Senegal  France  Austria  Spain  Serbia  Brazil  Spain  Mexico  Ecuador  Portugal  Ghana  Slovenia  Netherlands  Ghana  France  Austria  Spain  Ecuador  Peru  Croatia  Burkina Faso  Colombia  France  Argentina  Brazil  Sweden  Sweden  Greece  Spain  North Macedonia  Argentina  Germany  England  England  Spain  Brazil  Ecuador  Italy  Slovakia  Nigeria  Mali  Spain  Republic of Ireland  Spain  Canada  Serbia  Brazil  England  Scotland  Belgium  Brazil  Austria  Italy  Spain  United States  Egypt  Scotland  Iran  Germany  Germany  Scotland  Italy  Italy  England  Senegal  Spain  Algeria  Portugal  Turkey  Spain  Argentina  Montenegro  France  Serbia  France  England  Argentina  Denmark  Argentina  England  England  Korea Republic  England  Germany  Italy  Iceland  Costa Rica  Israel  Brazil  Scotland  Australia  Côte d'Ivoire  Japan  France  Côte d'Ivoire  Hungary  Mali  United States  Germany  Argentina  Spain  Slovakia  Netherlands  Australia  Argentina  Brazil  Greece  Ecuador  Spain  Scotland  Argentina  Brazil  Croatia  Uruguay  Spain  Iceland  Brazil  Denmark  Netherlands  Argentina  Equatorial Guinea  Senegal  Germany  Uruguay  Colombia  Sweden  Algeria  Brazil  Italy  Germany  Russia  Nigeria  Italy  Wales  Tunisia  Spain  Brazil  France  Ecuador  France  Netherlands  Libya  Sweden  Argentina  Turkey  Germany  Austria  Poland  Spain  Kosovo  Spain  United States  Netherlands  Turkey  South Africa  Nigeria  Brazil  Uruguay  Guinea Bissau  Nigeria  Japan  Netherlands  Austria  Belgium  Croatia  Japan  Japan  Italy  Spain  Germany  Cameroon  Italy  Mali  Algeria  Uruguay  Belgium  Germany  Thailand  Spain  Portugal  Italy  France  Russia  Portugal  Germany  Tunisia  Cameroon  France  Spain  Peru  Brazil  Portugal  Belgium  Republic of Ireland  Argentina  Scotland  Denmark  Mexico  Nigeria  Cape Verde Islands  Argentina  Argentina  Argentina  England  Netherlands  Morocco  Spain  Ecuador  Portugal  Japan  Germany  Spain  Netherlands  Bosnia and Herzegovina  Iceland  Egypt  Ghana  Czech Republic  France  Brazil  Brazil  England  Norway  Argentina  Brazil  Italy  Czech Republic  Honduras  Bolivia  Portugal  Argentina  Brazil  France  Korea Republic  France  Germany  England  Argentina  Czech Republic  Algeria  Denmark  Switzerland  Sweden  Argentina  Brazil  Switzerland  Denmark  Italy  Paraguay  France  England  Portugal  France  Uruguay  France  Egypt  Venezuela  Brazil  Spain  Argentina  Denmark  Qatar  England  Peru  England  England  Uruguay  United States  Argentina  Germany  Denmark  Spain  Italy  Ghana  Sweden  Israel  Spain  France  Spain  Spain  France  Morocco  Brazil  England  Germany  France  Germany  England  Spain  Spain  Czech Republic  Morocco  France  Portugal  Uruguay  Congo DR  Spain  Japan  Argentina  France  Colombia  France  France  Germany  France  Germany  Turkey  Australia  Uruguay  Denmark  Italy  Brazil  Spain  United States  Cape Verde Islands  New Zealand  England  China PR  Venezuela  Morocco  Switzerland  Chile  Cameroon  Spain  Cameroon  France  Kazakhstan  England  Brazil  Brazil  Colombia  Germany  Spain  Italy  Morocco  Brazil  United States  Brazil  Uruguay  Argentina  Denmark  Morocco  Argentina  Switzerland  Netherlands  Algeria  Australia  Korea Republic  Brazil  Brazil  Scotland  United States  Uruguay  Colombia  Italy  Serbia  Germany  Italy  Spain  France  Italy  Brazil  Spain  Romania  Argentina  United States  Argentina  Spain  Madagascar  Turkey  Portugal  Wales  Mali  Egypt  Uruguay  Netherlands  Mexico  Spain  Honduras  Senegal  England  Brazil  Japan  Kosovo  Togo  England  Spain  Cape Verde Islands  England  Netherlands  Germany  Argentina  Equatorial Guinea  Brazil  Portugal  Spain  Trinidad and Tobago  Uruguay  France  Austria  Norway  Portugal  Colombia  France  Spain  Venezuela  Italy  Uruguay  Italy  Congo DR  France  Japan  Brazil  England  Ghana  China PR  England  Senegal  France  Nigeria  Ecuador  Spain  Spain  Morocco  Morocco  France  Ghana  Slovenia  Romania  Mexico  France  France  Czech Republic  France  Israel  Paraguay  England  Italy  Albania  Iceland  Kosovo  Spain  Albania  Chile  Germany  Colombia  Argentina  Chile  Denmark  Spain  France  Hungary  France  Netherlands  Morocco  Netherlands  England  Spain  Congo DR  Chile  Brazil  Morocco  Italy  Tunisia  Brazil  Liechtenstein  Colombia  Chile  Netherlands  New Zealand  Japan  England  Norway  Australia  Denmark  Spain  Netherlands  Denmark  Ghana  Belgium  Spain  Gambia  Scotland  Serbia  Netherlands  Spain  Bolivia  Morocco  Argentina  Canada  Brazil  Spain  Russia  Wales  Argentina  Italy  England  Brazil  England  Japan  Brazil  Portugal  Ecuador  Argentina  Romania  Brazil  Cape Verde Islands  Japan  Republic of Ireland  Brazil  Senegal  Argentina  Germany  Germany  Switzerland  Argentina  Brazil  Spain  Argentina  England  Egypt  Denmark  Brazil  Argentina  England  Brazil  Netherlands  England  Morocco  England  Scotland  Italy  Georgia  Honduras  Netherlands  Italy  Brazil  Portugal  France  Portugal  Congo DR  Bolivia  Scotland  England  Spain  Switzerland  Brazil  Denmark  Qatar  Algeria  Argentina  Nigeria  Brazil  Bosnia and Herzegovina  Argentina  Italy  Italy  England  Mali  France  Netherlands  Argentina  Spain  Côte d'Ivoire  Czech Republic  England  Senegal  Cameroon  Germany  Argentina  Croatia  Norway  Italy  Uruguay  Brazil  Italy  Hungary  Austria  Germany  England  Paraguay  Brazil  Japan  Sweden  Brazil  Argentina  Philippines  Portugal  Senegal  England  France  England  Argentina  Spain  Argentina  Italy  Uruguay  Argentina  Côte d'Ivoire  Mexico  France  United States  Burundi  Netherlands  Colombia  France  Uruguay  United Arab Emirates  Spain  Italy  Japan  Germany  Albania  Congo DR  Uruguay  Kosovo  Morocco  Argentina  United States  Honduras  Wales  United States  Netherlands  Spain  Colombia  Brazil  Scotland  Argentina  England  Serbia  Turkey  Uruguay  Japan  Grenada  Senegal  Switzerland  Belgium  Benin  Uruguay  England  Brazil  Iraq  Spain  France  England  France  Brazil  Brazil  Panama  Argentina  Argentina  Mexico  Spain  Israel  Spain  Netherlands  Brazil  Paraguay  Uruguay  Italy  Ecuador  Netherlands  Italy  England  Colombia  Italy  Poland  Slovakia  Mexico  Germany  Uruguay  Canada  France  Argentina  Germany  Spain  Portugal  Switzerland  Italy  England  Belgium  Portugal  Belgium  Argentina  Netherlands  Brazil  Brazil  Egypt  Spain  Japan  Sweden  Portugal  France  Congo DR  Argentina  Austria  Colombia  Albania  Northern Ireland  Paraguay  United States  Italy  Slovenia  Germany  Togo  Romania  Uruguay  Japan  Egypt  Netherlands  England  Austria  Germany  Croatia  Belgium  France  Colombia  England  Brazil  Switzerland  England  Argentina  Chile  Spain  Republic of Ireland  Tunisia  Germany  Spain  United Arab Emirates  Germany  Germany  Ecuador  Greece  England  Italy  Argentina  Austria  Ghana  France  Germany  Colombia  England  Argentina  Spain  Brazil  Spain  Denmark  Spain  Belgium  Brazil  Guinea  Colombia  Mali  Morocco  Russia  England  Algeria  Sweden  South Africa  England  France  Spain  Paraguay  Denmark  England  Denmark  Uruguay  France  Czech Republic  Paraguay  Turkey  Denmark  Argentina  France  Mexico  Japan  Italy  Brazil  Colombia  Serbia  England  Republic of Ireland  Netherlands  Guinea  Spain  Denmark  Germany  Belgium  Spain  Argentina  Argentina  Iran  Spain  Ecuador  Republic of Ireland  Ecuador  Austria  Portugal  Argentina  Mexico  Portugal  Spain  Spain  Spain  Senegal  United States  Croatia  Colombia  Portugal  England  England  Germany  United States  Germany  Finland  France  Peru  England  England  France  Australia  Scotland  Denmark  Spain  England  Austria  Algeria  Venezuela  Denmark  Israel  Slovenia  Japan  Armenia  Hungary  Senegal  Romania  England  Denmark  Belgium  Germany  Argentina  Romania  Kenya  Bolivia  Germany  Slovenia  Peru  Germany  France  England  Australia  Spain  Spain  Senegal  Guinea Bissau  Zambia  Norway  Poland  Zimbabwe  Switzerland  Côte d'Ivoire  Montenegro  Italy  Ghana  Scotland  Italy  Uzbekistan  Argentina  Peru  Costa Rica  Turkey  Brazil  Brazil  Brazil  Luxembourg  France  Poland  Congo DR  Austria  Spain  Portugal  Austria  Hungary  United States  South Africa  Serbia  Japan  France  England  Netherlands  Scotland  Ecuador  France  Spain  England  Argentina  England  Peru  Algeria  Portugal  Argentina  Spain  England  France  Mexico  Greece  Germany  France  Canada  England  Turkey  Algeria  Poland  Argentina  Peru  Germany  France  Peru  Spain  Republic of Ireland  Senegal  Turkey  Japan  Congo DR  France  Argentina  England  Bolivia  Nigeria  Argentina  Germany  Poland  Argentina  Australia  Japan  Germany  Uruguay  Argentina  Russia  Ecuador  Georgia  Turkey  Argentina  Colombia  Brazil  Spain  Japan  Morocco  England  England  Argentina  England  Slovakia  Uruguay  Senegal  Italy  Croatia  Netherlands  England  South Africa  Uruguay  Spain  Austria  Turkey  Netherlands  Argentina  Brazil  Portugal  Italy  Colombia  France  Spain  North Macedonia  Iceland  Belgium  Korea Republic  Australia  Italy  Greece  Portugal  France  Austria  Croatia  Germany  England  France  Greece  Italy  Romania  Austria  Colombia  Japan  Guinea  Canada  Scotland  Spain  Italy  Argentina  Japan  England  Chile  Portugal  Spain  France  Jamaica  Qatar  Brazil  Brazil  Netherlands  England  Belgium  Guinea Bissau  Spain  Kosovo  Japan  Spain  England  France  Colombia  Israel  England  Colombia  Germany  Italy  Slovakia  England  Switzerland  Uruguay  Portugal  Norway  Ecuador  Peru  Egypt  Spain  Austria  Brazil  Argentina  Japan  Norway  Hungary  Saudi Arabia  Ecuador  Russia  Brazil  Spain  North Macedonia  Turkey  Colombia  Brazil  Senegal  France  Suriname  England  Nigeria  Germany  Spain  Japan  France  Germany  Brazil  Northern Ireland  Norway  Turkey  Netherlands  Norway  Montenegro  Italy  Denmark  Venezuela  England  Brazil  England  Japan  Uruguay  Japan  Uruguay  Spain  Denmark  Brazil  Spain  Hungary  Bulgaria  Republic of Ireland  China PR  Republic of Ireland  Belgium  China PR  Senegal  Senegal  Australia  Republic of Ireland  Colombia  Poland  Colombia  Bosnia and Herzegovina  Portugal  Nigeria  Austria  Brazil  Switzerland  England  Slovenia  France  France  Bosnia and Herzegovina  Spain  Israel  Germany  Germany  Cameroon  Spain  Malaysia  England  Wales  Nigeria  England  England  Portugal  Costa Rica  Japan  Finland  Brazil  Brazil  France  Colombia  Austria  Cameroon  Peru  Italy  Bosnia and Herzegovina  United States  France  England  Croatia  France  Sweden  Denmark  Argentina  Greece  Denmark  England  Chile  Japan  Croatia  Czech Republic  Ecuador  Germany  Republic of Ireland  Portugal  Germany  Scotland  Japan  Norway  Norway  England  Spain  Peru  Turkey  Italy  Venezuela  Japan  Uruguay  Argentina  Turkey  Germany  Spain  France  Italy  Nigeria  Côte d'Ivoire  Wales  Portugal  Italy  Ecuador  Mexico  Chile  Japan  Ecuador  Argentina  Republic of Ireland  Japan  Cameroon  Poland  Germany  Venezuela  England  Spain  Romania  Chile  Brazil  Greece  Portugal  Peru  Germany  Scotland  Czech Republic  Belgium  Republic of Ireland  Italy  Italy  Chile  Japan  Bolivia  England  England  Greece  Denmark  Netherlands  Bosnia and Herzegovina  Italy  Ukraine  Morocco  England  China PR  Italy  Australia  Argentina  France  Ecuador  Netherlands  Paraguay  Serbia  England  Wales  Germany  Turkey  Egypt  Peru  Germany  Germany  New Zealand  Spain  Wales  France  Denmark  Canada  Bolivia  England  Korea Republic  France  England  Bolivia  Ghana  Turkey  Brazil  Guinea  Portugal  Albania  Bosnia and Herzegovina  Argentina  France  Netherlands  Venezuela  Germany  Ukraine  Netherlands  Chile  Korea Republic  Mexico  Greece  Mexico  Italy  Georgia  Spain  Argentina  Austria  Colombia  England  Uruguay  Romania  Sweden  Spain  Spain  England  Luxembourg  Belgium  Spain  Montenegro  Qatar  Uruguay  Finland  Greece  Austria  Argentina  England  Italy  Republic of Ireland  Austria  Belgium  Germany  China PR  New Zealand  Germany  Portugal  Romania  Germany  France  Argentina  Venezuela  Serbia  Mexico  Japan  England  Belgium  Germany  Qatar  England  Germany  Northern Ireland  Argentina  Norway  Congo DR  Czech Republic  Serbia  Slovenia  Germany  Argentina  Côte d'Ivoire  Norway  South Africa  Argentina  Turkey  England  Argentina  South Africa  France  France  Bulgaria  Chile  South Africa  Jamaica  Ghana  Suriname  Republic of Ireland  Korea Republic  England  Italy  Congo DR  Croatia  Colombia  Georgia  Egypt  Norway  Kazakhstan  Benin  Scotland  France  Spain  Germany  Ecuador  Tunisia  Uruguay  England  France  Chile  Turkey  Italy  Italy  England  England  Netherlands  Algeria  Argentina  Uruguay  Spain  Cameroon  Netherlands  Portugal  Japan  Spain  Netherlands  Germany  England  Peru  Croatia  Ghana  Japan  Argentina  Portugal  Brazil  Belgium  Egypt  Bolivia  Bosnia and Herzegovina  Peru  Uruguay  Peru  Russia  Italy  Spain  Peru  Germany  England  Israel  Argentina  Japan  France  Republic of Ireland  England  France  England  Denmark  France  England  France  Hungary  Spain  Peru  Poland  Portugal  China PR  Spain  Turkey  Venezuela  Brazil  France  Poland  Peru  Argentina  England  France  England  Spain  England  Brazil  Turkey  Germany  Argentina  Congo DR  Nigeria  Spain  Algeria  Paraguay  Italy  Albania  Germany  Canada  Bulgaria  South Africa  England  Brazil  Argentina  England  Denmark  Argentina  England  England  Morocco  England  Brazil  Bolivia  Uzbekistan  Brazil  Slovenia  Senegal  Brazil  England  Germany  Nigeria  Republic of Ireland  Uruguay  Argentina  Greece  Republic of Ireland  Italy  Spain  Russia  Brazil  Qatar  France  England  Belgium  Turkey  Brazil  Argentina  Peru  France  Germany  Jamaica  Colombia  Senegal  Uruguay  Paraguay  Australia  Spain  Uruguay  Italy  Brazil  Romania  Republic of Ireland  Ghana  England  France  Serbia  Germany  Moldova  Spain  Senegal  France  Ecuador  Colombia  Finland  Argentina  Portugal  France  Spain  Argentina  England  Russia  England  Serbia  Ecuador  England  Iceland  Japan  Argentina  Wales  Italy  England  Netherlands  Korea Republic  Colombia  Scotland  Mexico  France  England  Argentina  Peru  Germany  Uruguay  Spain  Romania  Ukraine  Brazil  Uruguay  Albania  Spain  Germany  United States  Iceland  Japan  Japan  England  Spain  Italy  Netherlands  Denmark  England  France  Spain  Germany  Chile  Portugal  Uruguay  Mali  Israel  Senegal  England  Denmark  Romania  Portugal  Paraguay  Wales  Nigeria  Belgium  Denmark  Portugal  Ecuador  Uruguay  Uruguay  Portugal  Georgia  Germany  France  Italy  England  Uruguay  Nigeria  Switzerland  Argentina  Ukraine  Japan  France  Spain  France  England  England  England  Japan  Germany  Brazil  Germany  England  Norway  Spain  Uruguay  Guinea Bissau  Brazil  Switzerland  Côte d'Ivoire  England  Norway  Peru  Finland  England  Denmark  United States  Argentina  Ecuador  Mexico  Spain  Italy  United States  Ecuador  France  Argentina  Norway  Sweden  England  Côte d'Ivoire  Gambia  Uruguay  Netherlands  Spain  England  Scotland  Croatia  Brazil  Wales  Spain  Uruguay  Venezuela  Australia  France  Poland  Ecuador  Japan  Spain  Belgium  Netherlands  Colombia  Ecuador  Grenada  Algeria  Venezuela  England  Venezuela  Uruguay  Brazil  Norway  Germany  Nigeria  Turkey  Belgium  Slovenia  Northern Ireland  France  Senegal  Germany  France  Denmark  Bolivia  Spain  England  Brazil  Nigeria  Norway  Cameroon  England  Portugal  France  Peru  Ecuador  Portugal  Australia  Colombia  Brazil  Norway  Paraguay  Argentina  Georgia  England  Brazil  Bolivia  Portugal  Spain  Congo  Brazil  Zambia  Croatia  Argentina  Ghana  Brazil  Germany  Bolivia  Finland  England  England  Germany  Korea Republic  Argentina  Spain  South Africa  Portugal  Hungary  Italy  Turkey  Japan  Wales  Sweden  Panama  Colombia  France  Wales  Senegal  Scotland  Spain  Peru  France  Curacao  Luxembourg  England  Sweden  Netherlands  Spain  Morocco  France  Norway  Croatia  Uruguay  Wales  Ecuador  Argentina  France  Japan  Czech Republic  Brazil  Spain  Gambia  Germany  Scotland  Republic of Ireland  Argentina  Norway  Venezuela  Costa Rica  Paraguay  Congo DR  Morocco  Germany  France  England  Spain  Mexico  Algeria  Slovenia  England  Austria  France  England  Republic of Ireland  Argentina  Wales  France  Bolivia  Colombia  Ecuador  Czech Republic  Greece  Turkey  Spain  Italy  Poland  Scotland  Republic of Ireland  Spain  Sweden  Ecuador  Colombia  Côte d'Ivoire  England  Czech Republic  Venezuela  Spain  Comoros  France  Nigeria  Serbia  Belgium  Germany  Brazil  Spain  Greece  Spain  Netherlands  Senegal  Iceland  Uruguay  Spain  Australia  Georgia  Poland  Bolivia  England  Argentina  Peru  Germany  England  Brazil  Poland  Spain  Argentina  Germany  Colombia  France  France  Bolivia  England  Kosovo  Ecuador  Italy  Norway  Ghana  Colombia  Uruguay  Germany  Côte d'Ivoire  Ghana  Argentina  Hungary  Germany  Congo DR  Netherlands  Mali  Spain  United States  Argentina  Spain  United States  Germany  Cameroon  New Zealand  Italy  Italy  Russia  Romania  Ecuador  Austria  South Africa  Netherlands  Spain  Spain  Germany  Wales  Argentina  Iraq  Korea Republic  Sweden  Denmark  United States  Romania  Germany  England  Scotland  Austria  England  Nigeria  Japan  Venezuela  Serbia  England  Brazil  Spain  Netherlands  Scotland  Germany  France  Argentina  India  England  France  Germany  Austria  New Zealand  Jordan  Spain  Russia  England  Argentina  France  France  France  France  Germany  Mexico  Portugal  Republic of Ireland  France  Italy  Argentina  New Zealand  Japan  Korea Republic  Argentina  Venezuela  England  Italy  England  Peru  New Zealand  Spain  Colombia  China PR  Bolivia  Argentina  Netherlands  England  England  Venezuela  Germany  England  Italy  Turkey  Serbia  Turkey  Nigeria  Haiti  Greece  Uruguay  Venezuela  England  Portugal  Togo  Argentina  Cameroon  Sweden  Montenegro  Japan  England  Argentina  Uruguay  Japan  Algeria  Germany  South Africa  Argentina  Angola  Italy  Brazil  Uruguay  Italy  France  China PR  Argentina  Spain  England  Argentina  Italy  Austria  England  Italy  England  Denmark  Argentina  Colombia  Netherlands  Nigeria  Italy  Spain  Portugal  Spain  Denmark  Argentina  Côte d'Ivoire  Peru  Czech Republic  Republic of Ireland  Bosnia and Herzegovina  Iceland  Argentina  England  Germany  Italy  Mali  Netherlands  Argentina  England  Germany  Germany  Republic of Ireland  Poland  Angola  Croatia  Spain  Austria  Paraguay  Belgium  Australia  Netherlands  Côte d'Ivoire  Romania  Uruguay  Spain  Cape Verde Islands  Uruguay  Denmark  Germany  Japan  Uruguay  Brazil  Portugal  Iceland  Argentina  Argentina  Argentina  Germany  Turkey  Germany  Peru  England  Greece  Germany  Switzerland  Argentina  Greece  Italy  Germany  Italy  Iceland  Ecuador  Netherlands  France  Netherlands  Slovenia  Argentina  Turkey  Hungary  Sweden  Portugal  United States  Argentina  Romania  Bolivia  England  Belgium  Spain  Brazil  Denmark  Germany  Netherlands  China PR  Spain  Côte d'Ivoire  Japan  Congo  Serbia  Italy  Côte d'Ivoire  Argentina  Uruguay  Serbia  England  France  Germany  Germany  Denmark  Chile  Belgium  Netherlands  Norway  Ecuador  Argentina  Austria  Argentina  Burkina Faso  Nigeria  United States  England  Italy  Colombia  Northern Ireland  Scotland  Gambia  Spain  Gabon  Argentina  Portugal  South Africa  Jamaica  Paraguay  Brazil  Spain  Cameroon  Germany  Argentina  Ghana  Croatia  Italy  Denmark  Italy  Uruguay  Peru  Croatia  Spain  Japan  Portugal  Turkey  England  Senegal  France  Argentina  Brazil  Brazil  Italy  France  Italy  Croatia  Spain  Italy  United States  Japan  Russia  Spain  Norway  Kenya  Germany  Norway  Bolivia  Brazil  Ecuador  England  Germany  Spain  Ghana  Nigeria  England  Argentina  France  France  Brazil  Ecuador  Netherlands  France  England  Serbia  Bolivia  Brazil  Brazil  Romania  Scotland  England  Ecuador  Japan  France  England  United States  England  Germany  Spain  Portugal  Japan  Brazil  Qatar  Brazil  Colombia  Ghana  Chile  United States  Mexico  Ecuador  Argentina  Côte d'Ivoire  Ukraine  Suriname  England  Ecuador  Chile  France  Peru  Burkina Faso  Netherlands  England  Russia  Sweden  France  Colombia  Greece  Turkey  Italy  Canada  Spain  Portugal  Argentina  Belgium  Northern Ireland  Kuwait  Paraguay  Argentina  United States  Georgia  Belgium  Spain  Switzerland  Mexico  Germany  England  Switzerland  Brazil  Morocco  Brazil  England  Togo  Greece  Colombia  Greece  Spain  Republic of Ireland  Croatia  Belgium  England  Republic of Ireland  Serbia  Argentina  Scotland  North Macedonia  Australia  England  Bolivia  Argentina  Sweden  Argentina  Brazil  Uruguay  Germany  Uruguay  Peru  Argentina  Chile  Uruguay  Brazil  Chile  Japan  Spain  Bolivia  Spain  Brazil  France  Peru  Spain  New Zealand  Cameroon  France  Bolivia  Nigeria  Greece  Austria  Sweden  Germany  Republic of Ireland  Congo DR  France  Argentina  Spain  Argentina  Korea Republic  Italy  Japan  Republic of Ireland  Uruguay  Romania  France  Sweden  Korea Republic  France  Nigeria  France  Spain  Germany  Antigua and Barbuda  Spain  Czech Republic  Spain  Denmark  Belgium  Mali  France  Brazil  Mexico  Venezuela  Spain  Turkey  Germany  Ecuador  France  Bolivia  England  Colombia  Algeria  Venezuela  England  Turkey  Iran  Ecuador  England  Croatia  Sweden  Colombia  Ghana  Colombia  Wales  Georgia  Spain  England  Denmark  Nigeria  Scotland  Sweden  Republic of Ireland  Spain  Brazil  Argentina  France  Argentina  England  Turkey  North Macedonia  Brazil  Netherlands  Ecuador  Argentina  Northern Ireland  Côte d'Ivoire  Ecuador  France  Japan  Wales  Gambia  England  Italy  England  Tunisia  United States  Peru  Bolivia  Brazil  Jordan  Spain  Poland  England  Denmark  Australia  Portugal  Cameroon  Ecuador  Panama  Germany  England  Argentina  Cuba  Denmark  England  Qatar  Venezuela  Brazil  Bulgaria  Argentina  China PR  Portugal  Cape Verde Islands  Colombia  Norway  England  Austria  Argentina  Portugal  Ecuador  Argentina  Scotland  Germany  Portugal  England  Cameroon  Saudi Arabia  Togo  Costa Rica  Germany  Netherlands  Greece  Germany  France  Netherlands  United States  Colombia  Argentina  Italy  Peru  Argentina  Saudi Arabia  China PR  Ecuador  Germany  Spain  Sweden  Mali  Ecuador  Russia  France  Montenegro  Poland  Turkey  Peru  Ecuador  France  Netherlands  Belgium  Wales  Italy  England  Norway  Germany  Argentina  Benin  Venezuela  England  Venezuela  Belgium  Netherlands  Morocco  France  Jamaica  Argentina  Wales  Scotland  Belgium  Uruguay  Korea Republic  Uruguay  Montenegro  Ecuador  Scotland  Italy  Morocco  Nigeria  Ecuador  Spain  France  Venezuela  England  Wales  Brazil  Paraguay  Norway  Brazil  Belgium  Bosnia and Herzegovina  Argentina  Spain  Poland  Croatia  Sweden  Switzerland  Australia  Ecuador  Argentina  Spain  Italy  Ecuador  Venezuela  Paraguay  England  Bulgaria  Brazil  Poland  Spain  Scotland  Venezuela  United States  Korea Republic  Bosnia and Herzegovina  Germany  Argentina  Italy  Ghana  Argentina  Portugal  Spain  England  Austria  Croatia  Turkey  Greece  Korea Republic  Uruguay  Poland  Venezuela  Benin  Cape Verde Islands  Netherlands  Paraguay  Portugal  Bulgaria  Bolivia  Spain  Congo DR  Ecuador  France  France  Cameroon  England  Ecuador  Italy  Spain  Spain  Brazil  Italy  Netherlands  Spain  Germany  Brazil  Paraguay  Argentina  Scotland  Japan  Japan  England  Spain  Venezuela  Turkey  Colombia  Bolivia  Brazil  Belgium  Argentina  Slovenia  France  Ecuador  Cameroon  Uruguay  Peru  Italy  Ghana  Germany  Portugal  Ecuador  Norway  Ghana  Brazil  England  Portugal  Czech Republic  Portugal  Portugal  Scotland  Italy  Czech Republic  United States  Ecuador  United States  Curacao  Brazil  Egypt  England  Croatia  Portugal  Italy  Morocco  Argentina  Argentina  Northern Ireland  Cameroon  Netherlands  Hungary  Gambia  Belgium  Turkey  Brazil  Netherlands  New Zealand  Bolivia  France  Switzerland  Spain  Congo DR  Portugal  Argentina  Brazil  Ecuador  Spain  Argentina  Belgium  Netherlands  Scotland  Netherlands  Argentina  Italy  France  Thailand  Portugal  England  Peru  Bulgaria  France  Paraguay  Portugal  France  Serbia  Italy  Peru  Spain  Peru  Germany  Italy  Portugal  England  Germany  Chile  Kosovo  Spain  Slovenia  Uruguay  Spain  Austria  Italy  England  Germany  Germany  Peru  France  Luxembourg  Spain  Poland  England  Ecuador  Belgium  Denmark  Netherlands  England  England  Netherlands  Brazil  England  Republic of Ireland  Italy  Senegal  Angola  Venezuela  Slovakia  Argentina  Germany  Mexico  Ecuador  France  Guinea  Armenia  Uruguay  France  Spain  Ukraine  Spain  Belgium  Slovakia  Argentina  Australia  Republic of Ireland  Germany  Argentina  Germany  Spain  Italy  Switzerland  Congo DR  Paraguay  England  England  Japan  Brazil  Germany  Venezuela  Uruguay  Argentina  Jamaica  Uruguay  Spain  Egypt  Netherlands  Italy  England  France  Scotland  Switzerland  Venezuela  England  Japan  Vietnam  Germany  Romania  Germany  Italy  Colombia  Peru  Spain  Brazil  Germany  Bolivia  Norway  Guinea  Burkina Faso  Poland  France  Japan  Venezuela  Angola  Ecuador  Brazil  Argentina  Uruguay  Argentina  Korea Republic  Kosovo  Ecuador  Norway  Spain  Uruguay  Venezuela  Switzerland  Portugal  France  Scotland  Paraguay  England  Côte d'Ivoire  Brazil  Netherlands  Spain  Uruguay  England  Uruguay  Kosovo  Albania  United States  Scotland  Morocco  Ecuador  Czech Republic  Spain  Netherlands  Costa Rica  Paraguay  England  Italy  Spain  Netherlands  Germany  Colombia  Brazil  Sweden  Albania  Portugal  Ecuador  Argentina  Portugal  Germany  France  Italy  China PR  Argentina  Ecuador  Republic of Ireland  Portugal  Colombia  England  Russia  Uruguay  Mexico  France  Albania  Uruguay  Poland  Spain  Switzerland  Argentina  Japan  Peru  Denmark  Romania  Germany  Switzerland  Argentina  Brazil  Germany  Paraguay  Poland  Ecuador  Slovakia  Slovenia  Republic of Ireland  Germany  England  Sweden  Switzerland  Italy  Brazil  Kosovo  Poland  Romania  Croatia  Portugal  Netherlands  England  Brazil  Austria  Sweden  Serbia  Thailand  Portugal  Poland  Chile  Uruguay  Kosovo  Argentina  Congo  Japan  Australia  Venezuela  Croatia  Japan  Argentina  Argentina  New Zealand  Germany  Uruguay  Belgium  United States  Germany  Ghana  Republic of Ireland  Croatia  United States  Kosovo  Serbia  Italy  Turkey  Japan  Norway  Brazil  England  England  South Africa  Brazil  Norway  Denmark  England  Scotland  Belgium  Bolivia  England  Japan  Croatia  Austria  France  Italy  Ghana  France  Colombia  Argentina  Norway  Argentina  Brazil  Japan  Brazil  Italy  Algeria  Scotland  Romania  Spain  Spain  England  Kosovo  Albania  Peru  Slovakia  England  Paraguay  Chile  Brazil  Italy  Venezuela  Poland  Mali  Argentina  Norway  Croatia  Spain  Italy  Australia  Uruguay  Greece  Saudi Arabia  Spain  Spain  Belgium  Venezuela  Mexico  England  Turkey  Austria  Germany  Paraguay  Argentina  Argentina  Slovenia  Spain  Portugal  Germany  England  Côte d'Ivoire  Peru  Venezuela  Nigeria  Albania  Germany  Brazil  Portugal  Germany  Burkina Faso  France  Uruguay  France  Spain  France  Argentina  Montenegro  Denmark  Argentina  England  Italy  Bulgaria  Brazil  Italy  France  Guinea  Argentina  Bolivia  Ecuador  Algeria  Argentina  South Africa  Spain  Bolivia  Peru  Croatia  Portugal  Wales  Senegal  Ecuador  Brazil  Curacao  Uruguay  Germany  Belgium  Colombia  Ecuador  Iceland  United States  Peru  Congo DR  Uruguay  Uruguay  Albania  Nigeria  Brazil  Ukraine  France  Nigeria  Germany  England  Spain  Korea DPR  Argentina  Portugal  Argentina  United States  Ecuador  Argentina  Germany  England  Brazil  Germany  Argentina  Republic of Ireland  Brazil  Panama  Greece  North Macedonia  Turkey  France  Poland  Argentina  Norway  Finland  Brazil  Brazil  Portugal  England  Portugal  Czech Republic  Scotland  Netherlands  Germany  Bulgaria  Peru  Netherlands  Brazil  France  England  England  Germany  Norway  Brazil  Spain  Nigeria  Mali  Argentina  Bulgaria  Ecuador  Netherlands  Belgium  Turkey  Ecuador  England  Senegal  Netherlands  Germany  Netherlands  Australia  Iran  Ecuador  Paraguay  Ukraine  Spain  Wales  Argentina  Germany  Brazil  New Zealand  Brazil  Brazil  Ecuador  Netherlands  Spain  Panama  Germany  Germany  France  Morocco  Argentina  Hungary  Argentina  Norway  Paraguay  Netherlands  France  Argentina  United States  Ecuador  Ukraine  Paraguay  Austria  England  Slovenia  Netherlands  Netherlands  Algeria  Japan  Uruguay  Venezuela  Venezuela  Austria  Portugal  France  England  Portugal  Netherlands  Argentina  Japan  England  Norway  Peru  Romania  Slovenia  Venezuela  Spain  Argentina  Scotland  Guinea Bissau  Montenegro  England  Argentina  Portugal  France  England  Netherlands  Germany  Spain  France  Argentina  France  Uruguay  Albania  France  Argentina  Italy  Venezuela  Brazil  Czech Republic  Bolivia  Scotland  Argentina  Peru  Italy  Uganda  Bolivia  Congo DR  France  Argentina  Romania  Gambia  Norway  Saudi Arabia  Brazil  Australia  Spain  Peru  Algeria  Sweden  England  Spain  Poland  Argentina  Norway  United States  Wales  Croatia  Italy  Senegal  Italy  Uruguay  France  Kosovo  Brazil  Italy  Paraguay  Bolivia  Netherlands  Italy  Ukraine  Poland  Republic of Ireland  Republic of Ireland  Spain  France  Israel  Germany  Venezuela  Ukraine  Serbia  Germany  France  Colombia  Mexico  Spain  United States  Austria  Uruguay  Bolivia  Japan  Spain  Brazil  Poland  Slovakia  Uruguay  Haiti  Chile  Morocco  Spain  Argentina  England  Spain  England  Peru  Peru  Sweden  England  Germany  Austria  Spain  Czech Republic  Portugal  Republic of Ireland  Chile  Denmark  England  Japan  Egypt  South Africa  Belgium  Uruguay  Uruguay  Bolivia  Venezuela  Argentina  Turkey  Wales  Japan  Germany  Germany  Poland  Spain  Canada  France  England  Argentina  Croatia  Paraguay  England  Argentina  Czech Republic  Ukraine  Korea Republic  Turkey  Spain  Colombia  Ukraine  England  Brazil  Germany  Germany  Peru  England  Bosnia and Herzegovina  Republic of Ireland  Venezuela  Ecuador  Bolivia  Congo DR  Spain  Portugal  Lithuania  Germany  Venezuela  Serbia  Scotland  Finland  Venezuela  Argentina  Italy  Argentina  Senegal  Spain  England  Croatia  France  South Africa  Portugal  Norway  England  Spain  Venezuela  Peru  Uruguay  Peru  France  Ghana  Portugal  Czech Republic  France  Spain  Venezuela  Belgium  Germany  Japan  France  Serbia  Costa Rica  Peru  Argentina  England  Republic of Ireland  Republic of Ireland  Peru  Italy  England  Suriname  Gambia  Hungary  France  Italy  Argentina  Spain  Finland  Netherlands  Spain  Slovakia  Bolivia  Spain  Paraguay  Argentina  Korea Republic  Austria  Nigeria  Ecuador  Republic of Ireland  Venezuela  Brazil  France  Spain  Venezuela  England  France  Japan  Argentina  Argentina  Spain  Turkey  Romania  Italy  South Africa  Switzerland  Canada  Paraguay  Bosnia and Herzegovina  Belgium  Denmark  Wales  Scotland  Gambia  Japan  Germany  United States  Bolivia  Venezuela  Nigeria  Sweden  Germany  South Africa  Brazil  Netherlands  Nigeria  Bolivia  Uruguay  Canada  United States  England  Brazil  England  South Africa  France  Morocco  Korea Republic  Ecuador  England  Italy  Brazil  Ecuador  Japan  Argentina  Hungary  Brazil  Slovakia  Israel  Peru  Venezuela  Argentina  England  England  Peru  Argentina  United States  Kosovo  England  Venezuela  Brazil  Bolivia  France  Germany  Poland  Brazil  Paraguay  Turkey  Turkey  Italy  Wales  Argentina  France  Venezuela  France  England  Paraguay  Ecuador  Argentina  Germany  Portugal  Republic of Ireland  Sweden  France  Italy  Germany  Netherlands  Panama  Spain  Germany  Brazil  Netherlands  Ecuador  Japan  Mexico  Scotland  Turkey  Japan  France  Senegal  Brazil  Poland  Bulgaria  Congo DR  Chile  Montenegro  Republic of Ireland  Bolivia  England  Venezuela  Spain  Canada  Australia  Venezuela  Argentina  Scotland  Portugal  France  United States  Albania  Spain  England  Venezuela  Qatar  France  Venezuela  Mexico  Croatia  United States  United States  Spain  Brazil  Uruguay  Denmark  Argentina  Kosovo  England  Norway  Norway  France  Germany  Portugal  Netherlands  Norway  England  Spain  Peru  Korea Republic  Denmark  Denmark  Romania  Austria  Portugal  England  Italy  Italy  Uruguay  France  Argentina  Netherlands  Venezuela  Spain  Portugal  Turkey  Guinea  Haiti  Austria  Argentina  Sweden  Germany  Romania  Paraguay  Italy  Uruguay  Croatia  Turkey  Venezuela  Spain  Northern Ireland  Belgium  Jamaica  Italy  Russia  Germany  England  Sweden  Germany  Brazil  England  France  Hungary  Germany  Scotland  England  Cyprus  Cameroon  Portugal  Nigeria  Estonia  Portugal  Republic of Ireland  France  Côte d'Ivoire  Uruguay  Mexico  Romania  Montserrat  Belgium  United States  Denmark  Austria  France  Japan  Argentina  Croatia  Mali  Germany  Germany  England  Germany  France  Spain  Spain  Netherlands  Italy  Qatar  Spain  Slovenia  France  England  Colombia  Paraguay  Germany  Uruguay  Sweden  Uruguay  Nigeria  Mexico  Germany  Argentina  Spain  Scotland  Iran  Venezuela  Guinea  Paraguay  South Africa  Korea Republic  South Africa  Saudi Arabia  Iceland  Côte d'Ivoire  Bolivia  England  Spain  Wales  Brazil  United States  Ghana  Croatia  Brazil  Australia  Spain  Israel  Bolivia  Israel  Scotland  Argentina  Sierra Leone  England  Egypt  Ecuador  Argentina  France  Portugal  Japan  Germany  Argentina  Paraguay  Qatar  Poland  Germany  Spain  Uruguay  Brazil  England  England  Mali  Turkey  Italy  Portugal  Sweden  England  France  Spain  Italy  Wales  Uruguay  Romania  Poland  Uruguay  Austria  France  Argentina  Spain  Serbia  Spain  Spain  Slovenia  Jamaica  Germany  Norway  Argentina  Bulgaria  Bolivia  Colombia  Italy  Tunisia  England  Germany  New Zealand  Poland  Argentina  Spain  Germany  Romania  Nigeria  Côte d'Ivoire  Spain  Sweden  Portugal  Côte d'Ivoire  Uruguay  Germany  Ecuador  Germany  Uruguay  England  Nigeria  Spain  Argentina  Turkey  Jamaica  Uruguay  Romania  Paraguay  Montenegro  Austria  Brazil  Austria  Ecuador  France  France  New Zealand  Korea Republic  Ecuador  Serbia  Brazil  Turkey  Ecuador  Brazil  Brazil  Netherlands  Sweden  Venezuela  Bolivia  Northern Ireland  Venezuela  Spain  Ecuador  Sweden  Croatia  Bolivia  England  Iran  Poland  Argentina  Denmark  Japan  Spain  Albania  Italy  France  Colombia  Ghana  Sweden  Senegal  France  Germany  Belgium  Argentina  Slovakia  Finland  Spain  Argentina  Romania  Venezuela  Brazil  France  Spain  Denmark  Netherlands  Germany  Netherlands  Moldova  Argentina  Paraguay  Ecuador  Paraguay  Peru  Greece  Wales  England  Peru  England  Netherlands  Spain  Portugal  Venezuela  South Africa  Argentina  Norway  Nigeria  Argentina  Poland  France  Italy  Spain  Portugal  France  Romania  Spain  Chile  Georgia  Romania  Germany  Ecuador  Belgium  Sweden  Spain  Sweden  Poland  Afghanistan  Germany  Cape Verde Islands  England  Spain  England  Croatia  Brazil  Senegal  Argentina  Spain  Paraguay  Japan  Albania  France  Ghana  Bolivia  Italy  Argentina  Spain  Uruguay  Peru  Northern Ireland  Qatar  Bolivia  England  France  New Caledonia  Netherlands  Finland  Serbia  Uruguay  England  Portugal  Luxembourg  Spain  Georgia  Brazil  Ecuador  Norway  France  Netherlands  Senegal  Italy  Japan  United States  Romania  Cameroon  Germany  Venezuela  Hungary  Brazil  Côte d'Ivoire  England  Italy  Japan  Japan  Israel  Argentina  Peru  Jamaica  Cameroon  Japan  Uruguay  Denmark  Colombia  Colombia  England  Portugal  Uruguay  Peru  England  South Africa  Paraguay  United States  France  France  Paraguay  Venezuela  Spain  Uruguay  Israel  Congo  Ecuador  Argentina  France  Portugal  Germany  Peru  Germany  Spain  Mexico  Ecuador  Italy  United States  England  Germany  Spain  England  Italy  Peru  Nigeria  Argentina  Venezuela  Germany  Bolivia  Colombia  France  United States  Republic of Ireland  Australia  Cameroon  Denmark  Georgia  Greece  Qatar  Spain  Italy  United States  Australia  Ghana  Belarus  Uruguay  Norway  Ukraine  Spain  Brazil  England  Portugal  Romania  England  Sweden  Uruguay  Guinea  Brazil  France  Hungary  Ecuador  England  Mexico  Brazil  Sierra Leone  Bolivia  Argentina  Mexico  Germany  Peru  Bolivia  Peru  United States  South Africa  Argentina  Romania  Venezuela  Republic of Ireland  Brazil  Ecuador  Canada  France  Ghana  Germany  Venezuela  England  Ecuador  Venezuela  England  Germany  Qatar  Colombia  Colombia  Japan  France  United States  Ecuador  Spain  Netherlands  Finland  Germany  Argentina  Romania  Peru  Argentina  Chile  Nigeria  Argentina  Austria  England  Switzerland  Japan  Italy  Poland  Brazil  Argentina  Netherlands  New Zealand  Sweden  Portugal  Peru  Italy  Uruguay  Uruguay  Ecuador  Spain  Norway  Italy  Ghana  Peru  Cameroon  England  Turkey  Argentina  Brazil  Italy  Portugal  Argentina  Belgium  Norway  Japan  France  Armenia  Canada  Ecuador  Sweden  Italy  France  England  Argentina  Paraguay  North Macedonia  Bolivia  Netherlands  Brazil  Colombia  Poland  Brazil  Czech Republic  Korea Republic  Germany  Sweden  Turkey  Paraguay  Venezuela  Italy  Peru  Croatia  Venezuela  England  France  Switzerland  United States  Scotland  Belgium  Ukraine  Korea Republic  Cyprus  Senegal  Bolivia  France  Spain  Zimbabwe  Ghana  Montenegro  Greece  Germany  Spain  Bolivia  Ecuador  Brazil  Bolivia  Netherlands  Bolivia  Brazil  Argentina  Argentina  England  Germany  Netherlands  China PR  Paraguay  Portugal  Netherlands  Scotland  Portugal  Spain  England  Netherlands  England  Japan  France  Colombia  Portugal  Poland  Italy  Venezuela  Venezuela  Ecuador  Czech Republic  Australia  Uruguay  Argentina  Spain  Argentina  Spain  Italy  Spain  Colombia  Netherlands  Brazil  Turkey  Senegal  Argentina  Netherlands  Peru  Brazil  Ecuador  Japan  Ukraine  Italy  Colombia  Japan  Ecuador  England  Germany  Poland  Italy  Bosnia and Herzegovina  Croatia  Germany  Mexico  Senegal  Zimbabwe  Brazil  Netherlands  Poland  France  Germany  Germany  Australia  Argentina  Bolivia  Venezuela  Germany  Mexico  England  Ecuador  Chile  Czech Republic  Ecuador  Netherlands  Australia  Spain  Romania  Iran  Côte d'Ivoire  Poland  Republic of Ireland  Mali  Mexico  France  France  Netherlands  Argentina  Colombia  Peru  Brazil  Austria  Uruguay  Peru  Ecuador  Scotland  Peru  Portugal  Turkey  England  Uganda  Italy  Bolivia  Italy  Netherlands  Czech Republic  Mexico  Denmark  Sweden  Bolivia  Republic of Ireland  Paraguay  Sierra Leone  Uruguay  Japan  Ghana  Albania  England  Peru  England  Honduras  Uruguay  France  Germany  Peru  Denmark  Poland  Croatia  Germany  Greece  Uruguay  Bolivia  France  Venezuela  Ecuador  United States  Denmark  Bolivia  England  Côte d'Ivoire  England  Poland  Colombia  Germany  Portugal  England  France  Uruguay  Spain  Belgium  Denmark  Netherlands  Argentina  Sweden  England  Uruguay  Turkey  Venezuela  South Africa  England  Finland  England  Venezuela  Argentina  Serbia  Portugal  Spain  Peru  Czech Republic  England  Netherlands  Spain  Uganda  Mexico  Poland  Panama  Mexico  Spain  Italy  Spain  Netherlands  Ecuador  Belarus  Romania  Bolivia  Paraguay  Brazil  Switzerland  Ecuador  Portugal  Croatia  England  Austria  Venezuela  United States  Italy  Switzerland  Italy  Argentina  Argentina  England  United States  Northern Ireland  Argentina  Nigeria  Spain  Argentina  Spain  Ecuador  England  Brazil  England  South Africa  Norway  Spain  France  Venezuela  Italy  Ukraine  Uruguay  Greece  Mexico  Czech Republic  Argentina  United States  Argentina  Belgium  Portugal  England  Germany  Ecuador  Spain  Spain  Ecuador  England  Turkey  Italy  Cameroon  Germany  Portugal  Mali  Germany  Sweden  Serbia  Poland  Colombia  Italy  Bosnia and Herzegovina  Japan  Burundi  United States  Germany  United States  Germany  Germany  Denmark  Brazil  Brazil  Australia  Ecuador  Argentina  Paraguay  Austria  England  Poland  England  Brazil  Jamaica  Italy  Iceland  Denmark  Wales  Germany  Senegal  United States  Chile  Spain  England  Venezuela  Belgium  England  Netherlands  England  Cyprus  Japan  Korea Republic  Argentina  Ghana  Netherlands  Wales  Bolivia  Bolivia  England  Ecuador  Brazil  England  England  Sweden  Colombia  England  Ghana  Spain  Turkey  Senegal  Brazil  Republic of Ireland  Norway  Spain  Argentina  Peru  Germany  Germany  Italy  Portugal  Saudi Arabia  United States  Spain  Italy  United States  South Africa  Venezuela  Uruguay  Argentina  Argentina  Germany  Venezuela  Argentina  Republic of Ireland  Denmark  Spain  Switzerland  Turkey  Ghana  United States  Argentina  Germany  Luxembourg  Italy  Netherlands  Kosovo  Venezuela  Ghana  Argentina  United Arab Emirates  Jordan  Belgium  Norway  Bolivia  Sweden  Germany  Colombia  Slovakia  Norway  Spain  Brazil  France  England  Uruguay  Belgium  Slovakia  Austria  Uruguay  Italy  Curacao  England  Brazil  Croatia  Hungary  Poland  Senegal  Austria  Spain  Poland  Republic of Ireland  Republic of Ireland  Bolivia  Germany  Netherlands  Argentina  Peru  Paraguay  Netherlands  Qatar  Brazil  Portugal  Republic of Ireland  England  Denmark  England  England  Paraguay  Spain  Peru  France  Spain  New Zealand  Brazil  Bolivia  Portugal  Russia  Venezuela  Japan  Uruguay  Mali  England  Mexico  Switzerland  Republic of Ireland  Poland  England  Brazil  Greece  Croatia  Spain  Zimbabwe  United States  Brazil  Norway  Colombia  Peru  Laos  Colombia  Colombia  Sweden  England  Saint Lucia  Denmark  Spain  Netherlands  Italy  Portugal  Nigeria  Spain  United States  Netherlands  Brazil  Argentina  Switzerland  Austria  Bolivia  Germany  England  France  Uruguay  China PR  Congo  Spain  Argentina  Northern Ireland  Venezuela  Argentina  France  Albania  Scotland  Italy  England  Greece  Mexico  United States  Slovakia  Spain  Colombia  Germany  Kosovo  Italy  Spain  Switzerland  Senegal  Spain  Nigeria  Norway  Ecuador  Poland  Peru  Netherlands  Ecuador  Chile  Belgium  Japan  England  Guinea  Uzbekistan  Ghana  Poland  Austria  Ecuador  Iceland  Bulgaria  Argentina  Georgia  Grenada  Venezuela  Scotland  Canada  England  Cameroon  Germany  Austria  Ecuador  Germany  Hungary  Bolivia  Germany  Germany  Germany  Ecuador  England  Netherlands  Spain  Albania  Portugal  Belgium  Wales  Argentina  Ecuador  Germany  England  Mali  Argentina  Uruguay  Senegal  Mali  Mexico  Germany  Spain  Ghana  Republic of Ireland  Spain  Bolivia  Colombia  Venezuela  Germany  Argentina  Colombia  Ghana  Peru  United States  Venezuela  Uruguay  Germany  Serbia  United States  Ecuador  Spain  Scotland  Ukraine  Nigeria  England  Japan  Slovenia  Argentina  Togo  Argentina  Italy  Spain  Republic of Ireland  Turkey  Chile  Italy  Spain  Spain  England  Canada  Germany  Uruguay  Netherlands  Albania  England  Paraguay  Belgium  Slovenia  Wales  England  Venezuela  Sweden  Argentina  United States  Turkey  Netherlands  Colombia  Peru  France  England  Sweden  Argentina  England  Germany  Brazil  Portugal  Japan  Uruguay  Uruguay  Italy  Brazil  Belgium  Central African Republic  Italy  Ecuador  Germany  Poland  Mexico  Czech Republic  Wales  Spain  Netherlands  Netherlands  Portugal  France  Uruguay  Costa Rica  Ecuador  Venezuela  Turkey  France  Venezuela  Germany  Netherlands  Germany  Germany  Paraguay  Hungary  Denmark  Turkey  Croatia  Germany  Brazil  Venezuela  Germany  England  Peru  Israel  Chile  Guinea  Brazil  England  Sweden  Netherlands  Portugal  France  Korea Republic  Belgium  Australia  England  Argentina  Burundi  Venezuela  Spain  Argentina  Sweden  Japan  Portugal  Germany  Paraguay  Republic of Ireland  England  Denmark  Peru  Morocco  France  Bhutan  England  Argentina  Austria  Israel  Germany  Spain  Belgium  Spain  Colombia  Venezuela  Côte d'Ivoire  England  Portugal  France  Germany  Germany  Spain  Portugal  United States  Guinea  Germany  France  Serbia  England  Spain  Japan  Paraguay  China PR  Spain  Ecuador  France  England  Germany  Sweden  Côte d'Ivoire  Mali  Germany  Venezuela  England  Japan  Venezuela  Colombia  Portugal  Netherlands  Spain  Slovakia  Japan  Canada  Ghana  Colombia  Portugal  Slovenia  Spain  Romania  Peru  Norway  Netherlands  Paraguay  Guyana  Argentina  Ecuador  Germany  Paraguay  Venezuela  England  Peru  Australia  Brazil  Peru  Bolivia  Czech Republic  Japan  Nigeria  Paraguay  Bulgaria  Japan  Germany  Italy  Brazil  Republic of Ireland  Spain  Uruguay  Switzerland  England  Jamaica  Bolivia  Portugal  China PR  United States  Congo DR  Turkey  Bolivia  Albania  England  Croatia  Peru  Uruguay  Republic of Ireland  England  Uruguay  Croatia  Romania  Cameroon  Hungary  Spain  Peru  Peru  Romania  Spain  Sweden  Portugal  Algeria  Colombia  Denmark  Argentina  Guinea  Germany  Spain  Portugal  Gambia  Brazil  Brazil  Peru  Spain  Argentina  England  Argentina  England  Italy  Côte d'Ivoire  Italy  Brazil  Brazil  Brazil  Argentina  England  Mauritania  Croatia  England  Spain  Ecuador  Spain  Romania  Spain  Germany  Peru  Turkey  Argentina  Sweden  Algeria  Netherlands  Switzerland  Côte d'Ivoire  Russia  Germany  Belgium  Colombia  Qatar  Argentina  England  Spain  Spain  France  England  Denmark  Argentina  Germany  Denmark  United States  England  Uruguay  France  Ecuador  England  England  Germany  Bolivia  Romania  Germany  Denmark  Germany  Greece  Brazil  Venezuela  England  Japan  Morocco  Uruguay  Peru  Argentina  Turkey  Japan  Germany  Republic of Ireland  Peru  France  Peru  Germany  Austria  Argentina  Germany  Republic of Ireland  Peru  South Africa  Australia  Mali  Peru  Russia  Scotland  Portugal  England  England  Faroe Islands  Bosnia and Herzegovina  Montenegro  Argentina  England  Paraguay  England  England  Netherlands  Paraguay  Argentina  Mexico  England  Paraguay  Norway  Sweden  Spain  Bolivia  Germany  Brazil  Portugal  Brazil  Spain  Serbia  Netherlands  France  Germany  Denmark  Greece  Greece  Brazil  England  Romania  South Africa  Italy  Croatia  Albania  Argentina  Argentina  Bolivia  England  Kenya  Uruguay  Argentina  Bolivia  Argentina  Ghana  Germany  Croatia  Argentina  Luxembourg  Bolivia  Nigeria  Paraguay  Germany  Argentina  England  Peru  Denmark  Australia  Ecuador  Croatia  France  Japan  Argentina  Turkey  Romania  Germany  France  Italy  Ecuador  Uruguay  Ecuador  Paraguay  Senegal  Australia  Uruguay  Spain  Italy  Iraq  Ecuador  Turkey  Portugal  Spain  Uruguay  England  Argentina  Mexico  Colombia  Guinea Bissau  Tunisia  France  United States  Iran  Austria  Uruguay  Cape Verde Islands  Greece  Belgium  Sweden  Germany  Mali  France  Japan  Ecuador  France  Bolivia  Nigeria  Denmark  France  England  Germany  Brazil  Germany  Paraguay  Côte d'Ivoire  Senegal  Venezuela  nan  Greece  Germany  Spain  England  Turkey  Senegal  Bolivia  Côte d'Ivoire  Brazil  Zambia  France  New Zealand  Greece  Algeria  Colombia  Netherlands  Switzerland  Venezuela  Austria  Brazil  Spain  United States  Italy  Croatia  Côte d'Ivoire  United States  Germany  England  Germany  Spain  France  Senegal  Argentina  France  Republic of Ireland  Estonia  Ecuador  Argentina  Japan  France  France  Norway  Morocco  Germany  Germany  Spain  England  Netherlands  Korea Republic  Sweden  Croatia  Cameroon  South Africa  France  Ukraine  France  Spain  Turkey  Guinea  Colombia  Cameroon  Uruguay  Colombia  Wales  Bolivia  Venezuela  Russia  Brazil  Argentina  Brazil  Bolivia  Ecuador  Argentina  Canada  France  England  Ghana  Norway  Spain  Spain  Nigeria  Brazil  Peru  Brazil  Slovakia  Suriname  Paraguay  Greece  England  Colombia  Qatar  Japan  Brazil  Argentina  Turkey  Spain  England  Wales  Nigeria  Norway  Peru  Peru  Germany  Germany  Norway  Argentina  Greece  Romania  North Macedonia  Germany  Paraguay  Venezuela  England  England  Paraguay  Chile  England  Spain  Colombia  Spain  Germany  France  Japan  Spain  Netherlands  Spain  Croatia  Argentina  France  Ecuador  Serbia  Portugal  Australia  England  Mexico  Ecuador  France  Uruguay  Namibia  Venezuela  Morocco  Luxembourg  England  Mauritania  England  Italy  Ghana  England  England  Jamaica  Scotland  Venezuela  England  Sweden  Ecuador  England  Netherlands  France  Ecuador  Uruguay  Uruguay  Poland  Denmark  Spain  Germany  Germany  Argentina  Uruguay  Romania  England  England  North Macedonia  Peru  Spain  Angola  Argentina  Germany  Argentina  England  Guinea  Peru  England  nan  Brazil  Uruguay  Norway  Argentina  Portugal  Germany  France  Spain  Australia  Spain  England  Portugal  Spain  Germany  Italy  Angola  Spain  Côte d'Ivoire  Russia  Niger  Uruguay  Japan  Peru  Japan  Spain  Germany  Japan  Netherlands  Germany  Argentina  Japan  Ghana  Switzerland  France  Germany  Poland  Morocco  Italy  Italy  Argentina  Netherlands  Bolivia  Poland  England  Spain  Colombia  Argentina  Peru  Senegal  Colombia  Mexico  Scotland  Italy  Colombia  Germany  Argentina  Norway  Poland  Republic of Ireland  Albania  Portugal  Paraguay  Argentina  Paraguay  Croatia  Spain  Scotland  Ecuador  Croatia  England  Hungary  Bulgaria  Sweden  Brazil  Portugal  Hungary  France  Republic of Ireland  Netherlands  Peru  Uruguay  Italy  Wales  Germany  Mexico  Palestine  Turkey  Argentina  England  Germany  Mali  Turkey  Bulgaria  England  England  France  Germany  Netherlands  Algeria  Netherlands  Ecuador  Japan  Austria  England  Brazil  Venezuela  Spain  France  Mexico  Peru  Japan  Argentina  Ecuador  Denmark  Germany  Netherlands  Morocco  Germany  Republic of Ireland  Spain  England  Austria  Spain  Bulgaria  Wales  Argentina  Nigeria  England  Ecuador  Norway  Wales  France  Romania  Bosnia and Herzegovina  Senegal  Argentina  Ecuador  France  Netherlands  Spain  Wales  Uruguay  Argentina  Turkey  France  Croatia  Turkey  England  Scotland  Venezuela  France  Russia  Iran  Ecuador  Germany  England  Venezuela  Italy  Colombia  England  Spain  Portugal  Scotland  Italy  Liberia  Italy  Switzerland  Brazil  Netherlands  Argentina  Netherlands  Poland  Bolivia  Germany  Peru  United Arab Emirates  France  Ghana  Ghana  Brazil  Ecuador  Denmark  Spain  Algeria  Japan  Turkey  Ecuador  Gabon  Uruguay  Saudi Arabia  Uruguay  England  Cyprus  Germany  Germany  Spain  Cameroon  Kenya  Hungary  France  France  Belgium  Romania  Portugal  Georgia  Bolivia  Argentina  England  Peru  France  Hungary  France  Argentina  Germany  Serbia  Republic of Ireland  Austria  Wales  Netherlands  Guinea  Nigeria  Venezuela  Uruguay  Germany  Italy  Argentina  Sudan  Italy  Mali  England  England  Mexico  Senegal  Spain  Romania  Mexico  Belgium  France  Ghana  Peru  Paraguay  Serbia  Italy  Montenegro  Slovenia  Qatar  England  Sweden  Netherlands  France  Brazil  Spain  Germany  Bolivia  Turkey  Portugal  Argentina  Morocco  Turkey  Norway  Ecuador  Mexico  Peru  Peru  Germany  England  Argentina  Germany  Japan  Italy  England  Senegal  Peru  Switzerland  England  Paraguay  Serbia  Senegal  Italy  Norway  Portugal  Netherlands  Netherlands  Bosnia and Herzegovina  Romania  Peru  Mexico  Argentina  Portugal  France  Slovenia  Spain  Bolivia  Ecuador  Côte d'Ivoire  United States  United States  Brazil  Burkina Faso  Spain  England  Paraguay  Argentina  Peru  Spain  Ecuador  France  Ecuador  Italy  Spain  Brazil  Greece  Albania  Germany  Japan  Canada  England  Croatia  Peru  Uruguay  Sweden  Côte d'Ivoire  Guinea  Spain  Venezuela  Venezuela  Uruguay  Greece  Argentina  Argentina  England  Argentina  Republic of Ireland  Canada  Sweden  Ecuador  Mexico  Romania  England  England  Ecuador  Colombia  Finland  Spain  Argentina  Colombia  Venezuela  England  England  Israel  Mexico  Netherlands  Japan  Congo  England  Austria  Peru  France  France  Croatia  Germany  Côte d'Ivoire  Portugal  Tunisia  Argentina  France  Japan  Czech Republic  Hungary  Bolivia  Brazil  Germany  Portugal  France  Argentina  Spain  Argentina  Spain  Spain  Turkey  Curacao  England  Tunisia  France  Mali  Germany  Finland  Germany  Republic of Ireland  Qatar  Wales  Argentina  Hungary  Argentina  Croatia  Argentina  France  Austria  Croatia  Italy  England  Iceland  Chile  Germany  Norway  Peru  France  Venezuela  Spain  Spain  Japan  United States  Jamaica  Ecuador  Japan  Germany  Austria  Ghana  Italy  Uruguay  Russia  Korea Republic  Italy  Croatia  Netherlands  Germany  Italy  Morocco  Argentina  Argentina  Venezuela  Spain  Netherlands  France  Germany  Bolivia  Uruguay  Ecuador  Brazil  China PR  Venezuela  Spain  Brazil  Republic of Ireland  Turkey  Venezuela  Serbia  Germany  Mali  Poland  Netherlands  Australia  England  Germany  Germany  England  France  Peru  Turkey  Ukraine  Argentina  Venezuela  England  Turkey  Spain  Bosnia and Herzegovina  Wales  Austria  Uruguay  France  Japan  Equatorial Guinea  Sweden  Germany  Denmark  Brazil  Germany  Germany  Portugal  Brazil  Argentina  France  Germany  Spain  Sweden  Spain  Ecuador  Argentina  Italy  Australia  Brazil  Ghana  Brazil  Austria  Chile  United States  Switzerland  United States  France  Netherlands  Republic of Ireland  Congo DR  Bolivia  Ghana  Japan  Northern Ireland  Czech Republic  Ecuador  Georgia  Bolivia  Brazil  Romania  Austria  Netherlands  Norway  Spain  Ecuador  Greece  England  Belgium  Germany  England  Uruguay  Czech Republic  Denmark  Colombia  Ecuador  France  France  Argentina  Switzerland  Argentina  Slovakia  Spain  Bolivia  Republic of Ireland  Spain  Honduras  Russia  France  Netherlands  Spain  Italy  United States  England  Uruguay  Japan  Belgium  Spain  Spain  Spain  Uruguay  Peru  Côte d'Ivoire  Cameroon  Senegal  Japan  Germany  Argentina  Colombia  Spain  Italy  Scotland  Bolivia  Peru  Japan  Spain  France  Brazil  Germany  England  Spain  United States  Russia  Argentina  Colombia  Portugal  Brazil  Sweden  Portugal  Germany  Austria  Germany  Germany  Sweden  Spain  Spain  Australia  Morocco  Sweden  Togo  Peru  England  France  Netherlands  Paraguay  Italy  Brazil  Bosnia and Herzegovina  Spain  Greece  New Zealand  Paraguay  Germany  Brazil  Paraguay  Bosnia and Herzegovina  Spain  Argentina  Peru  Spain  Republic of Ireland  Germany  Peru  Portugal  Iceland  Italy  Japan  Portugal  France  Spain  England  Germany  Italy  Paraguay  England  Colombia  Israel  England  Japan  Venezuela  Mauritania  Scotland  Slovenia  Germany  Morocco  Wales  England  Bolivia  Spain  Argentina  Northern Ireland  Italy  Ecuador  Italy  Peru  France  Uruguay  Spain  Italy  Russia  Wales  Paraguay  Turkey  Venezuela  Republic of Ireland  Argentina  United States  Peru  Uruguay  Argentina  United States  Colombia  France  Iceland  Venezuela  Belgium  Northern Ireland  Paraguay  Antigua and Barbuda  Bolivia  Republic of Ireland  Mexico  Venezuela  Ukraine  Sweden  Austria  Mexico  Argentina  Italy  Spain  Germany  Spain  Ghana  Portugal  Ecuador  Germany  Uruguay  Brazil  Ukraine  Cyprus  Spain  Spain  Ecuador  Belgium  Germany  Ukraine  China PR  Ecuador  Germany  Albania  England  Ghana  Spain  United States  Czech Republic  Czech Republic  Ukraine  Germany  Congo  Belgium  Ghana  Austria  Poland  United States  Hungary  Bolivia  Brazil  Paraguay  Wales  Germany  South Africa  Spain  Bolivia  Argentina  Colombia  France  Korea Republic  Cyprus  Bolivia  England  Argentina  Gambia  Portugal  Germany  Australia  Germany  Turkey  Republic of Ireland  Spain  Netherlands  Peru  Iceland  Spain  Paraguay  Spain  United States  Poland  Turkey  Netherlands  Germany  Honduras  Mexico  Spain  Peru  Croatia  Spain  Portugal  Poland  Uruguay  Venezuela  Belgium  Germany  Croatia  Uruguay  Jamaica  Poland  Netherlands  France  Italy  Paraguay  Germany  Korea Republic  Portugal  Ecuador  Argentina  Spain  Turkey  Venezuela  Cuba  Italy  Japan  Germany  South Africa  Peru  Switzerland  Italy  Germany  Italy  Romania  France  Switzerland  Argentina  England  Turkey  Colombia  Bolivia  Wales  Brazil  Spain  Uruguay  Republic of Ireland  Brazil  South Africa  Poland  Kosovo  Turkey  England  England  Spain  Hungary  Poland  France  Italy  Cameroon  Ukraine  Germany  Germany  France  Brazil  Belgium  Albania  Netherlands  United States  England  Colombia  Germany  Uganda  Costa Rica  Brazil  Uruguay  Uruguay  England  Wales  Ecuador  Venezuela  Germany  Nigeria  Spain  Uruguay  Spain  Spain  Germany  England  Netherlands  Paraguay  France  England  Ecuador  Argentina  Scotland  Poland  Argentina  Norway  Romania  Russia  Chile  Austria  United States  Romania  England  Ukraine  England  Canada  Italy  Germany  Côte d'Ivoire  Argentina  Romania  England  Austria  Venezuela  Serbia  England  Poland  France  Ukraine  Uruguay  Haiti  France  Peru  Côte d'Ivoire  Uruguay  Spain  Republic of Ireland  Turkey  Saudi Arabia  England  France  Japan  Algeria  Republic of Ireland  Korea Republic  Denmark  Sweden  Australia  Korea Republic  Turkey  Ghana  Netherlands  Germany  Portugal  Sweden  France  Albania  Spain  Senegal  Colombia  Argentina  Germany  Cameroon  Japan  Poland  Korea Republic  Argentina  Ecuador  Paraguay  France  Japan  France  Austria  Argentina  Spain  France  Argentina  Finland  France  Argentina  Bolivia  South Africa  Switzerland  Ecuador  Turkey  Belgium  Japan  Republic of Ireland  Spain  Thailand  Argentina  England  France  Germany  France  England  China PR  Italy  Senegal  Republic of Ireland  Belgium  Austria  Venezuela  Australia  Belgium  Argentina  Greece  Belgium  Norway  India  Republic of Ireland  Argentina  Belgium  Switzerland  Paraguay  Brazil  Wales  Brazil  Greece  Chile  Scotland  Argentina  Germany  Qatar  Argentina  India  England  Austria  Spain  Switzerland  Ukraine  England  Peru  Uruguay  Albania  Chile  Belgium  Mexico  Japan  Germany  Paraguay  Spain  Togo  Romania  Argentina  Northern Ireland  Austria  Spain  Moldova  Italy  France  Portugal  Ghana  Brazil  Haiti  Spain  Ecuador  Paraguay  Venezuela  Bolivia  China PR  Japan  Argentina  Japan  Mexico  Venezuela  Spain  United States  England  Bosnia and Herzegovina  England  Spain  United Arab Emirates  Poland  Ghana  Finland  Netherlands  Netherlands  Australia  France  Cape Verde Islands  Germany  Israel  Uruguay  Brazil  Turkey  Germany  Germany  Brazil  Uruguay  Morocco  Bolivia  Scotland  nan  Argentina  Spain  Sweden  Mali  Lithuania  Czech Republic  Colombia  Korea Republic  Italy  Venezuela  Mexico  Germany  Uruguay  Spain  Spain  France  Portugal  Congo DR  Brazil  China PR  Turkey  Italy  Colombia  Liberia  Portugal  Ukraine  England  Turkey  England  Australia  England  France  Venezuela  Uruguay  Spain  Netherlands  Germany  Venezuela  France  Japan  Uruguay  Austria  Poland  England  Croatia  Brazil  Uruguay  Italy  Uruguay  Spain  Israel  Colombia  Norway  Italy  Ecuador  Spain  Norway  Germany  France  France  Argentina  Uruguay  Germany  Mexico  Paraguay  Kosovo  Paraguay  Netherlands  Belgium  Mexico  Italy  South Africa  Nigeria  Germany  Brazil  England  Mexico  Ecuador  Russia  Italy  Spain  Turkey  Spain  Turkey  Russia  Uruguay  France  England  Belgium  Venezuela  Algeria  Morocco  Uruguay  Australia  Austria  Bolivia  Hungary  France  England  Argentina  Burkina Faso  Bosnia and Herzegovina  Wales  Argentina  England  Brazil  Uruguay  Argentina  Portugal  Argentina  Italy  Netherlands  Sweden  Spain  Serbia  Republic of Ireland  Brazil  Germany  Netherlands  Belgium  Peru  Nigeria  Italy  Brazil  Russia  England  Romania  Italy  Romania  Albania  Ecuador  Argentina  Spain  Portugal  France  Portugal  France  Japan  Qatar  France  England  New Zealand  Poland  Italy  Israel  Morocco  Argentina  Cape Verde Islands  Argentina  Romania  Czech Republic  Spain  Portugal  Venezuela  Argentina  Nigeria  England  Guinea Bissau  Argentina  Belgium  Croatia  Argentina  Turkey  Germany  Côte d'Ivoire  Turkey  Canada  Venezuela  England  Venezuela  England  Ecuador  England  Ecuador  Ecuador  Argentina  Paraguay  Argentina  Ecuador  Turkey  Slovenia  Spain  Sweden  Spain  Norway  Uruguay  Azerbaijan  Syria  Argentina  Netherlands  Bolivia  Bolivia  Haiti  Romania  Spain  Cyprus  China PR  France  Scotland  England  Korea Republic  Scotland  Chile  England  Portugal  Greece  Paraguay  Netherlands  Argentina  Netherlands  Ghana  Switzerland  Paraguay  United Arab Emirates  Nigeria  Spain  Japan  Japan  Poland  Austria  Brazil  Argentina  Nigeria  Japan  England  Uruguay  Serbia  Ecuador  Mexico  Germany  Italy  Mexico  Argentina  Paraguay  Brazil  Peru  Paraguay  Côte d'Ivoire  Netherlands  Germany  Spain  Ecuador  England  Brazil  Cape Verde Islands  Japan  Argentina  Mexico  Germany  Norway  Argentina  France  Canada  Republic of Ireland  Spain  Scotland  Belgium  Guinea  France  England  Spain  Mexico  England  United States  Colombia  Greece  nan  Germany  Spain  Mexico  France  Togo  England  Spain  Sweden  Ecuador  Serbia  Italy  Turkey  England  Sweden  Poland  Peru  Sweden  Chile  Japan  Austria  Spain  Nigeria  France  Germany  Netherlands  Sweden  Sweden  Republic of Ireland  Angola  Netherlands  Switzerland  Wales  Wales  Northern Ireland  Czech Republic  Turkey  Cameroon  Venezuela  Morocco  Spain  Spain  Argentina  United States  Netherlands  Uruguay  Republic of Ireland  Poland  Bolivia  Serbia  Russia  Saudi Arabia  Argentina  Sweden  Ecuador  Portugal  England  Serbia  Ecuador  Austria  Brazil  France  Northern Ireland  Austria  Denmark  Colombia  Uruguay  Ghana  Netherlands  Poland  Netherlands  Brazil  Burkina Faso  Japan  Republic of Ireland  Argentina  South Africa  Spain  Belgium  Germany  Bolivia  Ecuador  England  Peru  China PR  Germany  Côte d'Ivoire  Albania  Germany  England  Sweden  Spain  Finland  Congo DR  France  Argentina  Venezuela  Turkey  Canada  Northern Ireland  Venezuela  Australia  Senegal  Morocco  Norway  France  Romania  Côte d'Ivoire  Spain  France  Sweden  Brazil  Netherlands  Norway  Germany  Argentina  China PR  England  England  Scotland  Austria  Bosnia and Herzegovina  Ghana  Germany  Germany  Sweden  Netherlands  Peru  England  Austria  England  France  Germany  Slovakia  Romania  South Africa  Mexico  Uruguay  France  Poland  Azerbaijan  Portugal  Belarus  Israel  Japan  Mexico  England  England  Germany  England  Denmark  Norway  Colombia  Lithuania  Peru  nan  Ecuador  Venezuela  Congo DR  Brazil  Chile  Germany  Germany  Russia  Serbia  India  Wales  Argentina  Brazil  Spain  Nigeria  England  Brazil  Burkina Faso  Turkey  Sweden  Spain  Scotland  Guinea  England  Italy  England  Mexico  Turkey  Paraguay  Morocco  Japan  Scotland  Romania  Japan  Guinea Bissau  Germany  England  Switzerland  Sweden  Sweden  Japan  England  France  Netherlands  Argentina  Spain  Australia  North Macedonia  Qatar  England  Peru  Norway  Egypt  Portugal  Austria  Germany  Brazil  Albania  Brazil  Italy  Sweden  Spain  Bulgaria  Netherlands  Iceland  Venezuela  Uruguay  Venezuela  Australia  Turkey  Germany  Norway  Ghana  Norway  England  France  Uruguay  Greece  Argentina  Turkey  England  Slovakia  Chile  Argentina  Mexico  Italy  Germany  Hong Kong  Lithuania  Belgium  Scotland  Italy  Australia  Romania  Romania  Turkey  Belgium  North Macedonia  Brazil  England  Japan  Spain  Uruguay  Estonia  Bolivia  Denmark  Uruguay  United States  France  United States  Turkey  Luxembourg  Uruguay  Turkey  Venezuela  Germany  Germany  Argentina  Argentina  Brazil  Northern Ireland  England  United States  Venezuela  Northern Ireland  Burundi  Paraguay  Ecuador  Netherlands  Paraguay  Australia  Serbia  Burundi  Austria  Netherlands  Greece  Colombia  Venezuela  England  Wales  Spain  United States  Ghana  Spain  Canada  Portugal  France  Israel  Norway  Spain  Czech Republic  Australia  India  Italy  Norway  France  France  France  Venezuela  Italy  Austria  Austria  United States  France  Spain  France  Ghana  Spain  Greece  Bolivia  Albania  Saudi Arabia  Serbia  France  Argentina  France  Argentina  Chile  Hungary  Bolivia  Hungary  Venezuela  Venezuela  Belgium  France  France  Uruguay  Republic of Ireland  Venezuela  Ghana  Belgium  Greece  Estonia  France  Japan  Italy  Portugal  France  Germany  Sweden  Netherlands  Spain  Germany  Korea Republic  Argentina  North Macedonia  Italy  Azerbaijan  Denmark  Japan  Italy  Peru  Venezuela  Uruguay  Italy  Germany  Republic of Ireland  Brazil  England  Uruguay  Argentina  Norway  Ukraine  Brazil  Algeria  France  England  Poland  Argentina  Romania  Greece  Serbia  Belgium  Japan  France  Wales  Portugal  England  France  Spain  Netherlands  Moldova  Ecuador  Mexico  Mexico  France  Switzerland  Germany  Scotland  Germany  France  Brazil  Nigeria  Mozambique  Italy  Spain  Argentina  United States  Republic of Ireland  Ecuador  France  Saudi Arabia  Cyprus  Senegal  Brazil  Gambia  Germany  Norway  Ukraine  Netherlands  Belarus  Bolivia  Sweden  France  Germany  Spain  Paraguay  Croatia  United Arab Emirates  Ecuador  Germany  Romania  Austria  Paraguay  Germany  Colombia  Congo DR  Mexico  Ghana  Venezuela  France  Germany  Venezuela  Italy  Montenegro  Germany  Switzerland  Argentina  Honduras  Spain  Argentina  England  United States  Uruguay  Gibraltar  Turkey  France  Australia  Argentina  Japan  Belgium  Turkey  Poland  Greece  Republic of Ireland  Portugal  Argentina  Spain  Slovenia  Turkey  England  Korea Republic  Argentina  Nigeria  Japan  Ecuador  Spain  Switzerland  Peru  Uruguay  Brazil  Curacao  Nigeria  United States  Venezuela  Germany  Paraguay  Switzerland  Spain  Germany  Argentina  Ecuador  Germany  Czech Republic  France  Brazil  Norway  Portugal  Sweden  Netherlands  Republic of Ireland  Uruguay  Iceland  Ghana  South Africa  Argentina  Brazil  Austria  Peru  Mexico  Spain  Ghana  Italy  Portugal  Spain  Spain  France  Paraguay  Scotland  Germany  Brazil  Switzerland  Portugal  Venezuela  Madagascar  Croatia  Poland  Argentina  Ecuador  Ecuador  Canada  Albania  Brazil  Poland  England  England  Colombia  Brazil  Switzerland  Cameroon  England  Brazil  Spain  Mexico  Spain  Korea Republic  Portugal  Spain  Argentina  Sweden  Romania  England  Croatia  Argentina  Netherlands  Wales  Bulgaria  Japan  England  United States  Paraguay  Paraguay  Ukraine  Japan  Spain  Bulgaria  France  France  England  Algeria  Netherlands  Ecuador  Sweden  England  Ecuador  Serbia  Romania  Cape Verde Islands  Saudi Arabia  Germany  Netherlands  England  Argentina  Brazil  Netherlands  Japan  Ecuador  Uruguay  Paraguay  Italy  England  Germany  France  Gambia  Poland  England  Argentina  Ecuador  Northern Ireland  Spain  Romania  Japan  Peru  Italy  Croatia  Norway  Brazil  Japan  Peru  Israel  Scotland  United States  France  Bolivia  Venezuela  Korea Republic  India  England  Argentina  Côte d'Ivoire  Germany  Brazil  Uruguay  Peru  Mexico  Brazil  England  Japan  Republic of Ireland  Australia  Belarus  Bolivia  Argentina  Argentina  Mexico  Russia  Czech Republic  Sweden  Germany  Belgium  Colombia  Argentina  Peru  France  Germany  Sweden  Argentina  Uruguay  United States  Netherlands  Brazil  Germany  Uruguay  Republic of Ireland  Mexico  Belgium  Turkey  Argentina  Canada  Argentina  Mali  Mexico  Italy  Brazil  Venezuela  Norway  Angola  France  England  Argentina  Portugal  Germany  England  Netherlands  Japan  Panama  Paraguay  Argentina  Paraguay  England  Argentina  England  Mexico  Italy  Senegal  Spain  Ukraine  Belgium  Netherlands  France  Ghana  Poland  Ghana  Australia  Netherlands  Brazil  Germany  Netherlands  Italy  Wales  Denmark  Spain  Japan  Germany  Bolivia  Japan  Germany  Turkey  Denmark  Netherlands  Mexico  England  Mexico  Austria  Germany  Tunisia  Spain  Netherlands  Korea Republic  Poland  Argentina  Denmark  Nigeria  Russia  Uruguay  France  England  Spain  Brazil  England  Spain  Netherlands  Venezuela  Spain  Greece  Belgium  Ecuador  Italy  Scotland  Nigeria  Japan  Argentina  Chile  Sweden  Turkey  Uzbekistan  Kosovo  Angola  Austria  Austria  Peru  Venezuela  Netherlands  Japan  Norway  Japan  Venezuela  Kosovo  Senegal  Belgium  Ghana  Spain  Turkey  Poland  Mexico  Cameroon  Scotland  Bolivia  Portugal  Haiti  Romania  Argentina  Sweden  Republic of Ireland  Spain  Chile  Brazil  Scotland  Morocco  Denmark  Paraguay  Ecuador  Haiti  Mexico  Germany  Saudi Arabia  England  Bosnia and Herzegovina  Republic of Ireland  England  Scotland  Paraguay  Côte d'Ivoire  Argentina  Tanzania  France  Spain  Colombia  Bolivia  Brazil  Spain  England  Norway  Belgium  Mexico  Sweden  Japan  Chile  Morocco  Argentina  France  Spain  Senegal  England  Argentina  Spain  Netherlands  Colombia  Sweden  Bulgaria  Sweden  France  Argentina  Paraguay  Hungary  Wales  Portugal  Uruguay  Sweden  Ecuador  Belgium  Argentina  Japan  Germany  Poland  Venezuela  Germany  Argentina  Sweden  Spain  Spain  Canada  Serbia  Bolivia  Spain  nan  Colombia  Austria  Scotland  Australia  Sweden  England  Turkey  Luxembourg  China PR  South Africa  Germany  Palestine  Venezuela  Denmark  France  Switzerland  France  Brazil  Italy  Colombia  Netherlands  Republic of Ireland  Brazil  Spain  France  Iraq  Bolivia  Netherlands  Russia  Brazil  Russia  Iran  Italy  Ecuador  Netherlands  Benin  Japan  New Zealand  England  Bosnia and Herzegovina  Ghana  Spain  Serbia  Mexico  Spain  Germany  France  India  India  Ecuador  Germany  Germany  Norway  Argentina  Argentina  Chile  Poland  Paraguay  Germany  Czech Republic  Saudi Arabia  Germany  France  Argentina  Denmark  South Africa  Germany  Mexico  Austria  Senegal  Spain  Spain  Republic of Ireland  Argentina  England  Argentina  Uruguay  England  France  Cameroon  Argentina  Belgium  United States  China PR  France  Brazil  England  Slovenia  Slovenia  Scotland  France  Germany  England  England  Spain  Brazil  Spain  Italy  Venezuela  Romania  Uruguay  Spain  England  Wales  France  Germany  Argentina  Turkey  Spain  Netherlands  Spain  Ukraine  Croatia  Netherlands  Italy  Argentina  Scotland  England  Austria  England  Poland  Morocco  Guinea Bissau  Scotland  Greece  France  Togo  Saudi Arabia  Germany  England  Belgium  Brazil  Norway  Poland  Sweden  Argentina  England  England  Greece  Paraguay  Netherlands  Turkey  Spain  Norway  Spain  England  Cape Verde Islands  England  Argentina  Colombia  Argentina  Australia  Germany  Serbia  Brazil  France  Netherlands  Bolivia  France  England  Paraguay  Venezuela  Peru  England  Croatia  Norway  Mexico  Spain  Republic of Ireland  Germany  Australia  Italy  Republic of Ireland  Spain  Germany  Sweden  United States  Argentina  France  England  Turkey  Denmark  Argentina  Côte d'Ivoire  Venezuela  Romania  Argentina  Spain  Ecuador  Serbia  United States  Argentina  India  Peru  Poland  Argentina  Colombia  Poland  Austria  Germany  Peru  Greece  England  Ecuador  England  Republic of Ireland  Venezuela  Ecuador  Serbia  Paraguay  Korea Republic  Germany  Germany  England  Australia  Argentina  Switzerland  Germany  Austria  Germany  Republic of Ireland  Poland  Bolivia  England  Saudi Arabia  France  Sierra Leone  Germany  France  Japan  Spain  Germany  Germany  Spain  Denmark  Algeria  Uruguay  India  Argentina  England  Colombia  Peru  Belgium  Republic of Ireland  Kenya  England  India  Paraguay  Italy  Netherlands  Wales  Japan  China PR  Spain  England  Paraguay  France  Italy  Romania  Germany  Italy  Italy  Argentina  Trinidad and Tobago  Germany  Austria  Italy  Germany  Venezuela  Turkey  Italy  New Zealand  Saudi Arabia  Panama  Slovakia  Iraq  Denmark  Korea Republic  Belgium  Germany  South Africa  Venezuela  Spain  Uruguay  Scotland  Ecuador  Uruguay  Côte d'Ivoire  Chile  Romania  Japan  France  Bolivia  nan  Argentina  Turkey  China PR  England  Serbia  Portugal  Denmark  Croatia  France  England  Switzerland  Portugal  England  Japan  Colombia  Cameroon  Senegal  Wales  Argentina  Saudi Arabia  Paraguay  Colombia  Brazil  Netherlands  Argentina  Albania  Congo  Peru  Republic of Ireland  Venezuela  Uruguay  Colombia  Belgium  Venezuela  Finland  Spain  Switzerland  France  Nigeria  Ecuador  Portugal  Uruguay  Argentina  Republic of Ireland  Netherlands  England  Côte d'Ivoire  Spain  Austria  Austria  Ukraine  Republic of Ireland  Germany  Netherlands  Mexico  Spain  Bolivia  Spain  Mexico  India  Haiti  Côte d'Ivoire  Germany  Romania  Bolivia  Spain  Colombia  England  Ecuador  Argentina  England  Peru  France  United States  Algeria  Portugal  Spain  Austria  Austria  Spain  Cameroon  Spain  Hungary  Portugal  Netherlands  Turkey  Guyana  Gambia  England  Spain  France  Wales  Chile  Venezuela  Peru  Austria  Argentina  Ecuador  Spain  Argentina  Peru  England  Spain  Spain  Bosnia and Herzegovina  Republic of Ireland  Equatorial Guinea  Morocco  Germany  Peru  England  Uruguay  Germany  Qatar  England  Belgium  Netherlands  Japan  France  Tunisia  Spain  Spain  Paraguay  England  Germany  Mexico  Peru  Austria  Bolivia  Portugal  Portugal  Greece  Belgium  Uruguay  Morocco  Norway  Scotland  Colombia  Norway  Paraguay  Mexico  England  France  England  Serbia  Georgia  Netherlands  Mexico  England  France  Italy  France  Bolivia  Germany  United States  Germany  Italy  Guinea  Norway  Netherlands  England  Albania  Spain  Spain  Norway  Denmark  Mexico  Norway  Spain  Spain  Spain  Saudi Arabia  Romania  Germany  Scotland  Norway  North Macedonia  Argentina  Mexico  Scotland  Argentina  Paraguay  Italy  England  Benin  Denmark  Spain  Sweden  France  Wales  Venezuela  Colombia  Poland  Norway  Spain  Spain  Denmark  Norway  Romania  Argentina  Switzerland  United States  Gambia  Mexico  India  Republic of Ireland  Turkey  Germany  Paraguay  Spain  Paraguay  Mexico  Venezuela  Belgium  Korea Republic  Denmark  Japan  Portugal  Argentina  Norway  Poland  Norway  India  Poland  Bosnia and Herzegovina  Spain  Senegal  Spain  Morocco  Brazil  Romania  United States  Uruguay  Chile  Finland  Spain  Japan  Bulgaria  Poland  Bolivia  Saudi Arabia  Czech Republic  England  Ghana  Paraguay  Poland  Belgium  Germany  Netherlands  Italy  England  England  Canada  Poland  Italy  Spain  Uruguay  Thailand  Paraguay  Republic of Ireland  France  England  United States  Poland  Northern Ireland  Poland  Paraguay  Japan  Côte d'Ivoire  Ecuador  France  Spain  Argentina  Poland  Switzerland  Mali  Poland  France  Italy  Argentina  England  Tunisia  Mexico  Côte d'Ivoire  France  Saudi Arabia  Australia  Brazil  Germany  Romania  Poland  Argentina  Japan  Iceland  Argentina  England  Belgium  Australia  Poland  Qatar  Gabon  Morocco  Spain  Colombia  Czech Republic  Ecuador  Argentina  Romania  Turkey  Venezuela  Germany  Wales  United States  Spain  Japan  Belgium  Switzerland  Croatia  Croatia  Germany  England  England  Paraguay  Spain  Tunisia  Bolivia  Romania  England  Germany  Spain  England  South Africa  France  Turkey  Germany  England  Greece  Germany  Ghana  Saudi Arabia  Germany  Portugal  Germany  Albania  Germany  Spain  Spain  Bolivia  Paraguay  Germany  Republic of Ireland  Norway  Ghana  Mexico  England  Poland  Spain  Senegal  Argentina  Germany  Bolivia  Norway  Brazil  France  Uruguay  Argentina  Argentina  France  Scotland  Turkey  Serbia  Venezuela  Portugal  China PR  Ecuador  Colombia  Qatar  Japan  Peru  Colombia  Finland  Mali  Spain  Uruguay  England  Turkey  Germany  Turkey  Uruguay  United States  Germany  England  Côte d'Ivoire  Scotland  United States  England  Croatia  France  Belgium  Spain  France  France  Senegal  Gabon  Poland  Poland  Republic of Ireland  Spain  Japan  Poland  Portugal  Mexico  Bulgaria  France  Côte d'Ivoire  Albania  Netherlands  Tanzania  Japan  Sweden  Paraguay  Argentina  Sweden  Italy  Spain  Colombia  France  Japan  France  Germany  United States  United States  Argentina  England  Argentina  Mexico  Italy  Paraguay  Switzerland  Italy  Argentina  India  Iceland  Spain  Peru  Austria  Ecuador  Benin  Poland  Spain  Uruguay  China PR  England  Portugal  Italy  Netherlands  Italy  Uruguay  Bolivia  Bolivia  Guyana  Wales  Republic of Ireland  Romania  Slovenia  Germany  Netherlands  Senegal  Peru  Romania  France  Netherlands  Wales  Brazil  Germany  Argentina  Germany  Ghana  Croatia  England  England  Spain  Brazil  Romania  Denmark  Paraguay  Latvia  Wales  Argentina  Paraguay  Germany  Romania  Germany  Uruguay  Uruguay  United States  Spain  Mexico  Venezuela  Sweden  Venezuela  Brazil  Peru  Finland  Germany  Serbia  Bolivia  Venezuela  Serbia  Spain  Latvia  England  Italy  Austria  Netherlands  Peru  Peru  Sweden  Argentina  Belgium  Uruguay  Ecuador  France  Argentina  Poland  France  India  Egypt  Sweden  Uruguay  England  Peru  Denmark  Portugal  Sweden  Burundi  Ecuador  Turkey  Belgium  England  Belgium  Paraguay  Chile  Wales  England  Turkey  England  United States  Chinese Taipei  Spain  Latvia  Netherlands  Germany  China PR  Paraguay  Venezuela  France  Portugal  Northern Ireland  Norway  Chile  Paraguay  Scotland  Uruguay  Turkey  Turkey  Nigeria  Portugal  Finland  Paraguay  Saudi Arabia  China PR  Côte d'Ivoire  Austria  Netherlands  Japan  Uruguay  India  Brazil  France  France  Turkey  Sweden  Germany  Germany  Gabon  England  Wales  Côte d'Ivoire  France  Norway  France  England  Japan  Netherlands  Japan  Spain  Brazil  Peru  Germany  Gambia  France  Bosnia and Herzegovina  Paraguay  Spain  Italy  Norway  India  Paraguay  Korea Republic  Saudi Arabia  Germany  Italy  Sweden  Portugal  India  Argentina  Spain  Germany  Sweden  Poland  Denmark  Japan  Bolivia  Netherlands  Paraguay  Turkey  France  Colombia  England  England  Republic of Ireland  Belgium  Switzerland  Venezuela  Wales  England  Brazil  England  Venezuela  Germany  Uruguay  England  Georgia  Peru  Romania  Saudi Arabia  Bolivia  Mexico  Spain  Spain  Venezuela  Peru  Bolivia  Croatia  Hungary  Sweden  Spain  New Zealand  Italy  Gambia  Ecuador  Korea Republic  England  Australia  Chile  Republic of Ireland  Belgium  Paraguay  Portugal  Uruguay  Turkey  Uruguay  Uruguay  Australia  Germany  England  Jordan  Uruguay  Turkey  Switzerland  Switzerland  Bulgaria  United States  Poland  France  Romania  Republic of Ireland  France  Germany  Argentina  Spain  Germany  England  Germany  Germany  Chile  Croatia  Argentina  Austria  Northern Ireland  Japan  Cameroon  China PR  England  Spain  Mexico  Saudi Arabia  Scotland  Korea Republic  China PR  Germany  Argentina  England  Chile  Argentina  Brazil  Germany  Japan  Peru  Chile  Austria  Netherlands  France  United States  Japan  Sweden  Uruguay  New Zealand  Colombia  Norway  Argentina  Argentina  Paraguay  Japan  India  Spain  Italy  France  Belgium  Austria  Italy  Spain  Germany  Poland  Portugal  North Macedonia  Egypt  Spain  Italy  Cameroon  Sweden  Argentina  Republic of Ireland  Austria  Brazil  Bosnia and Herzegovina  Malaysia  Portugal  Poland  Spain  Ukraine  Turkey  Turkey  England  Poland  India  Senegal  Slovakia  Burkina Faso  Netherlands  Turkey  India  Korea Republic  Colombia  India  England  Spain  Germany  Ecuador  Korea Republic  Denmark  Paraguay  England  Uruguay  Nigeria  Spain  Argentina  Germany  Republic of Ireland  Serbia  Colombia  Argentina  United States  Uruguay  Austria  Spain  Peru  Morocco  Germany  Republic of Ireland  Mexico  Paraguay  Senegal  United States  Romania  United States  Germany  Iran  Saudi Arabia  Venezuela  Sweden  England  Equatorial Guinea  Argentina  Germany  Turkey  Spain  Netherlands  Bulgaria  Germany  Germany  Korea Republic  Spain  Brazil  Côte d'Ivoire  Sweden  Peru  Ecuador  Romania  Australia  Spain  England  France  Bosnia and Herzegovina  Sweden  South Africa  Poland  England  Spain  Argentina  Serbia  Spain  Romania  Spain  Germany  Ecuador  Ukraine  Italy  Spain  Brazil  England  England  Croatia  Côte d'Ivoire  Denmark  Mexico  Bulgaria  Republic of Ireland  Paraguay  England  Scotland  Paraguay  Venezuela  Ecuador  Germany  Japan  France  Côte d'Ivoire  Switzerland  Bolivia  Argentina  Venezuela  France  Latvia  Brazil  Albania  Nigeria  United States  Wales  Venezuela  Sweden  Germany  Italy  Brazil  Netherlands  Romania  Portugal  Argentina  Uruguay  Denmark  Italy  Ecuador  Germany  Cameroon  England  England  Spain  Italy  Cyprus  Korea Republic  Ecuador  England  Netherlands  Brazil  Peru  Uruguay  Spain  Singapore  Korea Republic  Croatia  Ecuador  Spain  Argentina  Denmark  Argentina  Portugal  Russia  Mexico  England  Australia  Denmark  Germany  Turkey  England  Venezuela  Denmark  Germany  Austria  England  Argentina  Austria  Canada  France  Spain  Uruguay  Nigeria  Norway  Mexico  Colombia  Peru  Australia  Ghana  Senegal  Argentina  Mexico  Wales  Germany  Peru  France  England  Spain  Saudi Arabia  Portugal  Switzerland  Italy  Poland  Mexico  France  Northern Ireland  Argentina  France  Germany  United States  China PR  France  Norway  Spain  Mexico  Czech Republic  Australia  Bulgaria  Turkey  Turkey  Mexico  Russia  Belgium  Finland  Japan  Peru  Croatia  Saudi Arabia  Romania  Guinea Bissau  Bolivia  Germany  Greece  Turkey  Lebanon  Switzerland  Venezuela  Paraguay  Netherlands  England  Bolivia  Romania  Sweden  Italy  Japan  Croatia  France  France  France  Uruguay  Morocco  France  Colombia  Paraguay  Kenya  Germany  England  Peru  Greece  England  Ecuador  Cameroon  Italy  Bulgaria  South Africa  Germany  Côte d'Ivoire  Canada  Venezuela  Equatorial Guinea  Italy  Poland  Uruguay  Australia  Paraguay  Spain  Argentina  Portugal  Spain  Spain  Argentina  Spain  Ghana  Congo  Argentina  South Africa  Venezuela  United States  Italy  Italy  Turkey  Australia  Brazil  Sweden  Belgium  Wales  Netherlands  France  Ecuador  Germany  Spain  Norway  Peru  Germany  Germany  Scotland  Saudi Arabia  England  France  Venezuela  France  England  Slovenia  Hong Kong  Peru  Spain  Colombia  Honduras  United States  Netherlands  Republic of Ireland  Korea Republic  Republic of Ireland  Argentina  Germany  Germany  Japan  Northern Ireland  Ecuador  England  Spain  Spain  France  Colombia  Australia  Spain  Germany  Serbia  Poland  Uruguay  Germany  Republic of Ireland  Colombia  Angola  France  Argentina  Liberia  Romania  Poland  China PR  Venezuela  Norway  Australia  Algeria  Paraguay  Japan  Bolivia  Colombia  England  Senegal  Kosovo  Kosovo  France  Peru  Austria  England  Argentina  Venezuela  Peru  England  Colombia  Malta  Romania  England  France  Ecuador  Spain  Finland  Austria  Brazil  Germany  Scotland  Italy  Germany  Austria  United States  Colombia  Mexico  Argentina  Argentina  Uruguay  Uruguay  Argentina  Spain  England  Croatia  Germany  Denmark  Norway  India  Costa Rica  South Africa  England  Spain  France  Croatia  Romania  England  United States  Italy  England  Korea Republic  Norway  France  Uruguay  Morocco  Greece  France  Colombia  England  France  Russia  Turkey  Uruguay  India  Argentina  Mexico  Japan  Germany  Japan  Croatia  Paraguay  Spain  Brazil  Japan  Paraguay  Kosovo  Uzbekistan  Argentina  Serbia  Japan  Scotland  Romania  Austria  Paraguay  Paraguay  Netherlands  Croatia  Scotland  Norway  France  Germany  Bolivia  Lithuania  Senegal  Kosovo  Nigeria  Greece  Poland  Brazil  England  Venezuela  Venezuela  Germany  Argentina  Japan  England  Belgium  Bolivia  Mexico  Norway  Ecuador  Poland  Cameroon  United States  Venezuela  Mauritania  England  Sweden  Serbia  Republic of Ireland  Wales  Republic of Ireland  Chile  Venezuela  Australia  Turkey  England  Uruguay  Sweden  Gambia  Spain  Albania  Croatia  Mexico  Saudi Arabia  England  Colombia  Poland  Romania  Paraguay  Venezuela  Portugal  Mexico  Argentina  Germany  Spain  Spain  Paraguay  England  Belgium  England  England  China PR  Germany  Brazil  Peru  Morocco  England  Republic of Ireland  Germany  Romania  Scotland  Uruguay  Venezuela  United States  England  Denmark  Portugal  Netherlands  Mauritania  Colombia  Nigeria  Spain  Japan  Republic of Ireland  Germany  England  Peru  Faroe Islands  Scotland  Paraguay  Venezuela  Brazil  El Salvador  France  Argentina  Venezuela  Spain  Japan  Peru  Switzerland  Netherlands  Japan  Netherlands  Turkey  Romania  Slovakia  England  Italy  Spain  Uruguay  Denmark  Ecuador  Cape Verde Islands  Romania  Republic of Ireland  Scotland  Venezuela  Sweden  Saudi Arabia  England  Spain  Venezuela  Norway  Uruguay  Netherlands  Turkey  Peru  Slovenia  Sweden  Denmark  Sweden  Romania  Turkey  Switzerland  Spain  Germany  France  Sweden  Argentina  Spain  Norway  China PR  Italy  Japan  United States  Turkey  Mexico  Argentina  England  Bolivia  Argentina  Romania  Peru  Israel  Argentina  Germany  England  North Macedonia  United States  Argentina  Argentina  France  England  Turkey  Canada  India  Germany  Scotland  Greece  Algeria  England  Mexico  Venezuela  Norway  France  Germany  Guinea Bissau  Netherlands  Venezuela  Ecuador  Poland  Italy  Norway  England  Tunisia  Republic of Ireland  Netherlands  Sweden  France  Scotland  Netherlands  Uruguay  Venezuela  Norway  Germany  Greece  Poland  Spain  Poland  Bolivia  Argentina  England  England  England  Austria  Lithuania  Paraguay  Romania  Argentina  Korea Republic  Ecuador  Romania  Romania  France  Germany  Venezuela  Uruguay  Denmark  Finland  Croatia  Tunisia  Republic of Ireland  France  United States  England  Germany  Lithuania  Mexico  Turkey  Korea Republic  Portugal  Spain  Serbia  France  Ecuador  Sweden  China PR  Italy  Chile  Costa Rica  England  England  Czech Republic  Venezuela  Japan  France  Poland  Romania  New Zealand  England  United States  United States  Peru  Turkey  Uruguay  Italy  Argentina  Switzerland  Argentina  Republic of Ireland  North Macedonia  Denmark  New Zealand  Germany  Gambia  England  Senegal  Iceland  Morocco  Northern Ireland  Germany  Republic of Ireland  Netherlands  Mexico  England  Germany  Saudi Arabia  Venezuela  England  Norway  England  Brazil  France  Korea Republic  United States  Hungary  Germany  Colombia  England  Poland  Germany  England  Italy  Belgium  Japan  Mexico  France  Venezuela  Croatia  Spain  Greece  India  Argentina  France  Turkey  Romania  Colombia  Sweden  India  Spain  Chile  Germany  Peru  Congo  Morocco  France  Scotland  Italy  Japan  Turkey  Ghana  Argentina  Republic of Ireland  Mexico  Croatia  Saudi Arabia  Ukraine  Venezuela  Spain  England  Finland  Serbia  Côte d'Ivoire  Brazil  Chile  United States  France  England  Germany  Norway  Japan  Chile  England  Japan  France  Spain  Sweden  Spain  Poland  Bolivia  Ecuador  Argentina  Germany  Republic of Ireland  Serbia  Poland  Korea Republic  Spain  Romania  France  Australia  Sweden  Japan  Finland  Spain  Ecuador  Venezuela  England  Belgium  France  England  Austria  Paraguay  England  Germany  Nigeria  Chile  United States  Australia  Belgium  England  Austria  Argentina  Japan  Germany  Romania  Cyprus  Jamaica  Austria  France  Paraguay  Australia  Canada  Germany  United States  Czech Republic  Bolivia  Switzerland  Argentina  Serbia  Japan  Turkey  Germany  Sweden  Indonesia  Argentina  Italy  England  Peru  Argentina  Chile  Austria  Uruguay  Bolivia  Spain  Australia  Tunisia  Cameroon  China PR  Bolivia  Argentina  Luxembourg  China PR  Spain  Canada  Mexico  Jordan  Mexico  Scotland  Italy  England  Netherlands  Korea Republic  Republic of Ireland  England  England  Uruguay  India  Germany  Germany  Mexico  France  England  Croatia  Burkina Faso  Serbia  Peru  England  Venezuela  Spain  Panama  Germany  India  Denmark  Paraguay  England  Netherlands  Poland  England  Republic of Ireland  Ecuador  England  Spain  England  Congo DR  Portugal  Ecuador  Argentina  Bulgaria  England  Spain  Wales  Mexico  Belgium  Germany  Colombia  Norway  Canada  Jamaica  England  Romania  Paraguay  Spain  Spain  Uruguay  Sweden  Netherlands  Argentina  Mexico  Venezuela  Uruguay  Sweden  Argentina  Spain  Denmark  Germany  Bolivia  France  Germany  Netherlands  Denmark  Venezuela  Guatemala  Venezuela  Poland  Comoros  Republic of Ireland  Nigeria  Japan  Argentina  Australia  Norway  Austria  Mexico  New Zealand  Korea Republic  Peru  Venezuela  Spain  Venezuela  Brazil  United States  Venezuela  Germany  Bolivia  Chile  Netherlands  Côte d'Ivoire  England  France  United States  Wales  Brazil  Saudi Arabia  Turkey  Spain  Germany  Cameroon  England  Spain  Spain  Spain  Sweden  Japan  France  Germany  Norway  Uruguay  England  Germany  Argentina  Turkey  Guinea  England  Italy  Colombia  Argentina  Peru  Portugal  Côte d'Ivoire  England  Venezuela  Italy  Argentina  Guinea  France  Colombia  Brazil  Spain  England  Angola  Finland  Germany  Turkey  Portugal  Romania  England  Japan  Switzerland  Norway  Scotland  Argentina  Ecuador  Argentina  Argentina  Poland  China PR  Chile  Colombia  Turkey  Chile  Romania  Senegal  Northern Ireland  Brazil  Scotland  Brazil  Ecuador  Sweden  Venezuela  Romania  Japan  Germany  Germany  Uruguay  Venezuela  Cyprus  Austria  England  France  India  Germany  Turkey  England  Iceland  Venezuela  Sweden  Netherlands  France  Germany  Germany  England  Turkey  Romania  Germany  France  Paraguay  Spain  Germany  Serbia  England  England  Venezuela  India  United States  Chile  Saudi Arabia  United States  Argentina  Australia  Republic of Ireland  Saudi Arabia  Argentina  Spain  Argentina  Montenegro  Germany  Korea Republic  Paraguay  Ecuador  Netherlands  Trinidad and Tobago  Denmark  Uruguay  Uruguay  France  Argentina  Korea Republic  Italy  England  Australia  England  Norway  Belgium  Uruguay  Uruguay  United States  England  Colombia  Uruguay  Netherlands  England  Ukraine  Argentina  India  Spain  Croatia  Colombia  United States  Panama  Portugal  Australia  Uruguay  Poland  France  Germany  Spain  Germany  Argentina  Germany  Italy  Venezuela  Venezuela  France  Belgium  Nigeria  Denmark  France  Romania  Austria  Ecuador  Belgium  Chile  Papua New Guinea  England  Austria  Iceland  Australia  Ecuador  England  Scotland  Norway  Italy  England  Turkey  Norway  Italy  England  Germany  Norway  Serbia  Wales  Netherlands  Côte d'Ivoire  Saudi Arabia  Paraguay  Romania  Cameroon  Portugal  Venezuela  Ghana  Korea Republic  Côte d'Ivoire  Austria  Republic of Ireland  Germany  Netherlands  Italy  Guinea Bissau  Mauritania  Portugal  Italy  England  Germany  England  Netherlands  Australia  Spain  Sweden  Venezuela  Gambia  Germany  Turkey  England  Burkina Faso  Poland  Mexico  England  Colombia  Belgium  Argentina  Mexico  Romania  Korea Republic  Poland  Uruguay  Spain  Greece  Ecuador  England  Russia  United Arab Emirates  Russia  Kenya  Spain  Croatia  England  Poland  Romania  Netherlands  Romania  Romania  Peru  Switzerland  England  Germany  Sweden  Mexico  Spain  Argentina  Congo DR  England  Portugal  England  France  Morocco  England  Republic of Ireland  Wales  Paraguay  Argentina  Italy  France  Slovenia  France  Germany  Venezuela  Croatia  Spain  Germany  England  Switzerland  Belgium  Peru  Japan  Portugal  Slovenia  Ecuador  Bolivia  Japan  Italy  Paraguay  Paraguay  France  Italy  Congo DR  Romania  Paraguay  Côte d'Ivoire  Germany  Germany  Argentina  Japan  Brazil  Saudi Arabia  Serbia  Argentina  Paraguay  Italy  Paraguay  Japan  Japan  Spain  Scotland  Republic of Ireland  Ecuador  United States  Israel  England  Venezuela  Korea Republic  Paraguay  Germany  Kenya  Australia  Venezuela  Poland  England  Belgium  Benin  Ecuador  Lithuania  Germany  Ghana  Italy  Bolivia  Scotland  Canada  England  England  France  England  Germany  Germany  France  Saudi Arabia  Paraguay  Germany  Canada  Côte d'Ivoire  Portugal  Portugal  Netherlands  Australia  Belgium  Uruguay  Romania  Venezuela  Guinea Bissau  Paraguay  Greece  Japan  Algeria  Sweden  Cyprus  Venezuela  Spain  France  England  Germany  Scotland  England  Bolivia  Saudi Arabia  Wales  Venezuela  Venezuela  Republic of Ireland  Colombia  Ecuador  Argentina  France  Bolivia  Spain  Korea Republic  Japan  Mauritania  Ghana  Nigeria  Belgium  Spain  Côte d'Ivoire  England  England  England  England  Venezuela  Turkey  Spain  Colombia  England  Sweden  Paraguay  Saudi Arabia  Norway  Romania  Peru  Denmark  Ecuador  England  Netherlands  Germany  England  Mexico  Brazil  Paraguay  Angola  Turkey  Paraguay  Spain  Paraguay  Scotland  Germany  Scotland  Hungary  Austria  Paraguay  Paraguay  Russia  Mexico  Italy  France  Scotland  Brazil  Turkey  Paraguay  Japan  Italy  England  Scotland  Turkey  Saudi Arabia  France  Australia  Germany  Colombia  Sweden  Netherlands  Germany  Mexico  Colombia  India  Japan  France  India  Poland  Japan  Germany  France  England  New Zealand  Ecuador  Venezuela  Romania  Sweden  Mexico  Saudi Arabia  France  Poland  Venezuela  Turkey  Montenegro  France  England  England  Iceland  Belgium  Argentina  Thailand  Canada  England  Netherlands  Argentina  England  New Zealand  Paraguay  Argentina  Australia  Paraguay  Portugal  Australia  Italy  Sweden  Poland  Sweden  Italy  Bulgaria  Switzerland  France  Guinea Bissau  Poland  Japan  Sweden  Turkey  Brazil  England  Nigeria  Morocco  Germany  Bulgaria  Colombia  Republic of Ireland  Uruguay  Turkey  Ecuador  Australia  France  Italy  Venezuela  Angola  Japan  Germany  Venezuela  Argentina  Paraguay  Paraguay  Netherlands  Greece  Argentina  Thailand  England  Cyprus  Norway  Colombia  England  China PR  Germany  Netherlands  Thailand  Colombia  Peru  Sweden  Germany  Australia  Spain  India  Poland  Romania  France  England  England  Spain  England  Croatia  Germany  Germany  England  Norway  England  Venezuela  Poland  Uruguay  Venezuela  France  Scotland  China PR  Spain  Japan  England  Uruguay  Saudi Arabia  England  Bolivia  France  France  Romania  Scotland  Spain  France  Ecuador  Jamaica  Paraguay  Comoros  France  Sweden  Spain  Turkey  Scotland  Republic of Ireland  Scotland  Ecuador  Wales  Peru  France  Nigeria  France  Colombia  Denmark  England  Brazil  Australia  Bolivia  Norway  Australia  Republic of Ireland  Japan  Poland  Côte d'Ivoire  Chile  Argentina  Argentina  France  Paraguay  Austria  England  United States  Mali  France  Germany  Switzerland  Argentina  Guinea  Sweden  Argentina  Romania  Spain  Germany  Germany  England  Netherlands  England  Belgium  England  United States  England  Nigeria  Peru  Ecuador  Netherlands  Paraguay  Sweden  Czech Republic  Romania  Saudi Arabia  England  Mexico  Argentina  Portugal  Uganda  Spain  France  Netherlands  Japan  Spain  Denmark  Chile  Germany  Estonia  Tunisia  Colombia  Switzerland  nan  England  Italy  Ghana  France  Venezuela  Brazil  Spain  China PR  China PR  Brazil  Norway  Libya  Germany  Cyprus  Thailand  Turkey  Serbia  England  United States  Chile  Peru  Germany  United States  Korea Republic  Uruguay  Spain  Poland  Spain  Turkey  England  Republic of Ireland  Chile  Bosnia and Herzegovina  Wales  Switzerland  Brazil  Ukraine  Sweden  Finland  Netherlands  England  Turkey  France  Wales  Korea Republic  Colombia  Sweden  Senegal  France  England  Germany  France  Argentina  Mexico  Austria  Chile  India  Argentina  Denmark  Iceland  Saudi Arabia  Netherlands  Denmark  England  Portugal  Sudan  Croatia  Germany  Mexico  Colombia  England  Romania  Albania  Congo DR  Sweden  Argentina  Switzerland  Austria  Spain  Germany  England  Argentina  England  England  England  Germany  England  England  Poland  Uruguay  Peru  England  Poland  Germany  Austria  Paraguay  Poland  United States  Brazil  Paraguay  Ecuador  Saudi Arabia  China PR  Paraguay  Venezuela  Saudi Arabia  France  Bolivia  Germany  Spain  England  Peru  Romania  Romania  Iceland  India  Ecuador  Bolivia  United States  France  Congo DR  Argentina  Germany  Slovenia  Armenia  United Arab Emirates  England  Turkey  Poland  France  Germany  France  Switzerland  India  Paraguay  Chile  Serbia  Belgium  Korea Republic  Ghana  Colombia  Germany  Belgium  Austria  Wales  Côte d'Ivoire  Turkey  England  England  Slovenia  Italy  Belarus  France  Morocco  Germany  Kosovo  Spain  England  England  Turkey  Germany  Argentina  Romania  Turkey  England  Comoros  Netherlands  Denmark  Argentina  Romania  Republic of Ireland  Germany  Republic of Ireland  Italy  Australia  Croatia  Spain  Germany  Spain  Netherlands  Morocco  Mexico  Ecuador  Belgium  Poland  Brazil  Sweden  Argentina  Republic of Ireland  France  Senegal  Northern Ireland  England  Colombia  England  Germany  Korea Republic  Mexico  Uruguay  Republic of Ireland  Hungary  Austria  Argentina  Saudi Arabia  Ecuador  England  Central African Republic  Norway  Slovakia  Turkey  Ghana  Norway  Italy  Turkey  United States  Germany  Austria  Mexico  Romania  Colombia  Saudi Arabia  England  Germany  Saudi Arabia  Republic of Ireland  Saudi Arabia  England  Scotland  Chile  Germany  Belgium  United States  Colombia  France  Mexico  Bulgaria  Serbia  Peru  Poland  Switzerland  England  Ghana  Guinea  England  Argentina  Guinea  Turkey  Bolivia  Poland  Norway  Bolivia  Brazil  Belgium  Northern Ireland  England  Slovenia  England  nan  England  Sweden  Netherlands  Finland  Korea Republic  Australia  Canada  Romania  England  United States  India  Brazil  England  Turkey  France  Ecuador  Saudi Arabia  France  France  Gambia  Japan  Paraguay  Chile  Saudi Arabia  Morocco  Republic of Ireland  Australia  Norway  Paraguay  Chile  Austria  England  Germany  Sweden  Bulgaria  United States  Sweden  Scotland  Colombia  Morocco  Netherlands  England  Brazil  Belgium  India  Saudi Arabia  United States  England  Austria  England  Switzerland  Venezuela  Japan  Peru  Poland  Mexico  Romania  England  Uruguay  Netherlands  Colombia  Germany  Guinea Bissau  South Africa  Argentina  Belgium  England  Switzerland  Iceland  Netherlands  Ghana  Australia  Chile  Portugal  Argentina  Mexico  Ecuador  England  Argentina  Argentina  England  England  England  England  Peru  England  Italy  Peru  Wales  Romania  Norway  Poland  Kosovo  Peru  Poland  Germany  Wales  Spain  China PR  Italy  Spain  Colombia  Belgium  Serbia  Sweden  England  England  Colombia  Switzerland  Belgium  Republic of Ireland  Turkey  England  Croatia  Peru  Venezuela  Brazil  Saudi Arabia  Spain  Australia  Scotland  Romania  Uruguay  Mexico  Italy  Norway  Mexico  Saudi Arabia  Belgium  France  Australia  Japan  Sweden  England  England  Scotland  Germany  Argentina  Uruguay  Venezuela  England  France  England  Montenegro  Republic of Ireland  France  Argentina  Venezuela  Mexico  Norway  Paraguay  Bolivia  Sweden  Saudi Arabia  England  Ecuador  Peru  Germany  Portugal  Canada  Japan  Netherlands  Austria  Northern Ireland  Australia  Paraguay  Austria  Spain  England  Brazil  Argentina  United States  Romania  Canada  France  Venezuela  United States  Uruguay  Spain  Spain  North Macedonia  Romania  Ecuador  Paraguay  Norway  Spain  Spain  Mexico  Netherlands  Germany  Finland  Argentina  Netherlands  England  Brazil  Senegal  Hungary  India  Germany  Netherlands  Algeria  Denmark  Wales  Germany  Australia  Netherlands  Ecuador  England  India  China PR  Peru  Portugal  Switzerland  Poland  Serbia  France  Turkey  Brazil  Norway  England  England  Romania  Argentina  Sweden  England  Poland  Germany  Venezuela  Uruguay  Uruguay  Belgium  Côte d'Ivoire  Romania  Uruguay  Chile  Senegal  Germany  Japan  United States  England  England  Turkey  England  France  Denmark  Saudi Arabia  Colombia  France  Saudi Arabia  Switzerland  England  Saudi Arabia  Norway  Sudan  Norway  Germany  Uruguay  Argentina  Germany  Belgium  Belgium  Guinea  Paraguay  United States  Sweden  New Zealand  Côte d'Ivoire  Brazil  Korea Republic  Chile  Chile  United States  Portugal  England  Germany  Colombia  Nigeria  Germany  Estonia  France  Paraguay  Netherlands  Senegal  Scotland  Saudi Arabia  Kosovo  England  Germany  Turkey  Saudi Arabia  Republic of Ireland  United States  Scotland  Uruguay  Argentina  Paraguay  Mexico  France  Bolivia  Japan  Norway  Germany  Australia  Poland  Republic of Ireland  England  Nigeria  Romania  Australia  Poland  Germany  Norway  Korea Republic  Romania  Republic of Ireland  Ecuador  Poland  England  England  Paraguay  Germany  New Zealand  England  Turkey  Norway  Australia  England  Paraguay  Ecuador  Ecuador  Poland  Senegal  Australia  Argentina  Venezuela  Germany  Ecuador  Mexico  England  Republic of Ireland  England  Finland  New Zealand  Mexico  Paraguay  Korea Republic  Spain  Austria  Czech Republic  Sweden  England  Republic of Ireland  Argentina  England  Uruguay  Argentina  Argentina  Romania  Italy  Belgium  Argentina  Germany  Germany  Chinese Taipei  Montenegro  Korea Republic  Turkey  Japan  Brazil  England  Spain  Saudi Arabia  United States  Wales  North Macedonia  Venezuela  Venezuela  Costa Rica  Germany  England  Denmark  Argentina  Sweden  Poland  Japan  Italy  England  Canada  Germany  Colombia  Uruguay  Venezuela  England  Russia  Brazil  China PR  Ecuador  Argentina  Romania  Poland  Spain  Netherlands  England  Spain  Zambia  Spain  England  France  England  United States  Zimbabwe  Wales  Venezuela  Argentina  Saudi Arabia  Norway  England  Korea Republic  France  Germany  Austria  Cameroon  Chile  Uruguay  Paraguay  China PR  Norway  United States  Germany  China PR  Korea Republic  Colombia  Australia  Turkey  Germany  Spain  France  Korea Republic  France  Curacao  Belgium  Austria  Venezuela  Netherlands  Turkey  Norway  England  Ecuador  France  Germany  Norway  Colombia  Austria  Mexico  England  Venezuela  United States  Australia  Saudi Arabia  Saudi Arabia  Cameroon  France  South Africa  England  France  Romania  Ecuador  Japan  Scotland  France  Republic of Ireland  Croatia  Ecuador  France  England  Germany  Japan  United States  Nigeria  Switzerland  England  Sweden  France  Netherlands  Paraguay  Germany  Chile  Germany  Ecuador  Scotland  Norway  Germany  Spain  England  Poland  Sweden  Latvia  Spain  Wales  England  China PR  Serbia  Turkey  Colombia  Bolivia  Argentina  Italy  Sweden  Netherlands  England  Sweden  Morocco  Venezuela  England  Scotland  Scotland  Belgium  Wales  Croatia  England  Gabon  England  United States  Republic of Ireland  England  Sweden  Belgium  Saudi Arabia  Belgium  Zambia  Sweden  Uruguay  Paraguay  Switzerland  Switzerland  Republic of Ireland  Scotland  Bolivia  Norway  Albania  Bolivia  Poland  Romania  Italy  New Zealand  England  Senegal  Argentina  Norway  Slovakia  France  Mexico  England  Scotland  Spain  Mexico  Venezuela  Venezuela  Switzerland  Switzerland  England  Wales  Korea Republic  Honduras  Norway  United States  Belgium  Peru  Uruguay  Sweden  Netherlands  Germany  England  Ukraine  Norway  England  Turkey  Slovakia  Mali  Germany  China PR  nan  Japan  Ghana  Italy  England  Saudi Arabia  Venezuela  India  Paraguay  Argentina  Northern Ireland  Finland  Czech Republic  Korea Republic  Germany  Venezuela  Argentina  Italy  Argentina  Japan  England  Paraguay  Cameroon  Germany  Turkey  Scotland  England  Romania  Scotland  France  England  Germany  Norway  Paraguay  Venezuela  Paraguay  India  Peru  France  Japan  Germany  Denmark  Paraguay  England  Germany  Japan  Greece  Hungary  England  Saudi Arabia  Japan  Norway  Venezuela  Paraguay  Argentina  Argentina  Ecuador  Norway  Canada  Turkey  Republic of Ireland  United States  Korea Republic  Serbia  Ecuador  France  Austria  Poland  Spain  Netherlands  Norway  Austria  England  England  England  Wales  Saudi Arabia  France  Senegal  Nigeria  Venezuela  Puerto Rico  Norway  Germany  England  Saudi Arabia  England  Turkey  Uruguay  Romania  Wales  Germany  Serbia  England  England  Switzerland  England  Argentina  England  Poland  India  Austria  France  Ecuador  Belgium  England  Bolivia  Japan  England  Ecuador  Saudi Arabia  England  Colombia  Romania  Ecuador  Korea Republic  Germany  India  Argentina  Korea Republic  Mali  Turkey  China PR  Argentina  Romania  Germany  United States  Mexico  England  Iceland  Turkey  England  Korea Republic  Canada  Spain  Mexico  Argentina  Paraguay  Poland  Saudi Arabia  Northern Ireland  Spain  Bolivia  Georgia  Romania  Argentina  Spain  England  Chile  Guinea Bissau  India  France  Paraguay  Germany  Greece  Spain  Japan  Benin  Italy  Germany  Scotland  Costa Rica  England  Cameroon  Mexico  Mexico  Côte d'Ivoire  England  Germany  Sweden  Poland  Argentina  Saudi Arabia  Nigeria  Japan  India  Netherlands  Mexico  Serbia  Brazil  England  Norway  France  Saudi Arabia  England  Republic of Ireland  France  Bolivia  Romania  Japan  Spain  England  Poland  India  Spain  Chile  Belgium  Mexico  Argentina  England  England  Comoros  Comoros  Colombia  Spain  England  Poland  Austria  Germany  Turkey  Germany  Denmark  Netherlands  Wales  Poland  England  Australia  Netherlands  France  France  Germany  Spain  Argentina  England  Republic of Ireland  Uruguay  Finland  Republic of Ireland  Saudi Arabia  Germany  Germany  Slovakia  Argentina  Germany  Chile  China PR  Argentina  Korea Republic  Korea Republic  Norway  Northern Ireland  China PR  England  Paraguay  Germany  Scotland  India  India  England  Netherlands  England  Korea Republic  Sweden  Mexico  Saudi Arabia  Peru  Netherlands  Spain  England  Uruguay  Sweden  Argentina  Uruguay  United States  Saudi Arabia  England  Bolivia  Israel  China PR  Saudi Arabia  Korea Republic  Australia  France  Chile  Republic of Ireland  Germany  Scotland  Venezuela  United States  Bolivia  Korea Republic  Netherlands  France  Japan  Republic of Ireland  Peru  Germany  Uruguay  Scotland  Switzerland  Austria  Poland  Denmark  Guinea  Saudi Arabia  Turkey  Austria  England  Germany  Mexico  Poland  Turkey  Saudi Arabia  Argentina  France  Côte d'Ivoire  Germany  Congo  Brazil  England  Germany  France  United States  Argentina  United States  Republic of Ireland  Saudi Arabia  Italy  Colombia  England  Argentina  China PR  England  Germany  Australia  Korea Republic  Luxembourg  Saudi Arabia  Spain  England  Austria  Romania  Lebanon  Germany  Colombia  Scotland  Japan  England  Argentina  France  Australia  Argentina  Croatia  Saudi Arabia  Poland  India  Argentina  Portugal  Republic of Ireland  Denmark  Norway  Germany  Cameroon  Kenya  Poland  Peru  Israel  Venezuela  Netherlands  Argentina  Venezuela  Argentina  Germany  Switzerland  Romania  Sweden  Côte d'Ivoire  England  United States  England  England  England  Romania  Angola  Uruguay  China PR  Senegal  England  France  China PR  Romania  Poland  United States  Poland  Sierra Leone  Romania  Switzerland  Netherlands  Kosovo  France  France  Chile  Ecuador  France  Chile  Turkey  Germany  Nigeria  Germany  Australia  Brazil  England  Cyprus  Ukraine  Sweden  China PR  Romania  Switzerland  Senegal  Dominican Republic  Cyprus  Republic of Ireland  Ecuador  Wales  Sweden  Argentina  Nigeria  India  Japan  Republic of Ireland  Australia  Congo DR  Ghana  Paraguay  Mexico  Republic of Ireland  Guinea  Germany  Chile  Japan  England  France  Venezuela  Venezuela  France  North Macedonia  Belgium  Mexico  Norway  China PR  Netherlands  Republic of Ireland  Finland  Germany  China PR  Norway  Portugal  Netherlands  Cameroon  Saudi Arabia  Germany  Saudi Arabia  Italy  Germany  Croatia  Venezuela  Sweden  Colombia  Bolivia  Paraguay  Japan  England  Chile  Scotland  Australia  Peru  Turkey  France  Senegal  United States  Uruguay  India  India  Peru  Colombia  Slovenia  Chile  Bulgaria  Northern Ireland  Austria  England  England  Tunisia  Republic of Ireland  Ghana  Switzerland  France  Mexico  Bulgaria  North Macedonia  Honduras  Peru  England  Germany  Uruguay  Colombia  India  Uruguay  Chile  Korea Republic  India  Netherlands  Japan  Chile  Chile  Peru  Gambia  Germany  Japan  Spain  Romania  Netherlands  Korea Republic  England  Colombia  Germany  Korea Republic  England  Turkey  Russia  Spain  Bolivia  Korea Republic  Korea Republic  England  Australia  England  Saudi Arabia  Saudi Arabia  Switzerland  Austria  Bolivia  Germany  Ecuador  France  Germany  France  Germany  England  Italy  United States  United States  England  Algeria  Côte d'Ivoire  Germany  Poland  Norway  Mexico  England  Spain  Germany  Germany  Korea Republic  Italy  Russia  France  England  England  Senegal  Kosovo  Kosovo  Switzerland  Bolivia  Sierra Leone  United States  Liberia  Finland  Republic of Ireland  England  Chile  Saudi Arabia  France  China PR  Germany  Colombia  Poland  Belgium  Portugal  Colombia  England  England  Argentina  Argentina  Romania  Australia  Chile  Germany  Italy  Spain  Sweden  United States  Chile  Poland  Republic of Ireland  India  Malawi  Denmark  Germany  Paraguay  Congo DR  Korea Republic  Sweden  Poland  Poland  Romania  Netherlands  England  Guinea  United States  Chile  England  Venezuela  Portugal  Poland  Scotland  Australia  France  Croatia  Netherlands  England  England  Georgia  England  Germany  Romania  Republic of Ireland  Spain  Korea Republic  Italy  Paraguay  Belgium  nan  Chile  Spain  Denmark  France  United States  England  Cyprus  Sweden  Belgium  Argentina  Belgium  Chile  Colombia  Guinea  Colombia  Austria  Poland  Turkey  Turkey  England  Colombia  Iraq  Togo  Germany  England  Argentina  Saudi Arabia  Netherlands  England  Brazil  Brazil  Turkey  Poland  Canada  Sweden  Bolivia  Germany  Ecuador  Germany  Republic of Ireland  Japan  Romania  Japan  Tanzania  Senegal  Switzerland  China PR  Portugal  Saudi Arabia  United States  Poland  Mexico  Mexico  United States  Spain  Mexico  Paraguay  Belgium  Ecuador  Sweden  England  Canada  England  Chile  Portugal  Saudi Arabia  Turkey  Sweden  England  Spain  Norway  Netherlands  Peru  France  Colombia  Spain  Korea Republic  Japan  Israel  Egypt  England  Turkey  United States  France  Austria  Croatia  Romania  China PR  Poland  Denmark  Germany  Peru  Argentina  Denmark  Finland  China PR  Germany  England  Chile  Denmark  United States  Spain  North Macedonia  England  England  Turkey  Romania  England  Uruguay  France  Norway  Brazil  Belgium  Wales  Korea Republic  Bolivia  England  England  Saudi Arabia  Germany  Poland  France  Kosovo  England  Côte d'Ivoire  Netherlands  India  Paraguay  Finland  Korea Republic  Germany  India  England  Venezuela  Romania  Morocco  Japan  Peru  Republic of Ireland  Saudi Arabia  Germany  Germany  Belgium  Poland  New Zealand  Germany  Turkey  Argentina  Morocco  Norway  Spain  Uruguay  England  France  Korea Republic  Argentina  Portugal  Paraguay  Poland  Turkey  Croatia  Colombia  France  Denmark  Germany  Germany  France  Republic of Ireland  Germany  United States  England  Uruguay  Equatorial Guinea  Northern Ireland  Argentina  Sweden  England  Spain  Uruguay  Argentina  England  Netherlands  Scotland  Belgium  Peru  Saudi Arabia  Romania  France  France  Austria  Korea Republic  France  England  Mexico  England  Australia  England  Italy  Portugal  Korea Republic  Australia  Austria  Sweden  England  Australia  Republic of Ireland  Romania  Korea Republic  China PR  China PR  Uruguay  Italy  Venezuela  Sweden  China PR  Norway  Belgium  United States  Brazil  Venezuela  Colombia  Germany  Republic of Ireland  Sweden  Nigeria  United States  Saudi Arabia  Italy  United States  Italy  France  Japan  Germany  Korea Republic  Poland  Saudi Arabia  Colombia  England  Paraguay  United States  Scotland  Spain  Ecuador  England  Germany  Turkey  Denmark  Portugal  Cyprus  China PR  Côte d'Ivoire  Colombia  England  Poland  Bolivia  Austria  nan  England  Paraguay  Spain  Colombia  England  Switzerland  Haiti  India  China PR  Serbia  Netherlands  Italy  Slovenia  Argentina  China PR  Belgium  Denmark  Chile  United States  England  Republic of Ireland  Scotland  Sweden  Spain  Australia  India  England  Gabon  Belgium  China PR  Italy  Australia  China PR  China PR  India  Spain  Sweden  England  England  United States  Norway  Germany  India  Sweden  Mexico  Scotland  India  Colombia  Uruguay  Korea Republic  Italy  England  Germany  Korea Republic  United States  Romania  Chile  Mexico  Republic of Ireland  Gambia  Northern Ireland  China PR  India  India  Peru  Spain  Brazil  South Sudan  Poland  India  Republic of Ireland  Romania  England  United States  Italy  Denmark  Republic of Ireland  India  Spain  England  Austria  France  Colombia  Korea Republic  India  Romania  Romania  United States  England  South Africa  Mexico  Canada  Ecuador  England  France  Spain  Uruguay  Japan  Wales  Denmark  Mexico  Saudi Arabia  Côte d'Ivoire  Japan  Switzerland  Czech Republic  Spain  Denmark  China PR  Paraguay  France  South Africa  China PR  Switzerland  Czech Republic  Mexico  England  France  Spain  Denmark  Korea Republic  Congo DR  Austria  Italy  Saudi Arabia  Netherlands  Germany  China PR  Germany  Colombia  Australia  South Africa  Spain  Peru  Uruguay  Spain  Spain  Spain  England  India  Venezuela  Norway  Australia  Romania  Mexico  Poland  Saudi Arabia  England  Germany  Brazil  France  Republic of Ireland  Sweden  Colombia  England  Germany  Netherlands  Netherlands  Korea Republic  Ecuador  Mali  Colombia  England  Peru  England  England  Ukraine  Belgium  Portugal  China PR  Sweden  China PR  Scotland  Japan  England  Saudi Arabia  United States  Poland  England  France  Uruguay  France  Cameroon  Chile  Australia  Romania  Brazil  Germany  Chile  Austria  Portugal  Slovakia  Brazil  Korea Republic  Austria  Mexico  Venezuela  Germany  Italy  England  Belgium  Romania  Germany  Germany  Ecuador  Poland  Australia  Scotland  Norway  Venezuela  Australia  England  Egypt  Brazil  Turkey  Paraguay  Venezuela  England  Austria  Saudi Arabia  Angola  Spain  Uruguay  Ecuador  United States  Saudi Arabia  Australia  Chile  Romania  Saudi Arabia  Morocco  Kenya  United States  Japan  Mexico  Sweden  Sweden  Norway  Chile  England  Japan  India  Portugal  United States  Senegal  England  England  Sweden  Paraguay  United States  Poland  Belgium  Brazil  Japan  Belgium  Paraguay  France  Burkina Faso  Saudi Arabia  Cameroon  Ecuador  Venezuela  England  Venezuela  India  Canada  Gambia  Japan  Sweden  Canada  China PR  Republic of Ireland  Norway  Poland  Germany  Peru  England  Poland  Scotland  Republic of Ireland  Jordan  France  Colombia  Poland  Sweden  Poland  Uruguay  Norway  Scotland  Republic of Ireland  Mali  China PR  Kenya  Germany  Germany  Canada  China PR  Mexico  Venezuela  Chile  Portugal  Paraguay  Greece  Australia  Spain  Paraguay  Peru  Sweden  England  India  Wales  England  France  Bolivia  China PR  England  Australia  Romania  Côte d'Ivoire  Portugal  Peru  Australia  Denmark  Colombia  United States  England  Austria  Ecuador  India  Bolivia  Paraguay  Belgium  France  France  Saudi Arabia  Korea Republic  Saudi Arabia  Romania  United States  England  Germany  Denmark  Japan  Argentina  England  Republic of Ireland  Chile  Saudi Arabia  India  Kosovo  Ecuador  Paraguay  Jamaica  France  United States  England  China PR  Austria  England  Paraguay  Morocco  England  Korea Republic  Korea Republic  China PR  Italy  Uruguay  Northern Ireland  Croatia  Republic of Ireland  Republic of Ireland  Portugal  Romania  Guinea  Romania  Argentina  Spain  Germany  Paraguay  China PR  Japan  England  China PR  France  Saudi Arabia  Germany  England  Ghana  Croatia  France  Norway  Sweden  Netherlands  England  England  Romania  Germany  Germany  Republic of Ireland  Peru  Argentina  Germany  Spain  Australia  Republic of Ireland  Republic of Ireland  Japan  United States  France  United States  Korea Republic  Hong Kong  Romania  Poland  Saudi Arabia  England  France  France  United States  Germany  Venezuela  India  China PR  Korea Republic  Italy  Germany  Belgium  England  Iceland  Senegal  Haiti  China PR  Germany  Romania  Bolivia  Spain  Romania  Germany  Italy  Italy  Argentina  Cuba  China PR  Mexico  France  England  England  France  England  China PR  Republic of Ireland  Sweden  Saudi Arabia  Croatia  Poland  Spain  Netherlands  France  Switzerland  Scotland  Kosovo  Japan  Romania  France  Saudi Arabia  Poland  Saudi Arabia  Czech Republic  Saudi Arabia  Germany  Peru  Germany  Turkey  Serbia  Argentina  Norway  Japan  Scotland  Italy  Poland  China PR  Denmark  England  England  India  England  Uruguay  France  United States  Argentina  Uruguay  Switzerland  Canada  Algeria  Bolivia  Spain  England  Croatia  Australia  Argentina  Ecuador  England  Venezuela  Mexico  Germany  Uruguay  Wales  Peru  Belgium  Chile  Mali  Germany  Poland  Greece  Chile  Croatia  Japan  Netherlands  Korea Republic  China PR  Uruguay  India  Republic of Ireland  Germany  Korea Republic  Paraguay  Japan  Netherlands  Korea Republic  Colombia  Venezuela  Spain  Italy  Ukraine  United States  Lithuania  Ghana  England  Paraguay  Northern Ireland  Korea Republic  Italy  England  Uzbekistan  Japan  Saudi Arabia  France  Canada  Switzerland  Mexico  Ecuador  Russia  England  Korea Republic  United States  England  Australia  Ghana  Romania  Israel  Paraguay  Norway  Paraguay  Colombia  Venezuela  England  Australia  Venezuela  Norway  New Zealand  France  Saudi Arabia  Iraq  Republic of Ireland  Algeria  Paraguay  Bolivia  Serbia  Côte d'Ivoire  South Africa  China PR  United States  Spain  Burkina Faso  Senegal  Morocco  Romania  Scotland  Poland  England  India  France  China PR  Republic of Ireland  Belgium  Portugal  Venezuela  China PR  England  Senegal  Netherlands  Spain  Australia  Argentina  Sweden  Cyprus  Paraguay  Tunisia  India  Germany  Poland  Paraguay  Spain  Bosnia and Herzegovina  Argentina  India  Korea Republic  Argentina  Saudi Arabia  Venezuela  Poland  France  Hungary  Nigeria  Switzerland  Ghana  Guyana  Saudi Arabia  Poland  Austria  France  Saudi Arabia  Burkina Faso  England  England  France  United States  Sweden  France  Netherlands  England  Germany  Romania  Korea Republic  England  Japan  China PR  China PR  England  Malta  Poland  England  Tanzania  Denmark  Venezuela  Colombia  France  Scotland  India  Germany  England  Spain  Korea Republic  Romania  England  France  China PR  Turkey  Switzerland  Norway  India  Japan  Saudi Arabia  Canada  England  Venezuela  Belgium  Scotland  Cyprus  England  Switzerland  China PR  Argentina  England  Turkey  England  Venezuela  El Salvador  Germany  United States  Germany  Norway  Iraq  Korea Republic  Bolivia  Spain  Spain  Germany  nan  India  Austria  Uruguay  Uruguay  Ecuador  Korea Republic  Sweden  England  Germany  Paraguay  Japan  Norway  China PR  Korea Republic  Sweden  England  France  Iceland  Portugal  Serbia  India  Denmark  Sweden  China PR  France  Colombia  Chile  Uruguay  Korea Republic  Sweden  England  India  Ecuador  Belgium  Belgium  England  United States  Algeria  Sweden  Poland  Netherlands  Poland  Korea Republic  Germany  Kosovo  England  Colombia  China PR  Spain  Saudi Arabia  England  Saudi Arabia  Qatar  China PR  Turkey  England  China PR  Saudi Arabia  Germany  Venezuela  Switzerland  Poland  Brazil  England  Germany  India  Colombia  Norway  Korea Republic  China PR  Germany  Germany  Germany  Korea Republic  Germany  Venezuela  Paraguay  Uruguay  Poland  Saudi Arabia  Sweden  Brazil  Chile  Germany  China PR  England  Venezuela  Moldova  Iran  Scotland  Korea Republic  Saudi Arabia  Sweden  Germany  Belgium  Turkey  Denmark  Spain  Italy  Republic of Ireland  Norway  England  Korea Republic  Germany  Spain  Korea Republic  England  France  China PR  Northern Ireland  United States  England  Belgium  Korea Republic  Poland  Uruguay  Japan  Turkey  Sweden  Sweden  Italy  Australia  Paraguay  England  Turkey  United States  Austria  Republic of Ireland  Ethiopia  Paraguay  Romania  Paraguay  Poland  Greece  China PR  China PR  England  Italy  England  China PR  Romania  Germany  Mexico  England  Denmark  Germany  France  England  Uruguay  Mexico  Scotland  Colombia  Chile  Saudi Arabia  England  France  Korea Republic  Poland  Argentina  Germany  Romania  Norway  Colombia  Saudi Arabia  Norway  China PR  Mexico  China PR  Italy  India  Mali  Scotland  Morocco  Equatorial Guinea  Canada  Cape Verde Islands  England  Saudi Arabia  Venezuela  Argentina  Uruguay  Germany  Germany  Spain  Uruguay  New Zealand  Zambia  Korea Republic  France  Korea Republic  Serbia  Republic of Ireland  Saudi Arabia  Ecuador  Wales  Sweden  India  England  China PR  China PR  Switzerland  Uruguay  Republic of Ireland  Republic of Ireland  Serbia  Italy  United States  Germany  India  Wales  Belgium  Romania  China PR  Brazil  Turkey  Norway  Saudi Arabia  Ukraine  Gambia  Sweden  France  Germany  United States  Wales  China PR  Scotland  Sweden  France  England  Moldova  Paraguay  Spain  Germany  India  United States  Belgium  Republic of Ireland  India  Korea Republic  Colombia  England  Australia  Netherlands  Austria  Austria  Brazil  France  Colombia  Korea Republic  Argentina  Germany  Argentina  Belgium  Germany  Poland  Chile  Paraguay  Republic of Ireland  Denmark  Ecuador  England  India  Germany  England  Nigeria  Saudi Arabia  Germany  Saudi Arabia  France  Paraguay  France  Korea Republic  Poland  Venezuela  Sweden  Australia  Poland  Turkey  Bolivia  France  Poland  Argentina  Ecuador  Poland  Poland  Belgium  Austria  Mali  England  Portugal  Bolivia  Venezuela  England  China PR  Norway  Korea Republic  Norway  Denmark  Scotland  Japan  Korea Republic  Saudi Arabia  Poland  Netherlands  Republic of Ireland  China PR  Colombia  England  Ecuador  Romania  Korea Republic  Paraguay  Germany  Colombia  Guinea  Turkey  Germany  India  United States  Chile  Argentina  United States  Peru  Scotland  England  Australia  China PR  Hungary  United States  England  Mexico  Portugal  Norway  Congo DR  Switzerland  Romania  Japan  Netherlands  Switzerland  Netherlands  China PR  Republic of Ireland  Poland  Republic of Ireland  England  China PR  China PR  Spain  Argentina  England  Belgium  Italy  Australia  India  China PR  Colombia  Norway  Chile  Saudi Arabia  Cyprus  Mexico  Saudi Arabia  Denmark  Italy  Italy  Austria  France  China PR  Mexico  Saudi Arabia  Northern Ireland  Germany  England  England  Australia  Denmark  Germany  England  Republic of Ireland  China PR  Sweden  Australia  England  Nigeria  United States  England  Norway  Mexico  Saudi Arabia  Uruguay  Scotland  England  Croatia  England  Japan  Germany  Romania  England  United States  Germany  Sweden  Romania  Republic of Ireland  Denmark  Netherlands  Poland  United States  Switzerland  France  Romania  Korea Republic  Belgium  Chile  Australia  Ecuador  Ecuador  Colombia  Saudi Arabia  China PR  England  Tunisia  Japan  Saudi Arabia  Germany  Scotland  Serbia  China PR  Sweden  Saudi Arabia  England  Indonesia  Canada  China PR  Saudi Arabia  Argentina  Cameroon  France  Korea Republic  China PR  England  Colombia  Sweden  Germany  England  Germany  Romania  Germany  England  Spain  Mexico  Poland  Spain  England  Colombia  United States  Romania  England  Mexico  Northern Ireland  France  England  China PR  Denmark  India  Hungary  France  Germany  Peru  Poland  Norway  Cyprus  Korea Republic  Germany  Turkey  Puerto Rico  South Sudan  Scotland  Romania  England  Austria  Romania  Switzerland  Turkey  Scotland  India  Italy  United States  Ecuador  China PR  Paraguay  Italy  Belgium  France  Poland  Venezuela  Peru  Germany  England  Mexico  England  Italy  Korea Republic  China PR  Venezuela  India  Norway  Australia  Paraguay  Romania  Peru  Romania  Japan  England  Turkey  Sweden  Venezuela  Switzerland  Australia  nan  Sweden  Saudi Arabia  Venezuela  Romania  Germany  Paraguay  Norway  France  Belgium  Brazil  Korea Republic  China PR  Austria  Austria  China PR  Nigeria  Republic of Ireland  Romania  Gambia  Poland  Turkey  Japan  France  Nigeria  England  Denmark  Poland  Romania  Japan  Paraguay  Uruguay  China PR  United States  Burundi  Germany  Venezuela  England  Poland  Romania  England  Saudi Arabia  India  Netherlands  China PR  Canada  Norway  United States  Germany  Ghana  Italy  United States  Italy  Greece  India  Haiti  France  Australia  England  Germany  United States  Poland  Netherlands  Saudi Arabia  Norway  England  North Macedonia  Chile  China PR  Turkey  Korea Republic  Saudi Arabia  Algeria  Wales  Spain  England  India  Romania  Japan  England  China PR  United States  Saudi Arabia  Japan  Republic of Ireland  Jamaica  Croatia  Brazil  Netherlands  England  India  England  Australia  Australia  Sweden  France  Japan  Senegal  England  China PR  India  England  Switzerland  Uruguay  France  Italy  China PR  England  England  China PR  United States  England  England  China PR  Germany  Australia  Brazil  Republic of Ireland  France  Sweden  Sweden  India  Poland  Peru  England  Belgium  Slovakia  Uruguay  Belgium  Turkey  France  Switzerland  Sweden  Sweden  England  Brazil  Colombia  England  Peru  Uruguay  Slovenia  China PR  England  Germany  Germany  Republic of Ireland  Turkey  England  India  Kosovo  Scotland  Germany  Chile  Russia  Republic of Ireland  United States  England  Australia  China PR  India  Korea Republic  Poland  Germany  China PR  Australia  France  Korea Republic  Venezuela  Argentina  Norway  Mexico  England  United States  Turkey  China PR  Korea Republic  Denmark  Sweden  England  Netherlands  England  Korea Republic  India  Chile  Portugal  Turkey  Netherlands  England  Chile  Peru  England  Sweden  Sweden  Saudi Arabia  Turkey  Turkey  England  Northern Ireland  Ghana  England  Venezuela  Romania  Canada  Belgium  India  Italy  Uruguay  Austria  France  Spain  Italy  Australia  Australia  Sweden  Japan  Brazil  Saudi Arabia  Switzerland  Republic of Ireland  Italy  Scotland  France  Wales  Republic of Ireland  Paraguay  Colombia  England  China PR  Republic of Ireland  England  Argentina  Côte d'Ivoire  Paraguay  Romania  Poland  Poland  Uruguay  India  Colombia  Czech Republic  Italy  India  Colombia  England  Côte d'Ivoire  Spain  England  England  Korea Republic  England  Wales  England  Sweden  Turkey  Netherlands  England  Scotland  Liechtenstein  Netherlands  Peru  Norway  France  India  China PR  Romania  Switzerland  Netherlands  Argentina  Norway  Korea Republic  Paraguay  Austria  Spain  Republic of Ireland  Switzerland  Italy  Republic of Ireland  England  Germany  United States  England  India  Mexico  Greece  Japan  India  Turkey  United States  Korea Republic  China PR  Italy  Romania  England  Korea Republic  Mexico  Uruguay  Korea Republic  Hungary  Poland  Albania  Paraguay  Denmark  Sweden  Belgium  France  Senegal  San Marino  Denmark  United States  Germany  Netherlands  Ukraine  England  United States  Scotland  England  China PR  Switzerland  Argentina  Poland  France  Saudi Arabia  Japan  India  Poland  United States  New Zealand  Belgium  England  France  Korea Republic  Romania  India  United States  England  Belgium  England  Switzerland  Scotland  England  England  England  Serbia  Albania  England  United States  Germany  Turkey  Belgium  Mexico  China PR  Czech Republic  Belgium  Bolivia  Belgium  China PR  England  Italy  Sweden  Romania  Belgium  Spain  Korea Republic  England  Saudi Arabia  Korea Republic  Germany  Chile  Norway  Italy  Nigeria  India  England  Poland  Serbia  Northern Ireland  Norway  Japan  Norway  England  Japan  United States  Turkey  Poland  England  Turkey  Turkey  China PR  Germany  Japan  Saudi Arabia  Germany  Ghana  Denmark  Brazil  United States  Netherlands  Sweden  Korea Republic  Sweden  Spain  Switzerland  Korea Republic  Australia  England  Germany  Korea Republic  France  China PR  Poland  Portugal  China PR  Brazil  France  India  Turkey  Switzerland  England  Italy  Belgium  India  Denmark  Chile  Denmark  France  Korea Republic  Republic of Ireland  Bolivia  England  Slovenia  Scotland  India  India  Northern Ireland  Scotland  England  England  Germany  England  Denmark  England  India  United States  China PR  Kosovo  India  Venezuela  Saudi Arabia  Ukraine  Venezuela  India  Switzerland  Korea Republic  England  Japan  Korea Republic  Poland  Poland  Uruguay  Norway  Uruguay  Japan  Republic of Ireland  Korea Republic  Spain  China PR  Saudi Arabia  China PR  China PR  England  Spain  Wales  Spain  England  Scotland  Argentina  Argentina  Turkey  England  Turkey  Norway  Finland  Denmark  Austria  Turkey  Spain  Saudi Arabia  Norway  Poland  Turkey  Italy  England  Netherlands  England  England  nan  United States  Ecuador  Japan  Croatia  Iraq  Romania  China PR  Japan  England  Poland  Norway  China PR  Sweden  China PR  Uruguay  Scotland  Spain  Poland  Argentina  United States  Colombia  Denmark  Japan  Germany  Algeria  nan  Republic of Ireland  Uruguay  Canada  Korea Republic  England  Netherlands  China PR  Korea Republic  Sweden  Morocco  Turkey  Luxembourg  Korea Republic  Germany  Republic of Ireland  Italy  United States  Australia  England  France  England  Chile  Scotland  Saudi Arabia  Saudi Arabia  Norway  Switzerland  Uruguay  Netherlands  England  Saudi Arabia  England  India  Republic of Ireland  Romania  Romania  England  China PR  Switzerland  England  United States  Wales  Australia  Sweden  Portugal  Korea Republic  Norway  Germany  Germany  Germany  England  Chile  Uruguay  India  Netherlands  Norway  Republic of Ireland  Korea Republic  Republic of Ireland  China PR  Belgium  Saudi Arabia  Chile  Belgium  Denmark  England  Uruguay  Korea Republic  Japan  Italy  Colombia  Poland  Uruguay  Paraguay  Sweden  England  Serbia  Romania  Paraguay  Germany  Austria  Korea Republic  United States  China PR  Republic of Ireland  Japan  Romania  Argentina  Russia  Korea Republic  Kenya  England  Wales  Australia  Canada  Sweden  Netherlands  Norway  Kosovo  England  Korea Republic  England  England  Mexico  Republic of Ireland  England  Switzerland  Northern Ireland  Korea Republic  China PR  Lebanon  Austria  Japan  United States  Sweden  Scotland  China PR  Spain  Switzerland  Ghana  France  Saudi Arabia  Scotland  Norway  India  Turkey  Ecuador  Uruguay  Australia  England  Poland  Korea Republic  China PR  England  Australia  India  Poland  Argentina  Senegal  Saudi Arabia  England  Chile  Saudi Arabia  Australia  Canada  China PR  China PR  Switzerland  France  United States  Denmark  Scotland  Republic of Ireland  Republic of Ireland  England  England  Romania  Algeria  England  Saudi Arabia  Poland  China PR  Spain  England  Croatia  England  United States  Scotland  Turkey  Switzerland  England  Sweden  Australia  Colombia  Korea Republic  Sweden  Venezuela  Japan  Norway  Scotland  Denmark  India  Norway  Sweden  New Zealand  England  Australia  England  Germany  China PR  Saudi Arabia  Republic of Ireland  Switzerland  England  Turkey  Romania  Greece  United States  Switzerland  England  Korea Republic  Denmark  Poland  Saudi Arabia  England  Romania  Austria  France  Spain  Denmark  Colombia  Portugal  England  United States  Switzerland  Poland  Korea Republic  Argentina  Senegal  Finland  Denmark  France  France  Croatia  England  Japan  England  Korea Republic  England  Belgium  Germany  Sweden  Korea Republic  India  Portugal  Spain  Japan  Republic of Ireland  Australia  United States  Austria  England  Slovenia  Mexico  India  Russia  United States  France  England  England  Brazil  China PR  England  Latvia  Sweden  Korea Republic  France  England  Korea Republic  England  Belgium  Chile  Republic of Ireland  England  China PR  Denmark  South Sudan  Republic of Ireland  Republic of Ireland  England  Australia  Denmark  China PR  England  United States  Sweden  China PR  England  United States  England  Morocco  Brazil  Guinea Bissau  Republic of Ireland  England  Wales  England  Poland  Italy  Denmark  Korea Republic  Gabon  England  Mali  Switzerland  Republic of Ireland  Côte d'Ivoire  Germany  China PR  China PR  France  Republic of Ireland  Norway  England  Japan  India  Korea Republic  Korea Republic  Italy  England  France  Romania  United States  China PR  Belgium  France  Chile  Curacao  United States  England  Korea Republic  Sweden  China PR  Greece  Mali  Brazil  China PR  Poland  Italy  Turkey  Chile  China PR  England  England  Italy  Korea Republic  Northern Ireland  England  Wales  Scotland  Korea Republic  Uruguay  Korea Republic  China PR  Côte d'Ivoire  Republic of Ireland  Japan  Republic of Ireland  China PR  China PR  China PR  Chile  Uruguay  Norway  Burkina Faso  India  England  Canada  Germany  Germany  England  Korea Republic  Republic of Ireland  Spain  Argentina  India  India  Australia  Chile  Scotland  England  Scotland  England  Gambia  Republic of Ireland  England  Republic of Ireland  Norway  China PR  Netherlands  Italy  China PR  Switzerland  Portugal  Switzerland  Australia  Chile  Turkey  India  China PR  Denmark  Brazil  Netherlands  England  Italy  France  Germany  Norway  Korea Republic  Cuba  Cameroon  Switzerland  England  China PR  Korea Republic  Republic of Ireland  United States  United States  Norway  Austria  France  Sweden  England  Poland  Norway  Italy  Brazil  Germany  China PR  Indonesia  India  Korea Republic  China PR  Portugal  England  Saudi Arabia  China PR  Republic of Ireland  France  India  Poland  England  Switzerland  China PR  China PR  Republic of Ireland  Ecuador  Canada  China PR  India  England  India  Northern Ireland  England  South Sudan  Republic of Ireland  Italy  Chile  China PR  China PR  India  England  England  Norway  Korea Republic  Paraguay  Korea Republic  Korea Republic  India  Korea Republic  Scotland  Germany  England  China PR  Switzerland  China PR  Korea Republic  Germany  China PR  Sweden  England  Korea Republic  China PR  China PR  Northern Ireland  Uruguay  England  England  China PR  Korea Republic  China PR  England  Paraguay  Australia  Argentina  Germany  United States  China PR  Sweden  Romania  France  Colombia  Paraguay  England  Republic of Ireland  China PR  India  Portugal  Norway  Brazil  Saudi Arabia  Brazil  Scotland  Italy  Korea Republic  Republic of Ireland  Uruguay  United States  Norway  Korea Republic  England  Saudi Arabia  Wales  China PR  Netherlands  England  Scotland  Romania  Korea Republic  Norway  China PR  China PR  Scotland  England  England  England  Korea Republic  United States  Austria  Denmark  Argentina  United States  Korea Republic  Poland  Norway  China PR  Republic of Ireland  Sweden  Australia  England  Bosnia and Herzegovina  United States  Korea Republic  Argentina  England  Italy  England  Wales  Korea Republic  Italy  Australia  China PR  Republic of Ireland  Republic of Ireland  Belgium  England  Wales  England  China PR  Finland  China PR  Spain  Korea Republic  Lithuania  Finland  India  England  England  China PR  India  India  Spain  Japan  Uruguay  Romania  Romania  Korea Republic  Korea Republic  Argentina  Slovenia  Serbia  Belgium  India  Korea Republic  Republic of Ireland  Republic of Ireland  Switzerland  Romania  Poland  South Africa  Senegal  France  Denmark  India  Wales  Germany  Netherlands  Australia  Paraguay  England  England  Germany  Korea Republic  Norway  Norway  Germany  Austria  China PR  China PR  China PR  Saudi Arabia  England  England  Korea Republic  Germany  Italy  Ecuador  China PR  Kosovo  Argentina  Korea Republic  France  Poland  England  United States  China PR  Sweden  China PR  England  Sweden  England  Italy  Korea Republic  Switzerland  Congo  North Macedonia  Sweden  Germany  China PR  Wales  China PR  Germany  France  Italy  Ukraine  Switzerland  United States  Portugal  Chile  Ecuador  Republic of Ireland  England  Poland  India  Norway  Denmark  England  Republic of Ireland  China PR  Peru  Republic of Ireland  Albania  India  England  England  China PR  Sweden  England  England  Kosovo  Switzerland  Germany  Cameroon  England  Romania  Germany  Switzerland  Korea Republic  Uruguay  Chile  Scotland  Australia  England  Italy  Colombia  Republic of Ireland  Ecuador  India  England  Korea Republic  England  Germany  China PR  China PR  Romania  India  Saudi Arabia  Uruguay  Paraguay  Scotland  Trinidad and Tobago  France  Portugal  Northern Ireland  England  Ecuador  Switzerland  United States  Ghana  Germany  Japan  Italy  Sweden  Norway  Korea Republic  Spain  Germany  Poland  England  Germany  England  Australia  Romania  Denmark  Australia  Korea Republic  Germany  China PR  Saudi Arabia  Spain  Mexico  Jamaica  Korea Republic  Germany  Japan  India  England  Brazil  South Africa  Italy  Ghana  Korea Republic  Spain  England  Japan  China PR  Austria  China PR  Republic of Ireland  China PR  England  Peru  China PR  Republic of Ireland  Colombia  Norway  United States  Greece  United States  Argentina  Albania  Saudi Arabia  Wales  China PR  Poland  England  England  Argentina  Spain  Slovakia  Sweden  England  Paraguay  China PR  England  Republic of Ireland  Turkey  England  Sweden  Denmark  China PR  Italy  Republic of Ireland  United States  Korea Republic  Korea Republic  China PR  Korea Republic  England  New Zealand  Republic of Ireland  Finland  England  Belgium  Cape Verde Islands  Poland  Republic of Ireland  Denmark  Netherlands  Saudi Arabia  Mexico  Korea Republic  Venezuela  Saudi Arabia  Turkey  Poland  India  England  China PR  Republic of Ireland  China PR  Norway  Mali  Brazil  Belgium  Sweden  England  United States  China PR  Germany  Spain  England  England  Korea Republic  Scotland  Republic of Ireland  Netherlands  England  United States  Argentina  England  England  Italy  Japan  Wales  Republic of Ireland  Austria  United States  Argentina  Korea Republic  Italy  Sweden  United States  China PR  Korea Republic  China PR  Korea Republic  China PR  Brazil  Australia  Italy  Saudi Arabia  Wales  Northern Ireland  England  India  Argentina  Germany  England  Italy  China PR  Norway  Republic of Ireland  Germany  Norway  Portugal  Germany  Norway  Argentina  Republic of Ireland  Sweden  Chile  England  Argentina  Spain  Ecuador  Korea Republic  England  Republic of Ireland  Italy  Chile  England  Czech Republic  England  Australia  Nigeria  Serbia  China PR  China PR  Israel  Chile  Sweden  Ghana  Mexico  Netherlands  Brazil  India  Germany  Japan  Australia  New Zealand  Germany  India  United States  India  Turkey  Japan  Saudi Arabia  United States  Netherlands  Iceland  Kosovo  Germany  Wales  England  Spain  Spain  Portugal  China PR  South Sudan  China PR  Chile  China PR  Scotland  Chile  Netherlands  England  China PR  Ecuador  China PR  Poland  France  England  China PR  China PR  Peru  Korea Republic  China PR  Sweden  China PR  Korea Republic  Spain  Republic of Ireland  Korea Republic  Czech Republic  Uruguay  Netherlands  Czech Republic  Portugal  China PR  France  Canada  Bolivia  Republic of Ireland  Spain  Korea Republic  France  Venezuela  England  Greece  Korea Republic  Germany  England  England  Korea Republic  Republic of Ireland  France  England  Côte d'Ivoire  France  China PR  Republic of Ireland  Netherlands  Republic of Ireland  England  Italy  England  Sweden  Scotland  England  China PR  China PR  Republic of Ireland  Republic of Ireland  Ghana  Venezuela  Peru  Republic of Ireland  France  Argentina  Netherlands  England  Korea Republic  Norway  China PR  Korea Republic  England  Italy  China PR  Republic of Ireland  Poland  Turkey  England  Brazil  Republic of Ireland  Bolivia  England  China PR  Argentina  Mexico  China PR  Colombia  Morocco  England  North Macedonia  England  Scotland  Republic of Ireland  Bolivia  Ukraine  Italy  Venezuela  Republic of Ireland  Korea Republic  Finland  Nigeria  Iceland  China PR  Germany  Korea Republic  Romania  England  Bulgaria  United States  Germany  Denmark  Chile  Portugal  Korea Republic  China PR  Germany  England  Peru  China PR  Denmark  England  Spain  China PR  Turkey  Spain  Brazil  Peru  Northern Ireland  Greece  Denmark  Nigeria  Germany  Australia  Germany  England  England  China PR  Republic of Ireland  Ecuador  Italy  Portugal  Russia  England  Scotland  Spain  Italy  Korea Republic  Uruguay  Wales  Ukraine  Denmark  Senegal  Scotland  Colombia  China PR  Cameroon  Argentina  England  Republic of Ireland  France  Croatia  Germany  Peru  Peru  Korea Republic  Spain  Republic of Ireland  Romania  Iceland  South Africa  Peru  Italy  Croatia  Peru  Brazil  Denmark  Bolivia  England  Italy  Italy  Italy  Switzerland  England  Spain  Germany  Turkey  Peru  Spain  Ukraine  Nigeria  Venezuela  United Arab Emirates  Senegal  Peru  China PR  Argentina  Republic of Ireland  Czech Republic  United States  Germany  Croatia  England  Austria  Ghana  Germany  Côte d'Ivoire  Germany  Germany  Portugal  Spain  Turkey  Ecuador  Canada  Germany  Denmark  England  Russia  Belarus  Nigeria  Portugal  Ukraine  Chile  England  Spain  Australia  Mexico  Spain  Finland  Romania  Romania  Spain  Venezuela  Venezuela  Venezuela  Denmark  Czech Republic  Germany  United States  England  Colombia  United States  Romania  Poland  Germany  Argentina  England  Germany  Georgia  Uruguay  Australia  Venezuela  New Zealand  Germany  Argentina  Bolivia  United States  Uruguay  Sweden  Spain  England  Bosnia and Herzegovina  China PR  England  Japan  Croatia  Qatar  Italy  Germany  France  Finland  Finland  Ecuador  Spain  Germany  Senegal  Cuba  Austria  Croatia  Ecuador  Belgium  Ukraine  Norway  Spain  Republic of Ireland  France  England  United States  Italy  Turkey  Mexico  Portugal  Bolivia  Scotland  North Macedonia  Germany  Sweden  Iran  Peru  England  Lebanon  Japan  Bosnia and Herzegovina  Germany  Republic of Ireland  Italy  England  Norway  Brazil  Ecuador  Netherlands  Colombia  Czech Republic  Venezuela  Uruguay  Spain  France  Uruguay  Romania  Bosnia and Herzegovina  Serbia  Spain  Poland  Czech Republic  Korea Republic  Romania  Netherlands  England  England  Belgium  Spain  Germany  Austria  Japan  United States  England  Spain  Mexico  Romania  Spain  Colombia  England  Spain  Turkey  Bolivia  Bolivia  Denmark  Germany  England  France  England  Czech Republic  Switzerland  Argentina  Spain  Croatia  Spain  Czech Republic  Poland  Netherlands  France  Algeria  Romania  Mexico  Italy  Spain  Slovenia  Japan  England  Netherlands  Serbia  Mexico  England  Germany  England  Spain  Spain  Uruguay  Germany  Qatar  Andorra  France  Venezuela  Scotland  Netherlands  Russia  Costa Rica  Uruguay  Peru  Argentina  Ukraine  Peru  Spain  Italy  England  Japan  Spain  Portugal  Montenegro  Croatia  Ghana  Germany  Mexico  Croatia  Italy  Finland  Uruguay  Portugal  Turkey  Uruguay  Uruguay  Uruguay  Portugal  Croatia  Iceland  England  Japan  Argentina  Ecuador  Ecuador  Austria  Netherlands  Uruguay  Turkey  Venezuela  Uruguay  United States  Japan  Germany  Ecuador  Uruguay  England  Bulgaria  Slovenia  Brazil  Hungary  France  Cameroon  Japan  Spain  Hungary  Croatia  Japan  Italy  Peru  Sweden  Korea Republic  Ukraine  Spain  Sweden  Slovakia  Czech Republic  Portugal  Uruguay  Norway  Uruguay  Argentina  Ecuador  Bolivia  United States  Portugal  United States  Argentina  Spain  Argentina  Peru  Bolivia  Iran  England  Argentina  Cyprus  Canada  Poland  Poland  France  Wales  Germany  Ecuador  France  Italy  Germany  Mexico  Romania  Sweden  Saudi Arabia  Italy  Montenegro  Mexico  Argentina  France  Romania  Uruguay  Turkey  Poland  Ecuador  Northern Ireland  Venezuela  France  Uruguay  Greece  Czech Republic  Brazil  Bolivia  Austria  Argentina  England  Romania  Peru  Romania  Cameroon  Portugal  Sweden  Ecuador  Argentina  Netherlands  Ukraine  Romania  Liechtenstein  Colombia  Bolivia  Sweden  Germany  France  Netherlands  Brazil  Spain  Senegal  England  Poland  Colombia  Germany  Sweden  Poland  Venezuela  Venezuela  Germany  Germany  Poland  Japan  Poland  Mali  Slovakia  England  Spain  Poland  Romania  Japan  Peru  Brazil  Norway  Romania  Peru  Uruguay  Italy  Colombia  Uruguay  Paraguay  Saudi Arabia  Argentina  Paraguay  Bulgaria  Mexico  Spain  France  Germany  Peru  Germany  Germany  Spain  Netherlands  Brazil  Austria  Spain  Bulgaria  Germany  Spain  Korea Republic  Paraguay  Japan  Turkey  Japan  Albania  Belgium  Ecuador  Iceland  India  Japan  Austria  Germany  Belgium  Belgium  France  England  Venezuela  Japan  Romania  Cameroon  Sweden  Venezuela  Denmark  Romania  England  Argentina  Italy  Colombia  Argentina  England  France  Argentina  Belgium  El Salvador  Brazil  Mexico  Peru  Turkey  Bolivia  Germany  Serbia  Uruguay  Netherlands  Paraguay  Italy  Sweden  Bolivia  Paraguay  Wales  Venezuela  Colombia  Switzerland  Colombia  Paraguay  England  Greece  Slovakia  Argentina  Japan  Peru  Germany  Romania  England  Uruguay  France  Spain  Denmark  Mexico  Norway  Bolivia  Spain  Germany  Colombia  Germany  Germany  Portugal  Australia  Venezuela  Estonia  Paraguay  Turkey  Denmark  Poland  Portugal  Croatia  Bolivia  Sweden  Peru  Italy  Germany  Brazil  Turkey  Bolivia  Germany  Spain  Netherlands  Spain  Germany  Denmark  Russia  Paraguay  Bolivia  England  Japan  Ecuador  Chile  Spain  England  Mexico  Argentina  Peru  Australia  Germany  Colombia  Norway  Paraguay  Turkey  France  Argentina  Czech Republic  Venezuela  Ecuador  England  England  Turkey  Peru  Venezuela  Northern Ireland  Uruguay  Paraguay  Serbia  Spain  England  Bolivia  Sweden  Cyprus  Venezuela  Norway  United States  Netherlands  Brazil  Croatia  Spain  Denmark  Australia  Ecuador  Argentina  Turkey  Ecuador  Argentina  Ecuador  Brazil  Ecuador  Germany  Norway  Greece  Paraguay  Netherlands  Sweden  Japan  Peru  Denmark  Belgium  Mexico  Italy  Netherlands  Republic of Ireland  Italy  Bolivia  Spain  Republic of Ireland  England  Slovakia  Korea Republic  Bolivia  Denmark  Croatia  Germany  Romania  Switzerland  Spain  Saudi Arabia  Uruguay  Sweden  England  Ecuador  Japan  Belgium  Denmark  Guinea Bissau  Venezuela  Germany  Spain  Japan  England  Italy  Germany  France  Belgium  Bolivia  Austria  Argentina  France  Spain  Peru  United States  Sweden  Venezuela  Uruguay  Netherlands  Japan  Japan  Croatia  Tunisia  Peru  Saudi Arabia  Japan  Lithuania  Argentina  Sweden  Germany  Germany  Japan  Greece  France  United Arab Emirates  Colombia  England  England  Spain  United States  Cyprus  Colombia  France  Poland  Senegal  Ecuador  Germany  Paraguay  Uruguay  England  Paraguay  Germany  South Africa  Germany  Uruguay  Germany  England  Spain  Canada  Paraguay  Uruguay  Portugal  Brazil  Poland  Venezuela  Norway  England  Spain  Argentina  England  Northern Ireland  Germany  Spain  Japan  England  Saudi Arabia  Greece  Japan  Spain  Paraguay  Peru  Spain  Poland  United States  Germany  Germany  Peru  Republic of Ireland  Russia  Hungary  Argentina  England  France  Spain  Colombia  Canada  United Arab Emirates  Italy  Peru  Paraguay  Italy  Spain  Belgium  Paraguay  Argentina  Germany  Argentina  Portugal  Germany  Korea Republic  Spain  Uruguay  France  Colombia  Peru  Senegal  France  Greece  Germany  Croatia  Japan  Sweden  Romania  France  Norway  Spain  Germany  Argentina  Japan  Paraguay  Italy  Germany  Bolivia  England  Austria  Argentina  Germany  Spain  Ecuador  Denmark  Brazil  Greece  Belgium  Venezuela  Germany  Uruguay  Croatia  Germany  Austria  Australia  Netherlands  Germany  Ukraine  Chile  Portugal  Netherlands  Korea Republic  Germany  Saudi Arabia  Germany  Ecuador  Netherlands  France  Senegal  France  Argentina  Brazil  Spain  Poland  Brazil  Spain  Netherlands  Uruguay  Mexico  Spain  Germany  Croatia  Switzerland  France  India  Japan  Norway  Netherlands  Italy  Spain  Bolivia  Brazil  Spain  Russia  Mexico  Paraguay  Portugal  Scotland  Romania  Germany  Peru  Spain  Peru  Finland  Spain  Paraguay  Denmark  Chile  Argentina  Spain  Germany  Bolivia  Turkey  Austria  France  Mexico  Sweden  Togo  Greece  Germany  Chile  Korea Republic  Poland  Netherlands  Japan  United States  Saudi Arabia  Spain  Romania  Mexico  Turkey  Equatorial Guinea  United States  Chile  Cyprus  United States  Korea Republic  Germany  Haiti  Turkey  Netherlands  England  Czech Republic  Argentina  Chile  Italy  Greece  Scotland  France  Austria  Germany  Romania  Turkey  Romania  Korea Republic  Spain  Brazil  Portugal  Spain  Greece  Netherlands  China PR  Argentina  Korea Republic  Poland  United States  Turkey  Belgium  Venezuela  Saudi Arabia  Côte d'Ivoire  Argentina  England  Austria  Switzerland  Switzerland  Argentina  Nigeria  Argentina  Croatia  Argentina  Portugal  Argentina  Japan  Germany  Brazil  Portugal  Turkey  Australia  Germany  Russia  Belgium  Germany  China PR  Germany  Serbia  Germany  Romania  China PR  Sweden  Japan  Korea Republic  Denmark  China PR  Japan  Austria  France  China PR  Japan  Romania  Paraguay  Peru  Colombia  Italy  South Africa  Russia  Poland  Paraguay  Belgium  Canada  Poland  Poland  Germany  Venezuela  England  Jamaica  Poland  Mexico  England  Turkey  Wales  England  Germany  Poland  Belgium  Czech Republic  Paraguay  Romania  Chile  France  Germany  Austria  Germany  Korea Republic  Greece  Netherlands  Netherlands  Chile  Australia  Saudi Arabia  Chile  Northern Ireland  Germany  Senegal  United States  Australia  Switzerland  United States  Germany  Chile  France  Germany  Finland  Iceland  Germany  Comoros  England  Germany  Spain  Congo DR  Spain  Switzerland  United States  Turkey  Uruguay  Argentina  France  Australia  Brazil  Netherlands  Senegal  Poland  Uruguay  Saudi Arabia  United States  England  Ukraine  Venezuela  France  Turkey  Venezuela  Uruguay  England  Germany  Korea Republic  Spain  Italy  France  Sweden  Spain  Armenia  England  Ecuador  United States  Ecuador  South Africa  Sweden  England  Belgium  France  England  France  Norway  Germany  India  China PR  Portugal  Korea Republic  Russia  Germany  Sweden  Japan  Peru  Netherlands  Mexico  India  United States  Uruguay  Paraguay  England  Korea Republic  Germany  Turkey  Belgium  Saudi Arabia  Spain  Romania  Uruguay  Germany  England  England  Germany  France  Venezuela  England  Norway  England  France  Albania  Ecuador  Colombia  Netherlands  Belarus  Spain  Germany  England  Brazil  United States  Italy  Venezuela  Ecuador  Bolivia  Venezuela  Romania  Norway  Chile  Saudi Arabia  Belgium  Netherlands  Romania  United States  Saudi Arabia  France  Germany  Korea Republic  Japan  Denmark  Netherlands  France  Romania  Romania  Uruguay  Germany  Saudi Arabia  Romania  Scotland  England  Germany  India  Argentina  Germany  France  Italy  Poland  China PR  Republic of Ireland  Venezuela  Korea Republic  Venezuela  Korea Republic  Republic of Ireland  Greece  Germany  Netherlands  England  Chile  India  China PR  Germany  Norway  Austria  Sweden  Ecuador  Netherlands  Peru  Poland  Netherlands  France  Turkey  Czech Republic  Norway  Norway  Canada  Sweden  England  China PR  Norway  Hungary  Turkey  Poland  Netherlands  Netherlands  France  England  Netherlands  Bolivia  England  Chile  England  Scotland  Saudi Arabia  Germany  Italy  Netherlands  India  Poland  Saudi Arabia  Scotland  Germany  Germany  Turkey  China PR  Mexico  Brazil  Germany  China PR  India  Korea Republic  Norway  Germany  England  Venezuela  China PR  Slovenia  Netherlands  Germany  New Zealand  Italy  England  Spain  Wales  Germany  Poland  Germany  United States  Switzerland  Sweden  Wales  Korea Republic  England  France  Northern Ireland  Netherlands  England  Denmark  India  Netherlands  United States  United States  China PR  India  Brazil  Norway  Cameroon  Colombia  Poland  Republic of Ireland  Korea Republic  Netherlands  England  England  England  England  United States  Netherlands  England  Brazil  Republic of Ireland  England  England  United States  Austria  Spain  Romania  India  Germany  Wales  China PR  Serbia  India  India  Senegal  Australia  Sweden  Switzerland  Netherlands  Scotland  Sweden  Greece  Belgium  Italy  Venezuela  Mexico  South Africa  Norway  England  Australia  France  Turkey  United States  England  China PR  Suriname  United States  England  Slovenia  Norway  England  Netherlands  Panama  Netherlands  Romania  Finland  Turkey  Poland  China PR  Norway  United States  Colombia  Italy  Italy  Australia  Bosnia and Herzegovina  England  Scotland  Scotland  Germany  Germany  France  Turkey  Saudi Arabia  Colombia  Finland  Korea Republic  Mexico  Turkey  United States  Republic of Ireland  Spain  Australia  Germany  England  Australia  England  Germany  Morocco  India  Switzerland  Australia  Sweden  Australia  Belgium  China PR  England  Netherlands  Turkey  Turkey  England  Slovakia  Australia  Mexico  Australia  China PR  Paraguay  Canada  Turkey  England  Germany  Mexico  England  Turkey  Spain  Denmark  India  Saint Kitts and Nevis  Uruguay  Republic of Ireland  Sweden  Switzerland  Argentina  France  Japan  Scotland  England  Korea Republic  Poland  Germany  England  Mexico  France  China PR  Belgium  Germany  United States  Germany  Mexico  India  Netherlands  Mexico  Saudi Arabia  Saudi Arabia  England  Turkey  China PR  Poland  England  England  Australia  China PR  Netherlands  India  India  Austria  India  England  Poland  England  China PR  China PR  India  England  Canada  England  England  Chile  England  Germany  Poland  Republic of Ireland  Sweden  India  Korea Republic  Saudi Arabia  Australia  Chile  Wales  Poland  China PR  Romania  Norway  Germany  Sweden  Bosnia and Herzegovina  England  Chile  Germany  Switzerland  Turkey  Norway  China PR  Switzerland  England  United States  China PR  China PR  United States  Switzerland  Turkey  France  China PR  India  England  Chile  United States  England  Republic of Ireland  Wales  Germany  Finland  Turkey  Canada  Australia  Austria  China PR  Chile  China PR  China PR  Italy  China PR  Germany  Italy  Uruguay  Norway  India  United States  Germany  England  Romania  Scotland  Netherlands  England  Korea Republic  Netherlands  India  Poland  Korea Republic  Korea Republic  Germany  France  England  Belgium  Ecuador  England  India  Iceland  France  Poland  England  Turkey  England  Switzerland  Chile  Australia  Australia  Belgium  Norway  Italy  France  Poland  Belgium  Australia  Australia  Romania  New Zealand  India  United States  England  Poland  United States  Poland  England  Netherlands  England  Romania  Switzerland  Australia  England  Hungary  England  India  England  Turkey  China PR  England  Bulgaria  China PR  Italy  Sweden  England  Korea Republic  China PR  Germany  India  Italy  England  China PR  Hungary  China PR  China PR  Turkey  Italy  Uruguay  Romania  China PR  New Zealand  Romania  India  China PR  Poland  Denmark  Australia  Australia  Belgium  England  Poland  China PR  Sweden  China PR  Romania  England  Germany  China PR  Korea Republic  Turkey  Poland  Sweden\""
      ]
     },
     "execution_count": 4,
     "metadata": {},
     "output_type": "execute_result"
    }
   ],
   "source": [
    "nationality"
   ]
  },
  {
   "cell_type": "code",
   "execution_count": 5,
   "id": "dbf8fb32",
   "metadata": {},
   "outputs": [
    {
     "data": {
      "text/plain": [
       "str"
      ]
     },
     "execution_count": 5,
     "metadata": {},
     "output_type": "execute_result"
    }
   ],
   "source": [
    "type(nationality)"
   ]
  },
  {
   "cell_type": "code",
   "execution_count": 6,
   "id": "e28c3495",
   "metadata": {
    "scrolled": true
   },
   "outputs": [
    {
     "data": {
      "text/plain": [
       "338"
      ]
     },
     "execution_count": 6,
     "metadata": {},
     "output_type": "execute_result"
    }
   ],
   "source": [
    "len(re.findall(\"Portugal\",nationality))"
   ]
  },
  {
   "cell_type": "code",
   "execution_count": 7,
   "id": "7d98656d",
   "metadata": {},
   "outputs": [
    {
     "data": {
      "text/plain": [
       "[]"
      ]
     },
     "execution_count": 7,
     "metadata": {},
     "output_type": "execute_result"
    }
   ],
   "source": [
    "re.findall('\\d',nationality) #Busca dígitos decimal Unicode [0-9] y otros"
   ]
  },
  {
   "cell_type": "code",
   "execution_count": 8,
   "id": "ec776e93",
   "metadata": {},
   "outputs": [
    {
     "data": {
      "text/plain": [
       "16"
      ]
     },
     "execution_count": 8,
     "metadata": {},
     "output_type": "execute_result"
    }
   ],
   "source": [
    "len(re.findall(\"nan\",nationality))"
   ]
  },
  {
   "cell_type": "code",
   "execution_count": 9,
   "id": "5455a0c1",
   "metadata": {},
   "outputs": [
    {
     "data": {
      "text/plain": [
       "0"
      ]
     },
     "execution_count": 9,
     "metadata": {},
     "output_type": "execute_result"
    }
   ],
   "source": [
    "len(re.findall(\"None\",nationality))"
   ]
  },
  {
   "cell_type": "code",
   "execution_count": 10,
   "id": "241331cd",
   "metadata": {},
   "outputs": [
    {
     "data": {
      "text/plain": [
       "['Germany',\n",
       " 'Portugal',\n",
       " 'Argentina',\n",
       " 'Belgium',\n",
       " 'Italy',\n",
       " 'Germany',\n",
       " 'Austria',\n",
       " 'Brazil',\n",
       " 'Germany',\n",
       " 'Portugal']"
      ]
     },
     "execution_count": 10,
     "metadata": {},
     "output_type": "execute_result"
    }
   ],
   "source": [
    "nacionalidades = nationality.split('  ') #Divide el string a partir del patron dado\n",
    "nacionalidades[:10]"
   ]
  },
  {
   "cell_type": "code",
   "execution_count": 11,
   "id": "81f884a8",
   "metadata": {},
   "outputs": [
    {
     "data": {
      "text/plain": [
       "True"
      ]
     },
     "execution_count": 11,
     "metadata": {},
     "output_type": "execute_result"
    }
   ],
   "source": [
    "re.split(r'  ',nationality) == nationality.split('  ') "
   ]
  },
  {
   "cell_type": "code",
   "execution_count": 12,
   "id": "ae07c7c8",
   "metadata": {
    "scrolled": true
   },
   "outputs": [
    {
     "name": "stdout",
     "output_type": "stream",
     "text": [
      "{'Germany': 1038, 'Portugal': 338, 'Argentina': 843, 'Belgium': 266, 'Italy': 517, 'Austria': 231, 'Brazil': 537, 'Croatia': 162, 'Serbia': 116, 'Spain': 990, 'Netherlands': 455, 'France': 864, 'Colombia': 283, 'England': 1531, 'Uruguay': 416, 'Morocco': 87, 'Egypt': 23, 'Algeria': 54, 'Ukraine': 70, 'United States': 345, \"Côte d'Ivoire\": 106, 'Poland': 328, 'Chile': 175, 'Senegal': 112, 'Central African Republic': 3, 'Denmark': 227, 'Nigeria': 115, 'Mexico': 261, 'Turkey': 325, 'Canada': 76, 'Wales': 137, 'Scotland': 225, 'Romania': 290, 'Czech Republic': 90, 'Ghana': 116, 'Korea Republic': 284, 'Bosnia and Herzegovina': 47, 'Mali': 53, 'Slovakia': 46, 'Armenia': 7, 'Norway': 292, 'Switzerland': 188, 'Cameroon': 74, 'Peru': 286, 'Jamaica': 26, 'Zambia': 7, 'Guinea': 65, 'Sweden': 322, 'North Macedonia': 30, 'Russia': 66, 'Tunisia': 25, 'Malta': 3, 'Angola': 16, 'Republic of Ireland': 308, 'Ecuador': 344, 'Benin': 10, 'Paraguay': 301, 'Montenegro': 23, 'Australia': 214, 'Comoros': 8, 'Gabon': 13, 'Iceland': 43, 'Slovenia': 51, 'Japan': 378, 'Israel': 34, 'China PR': 325, 'Venezuela': 348, 'Liberia': 5, 'Greece': 105, 'Bulgaria': 41, 'Honduras': 13, 'Saudi Arabia': 200, 'Curacao': 10, 'Northern Ireland': 61, 'Guinea Bissau': 20, 'Kosovo': 44, 'Hungary': 55, 'Finland': 56, 'Costa Rica': 15, 'Albania': 52, 'Congo DR': 43, 'Iran': 16, 'Mozambique': 2, 'Suriname': 8, 'Cape Verde Islands': 19, 'Bolivia': 216, 'Madagascar': 3, 'New Zealand': 45, 'Burkina Faso': 17, 'Dominican Republic': 2, 'Kazakhstan': 3, 'Syria': 2, 'Luxembourg': 14, 'Kenya': 13, 'Zimbabwe': 6, 'Haiti': 14, 'Uzbekistan': 7, 'South Africa': 61, 'Cyprus': 27, 'Qatar': 29, 'Equatorial Guinea': 9, 'Libya': 2, 'Thailand': 9, 'Togo': 12, 'Trinidad and Tobago': 4, 'Liechtenstein': 3, 'Gambia': 27, 'Georgia': 20, 'Philippines': 1, 'Burundi': 7, 'United Arab Emirates': 12, 'Grenada': 3, 'Iraq': 9, 'Panama': 12, 'Malaysia': 2, 'Moldova': 6, 'Congo': 55, 'India': 188, 'Jordan': 6, 'Kuwait': 1, 'Antigua and Barbuda': 2, 'Cuba': 5, 'Vietnam': 1, 'Korea DPR': 1, 'Uganda': 5, 'Lithuania': 11, 'Estonia': 7, 'Montserrat': 1, 'Sierra Leone': 6, 'Afghanistan': 1, 'New Caledonia': 1, 'Belarus': 8, 'Laos': 1, 'Saint Lucia': 1, 'Bhutan': 1, 'Guyana': 4, 'Mauritania': 7, 'Faroe Islands': 2, 'nan': 16, 'Namibia': 1, 'Niger': 116, 'Palestine': 2, 'Sudan': 8, 'Azerbaijan': 3, 'Hong Kong': 3, 'Gibraltar': 1, 'Tanzania': 4, 'Latvia': 6, 'Chinese Taipei': 2, 'Singapore': 1, 'Lebanon': 4, 'El Salvador': 3, 'Indonesia': 3, 'Guatemala': 1, 'Papua New Guinea': 1, 'Puerto Rico': 2, 'Malawi': 1, 'South Sudan': 5, 'Ethiopia': 1, 'San Marino': 1, 'Andorra': 1, 'Saint Kitts and Nevis': 1}\n"
     ]
    }
   ],
   "source": [
    "conteo_nacionalidades = {}\n",
    "\n",
    "for nacion in nacionalidades:\n",
    "    coincidencias = re.findall(nacion, ' '.join(nacionalidades))\n",
    "    conteo_nacionalidades[nacion] = len(coincidencias)\n",
    "\n",
    "print(conteo_nacionalidades)"
   ]
  },
  {
   "cell_type": "code",
   "execution_count": 13,
   "id": "32330bd8",
   "metadata": {},
   "outputs": [
    {
     "name": "stdout",
     "output_type": "stream",
     "text": [
      "El pais: England es el más representado en el dataset con 1531 jugadores.\n"
     ]
    }
   ],
   "source": [
    "maxPais = max(conteo_nacionalidades.items(), key=lambda x: x[1])[0]\n",
    "maxPaisJugadores = max(conteo_nacionalidades.items(), key=lambda x: x[1])[1]\n",
    "\n",
    "print(f\"El pais: {maxPais} es el más representado en el dataset con {maxPaisJugadores} jugadores.\") #f-string"
   ]
  },
  {
   "cell_type": "code",
   "execution_count": 14,
   "id": "dcbf99bd",
   "metadata": {},
   "outputs": [
    {
     "name": "stdout",
     "output_type": "stream",
     "text": [
      "[('England', 1531), ('Germany', 1038), ('Spain', 990), ('France', 864), ('Argentina', 843), ('Brazil', 537), ('Italy', 517), ('Netherlands', 455), ('Uruguay', 416), ('Japan', 378), ('Venezuela', 348), ('United States', 345), ('Ecuador', 344), ('Portugal', 338), ('Poland', 328), ('Turkey', 325), ('China PR', 325), ('Sweden', 322), ('Republic of Ireland', 308), ('Paraguay', 301), ('Norway', 292), ('Romania', 290), ('Peru', 286), ('Korea Republic', 284), ('Colombia', 283), ('Belgium', 266), ('Mexico', 261), ('Austria', 231), ('Denmark', 227), ('Scotland', 225), ('Bolivia', 216), ('Australia', 214), ('Saudi Arabia', 200), ('Switzerland', 188), ('India', 188), ('Chile', 175), ('Croatia', 162), ('Wales', 137), ('Serbia', 116), ('Ghana', 116), ('Niger', 116), ('Nigeria', 115), ('Senegal', 112), (\"Côte d'Ivoire\", 106), ('Greece', 105), ('Czech Republic', 90), ('Morocco', 87), ('Canada', 76), ('Cameroon', 74), ('Ukraine', 70), ('Russia', 66), ('Guinea', 65), ('Northern Ireland', 61), ('South Africa', 61), ('Finland', 56), ('Hungary', 55), ('Congo', 55), ('Algeria', 54), ('Mali', 53), ('Albania', 52), ('Slovenia', 51), ('Bosnia and Herzegovina', 47), ('Slovakia', 46), ('New Zealand', 45), ('Kosovo', 44), ('Iceland', 43), ('Congo DR', 43), ('Bulgaria', 41), ('Israel', 34), ('North Macedonia', 30), ('Qatar', 29), ('Cyprus', 27), ('Gambia', 27), ('Jamaica', 26), ('Tunisia', 25), ('Egypt', 23), ('Montenegro', 23), ('Guinea Bissau', 20), ('Georgia', 20), ('Cape Verde Islands', 19), ('Burkina Faso', 17), ('Angola', 16), ('Iran', 16), ('nan', 16), ('Costa Rica', 15), ('Luxembourg', 14), ('Haiti', 14), ('Gabon', 13), ('Honduras', 13), ('Kenya', 13), ('Togo', 12), ('United Arab Emirates', 12), ('Panama', 12), ('Lithuania', 11), ('Benin', 10), ('Curacao', 10), ('Equatorial Guinea', 9), ('Thailand', 9), ('Iraq', 9), ('Comoros', 8), ('Suriname', 8), ('Belarus', 8), ('Sudan', 8), ('Armenia', 7), ('Zambia', 7), ('Uzbekistan', 7), ('Burundi', 7), ('Estonia', 7), ('Mauritania', 7), ('Zimbabwe', 6), ('Moldova', 6), ('Jordan', 6), ('Sierra Leone', 6), ('Latvia', 6), ('Liberia', 5), ('Cuba', 5), ('Uganda', 5), ('South Sudan', 5), ('Trinidad and Tobago', 4), ('Guyana', 4), ('Tanzania', 4), ('Lebanon', 4), ('Central African Republic', 3), ('Malta', 3), ('Madagascar', 3), ('Kazakhstan', 3), ('Liechtenstein', 3), ('Grenada', 3), ('Azerbaijan', 3), ('Hong Kong', 3), ('El Salvador', 3), ('Indonesia', 3), ('Mozambique', 2), ('Dominican Republic', 2), ('Syria', 2), ('Libya', 2), ('Malaysia', 2), ('Antigua and Barbuda', 2), ('Faroe Islands', 2), ('Palestine', 2), ('Chinese Taipei', 2), ('Puerto Rico', 2), ('Philippines', 1), ('Kuwait', 1), ('Vietnam', 1), ('Korea DPR', 1), ('Montserrat', 1), ('Afghanistan', 1), ('New Caledonia', 1), ('Laos', 1), ('Saint Lucia', 1), ('Bhutan', 1), ('Namibia', 1), ('Gibraltar', 1), ('Singapore', 1), ('Guatemala', 1), ('Papua New Guinea', 1), ('Malawi', 1), ('Ethiopia', 1), ('San Marino', 1), ('Andorra', 1), ('Saint Kitts and Nevis', 1)]\n"
     ]
    }
   ],
   "source": [
    "nacionalidades_ordenadas = sorted(conteo_nacionalidades.items(), key=lambda x: x[1], reverse=True)\n",
    "print(nacionalidades_ordenadas)"
   ]
  },
  {
   "cell_type": "code",
   "execution_count": 34,
   "id": "496f7c5d",
   "metadata": {},
   "outputs": [
    {
     "data": {
      "text/plain": [
       "'L. Goretzka  Bruno Fernandes  M. Acuña  K. De Bruyne  N. Barella  J. Kimmich  D. Alaba  22\\xa0Paulinho '"
      ]
     },
     "execution_count": 34,
     "metadata": {},
     "output_type": "execute_result"
    }
   ],
   "source": [
    "names = '  '.join(str(value) for value in data['Name'])\n",
    "\n",
    "names[:100]"
   ]
  },
  {
   "cell_type": "code",
   "execution_count": 16,
   "id": "5c264782",
   "metadata": {
    "scrolled": true
   },
   "outputs": [
    {
     "data": {
      "text/plain": [
       "3"
      ]
     },
     "execution_count": 16,
     "metadata": {},
     "output_type": "execute_result"
    }
   ],
   "source": [
    "len(re.findall(\"George\",names))"
   ]
  },
  {
   "cell_type": "code",
   "execution_count": 17,
   "id": "c1779028",
   "metadata": {},
   "outputs": [
    {
     "data": {
      "text/plain": [
       "12"
      ]
     },
     "execution_count": 17,
     "metadata": {},
     "output_type": "execute_result"
    }
   ],
   "source": [
    "len(re.findall(\"Jorge\",names))"
   ]
  },
  {
   "cell_type": "code",
   "execution_count": 18,
   "id": "50f0c5c6",
   "metadata": {},
   "outputs": [],
   "source": [
    "names = re.sub('George','Jorge',names)"
   ]
  },
  {
   "cell_type": "code",
   "execution_count": 19,
   "id": "5c51c540",
   "metadata": {},
   "outputs": [
    {
     "data": {
      "text/plain": [
       "0"
      ]
     },
     "execution_count": 19,
     "metadata": {},
     "output_type": "execute_result"
    }
   ],
   "source": [
    "len(re.findall(\"George\",names))"
   ]
  },
  {
   "cell_type": "code",
   "execution_count": 20,
   "id": "dec6770c",
   "metadata": {},
   "outputs": [
    {
     "data": {
      "text/plain": [
       "13770"
      ]
     },
     "execution_count": 20,
     "metadata": {},
     "output_type": "execute_result"
    }
   ],
   "source": [
    "len(re.findall('\\d',names))"
   ]
  },
  {
   "cell_type": "code",
   "execution_count": 27,
   "id": "43d46d1a",
   "metadata": {},
   "outputs": [
    {
     "data": {
      "text/plain": [
       "'L. Goretzka  Bruno Fernandes  M. Acuña  K. De Bruyne  N. Barella  J. Kimmich  D. Alaba  \\xa0Paulinho  E'"
      ]
     },
     "execution_count": 27,
     "metadata": {},
     "output_type": "execute_result"
    }
   ],
   "source": [
    "names = re.sub('\\d','',names)\n",
    "names[:100]"
   ]
  },
  {
   "cell_type": "code",
   "execution_count": 23,
   "id": "76bbf0e9",
   "metadata": {},
   "outputs": [
    {
     "name": "stdout",
     "output_type": "stream",
     "text": [
      "<class 'str'>\n"
     ]
    }
   ],
   "source": [
    "print(type(names))"
   ]
  },
  {
   "cell_type": "code",
   "execution_count": 39,
   "id": "6998be99",
   "metadata": {},
   "outputs": [],
   "source": [
    "x = str('12\\xa0paulinho')"
   ]
  },
  {
   "cell_type": "code",
   "execution_count": 42,
   "id": "320e5419",
   "metadata": {},
   "outputs": [
    {
     "name": "stdout",
     "output_type": "stream",
     "text": [
      "12 paulinho\n"
     ]
    }
   ],
   "source": [
    "print(x)"
   ]
  },
  {
   "cell_type": "code",
   "execution_count": 43,
   "id": "1edb4e43",
   "metadata": {},
   "outputs": [
    {
     "data": {
      "text/plain": [
       "2"
      ]
     },
     "execution_count": 43,
     "metadata": {},
     "output_type": "execute_result"
    }
   ],
   "source": [
    "len(re.findall('\\d',x))"
   ]
  },
  {
   "cell_type": "code",
   "execution_count": null,
   "id": "0f1d1f37",
   "metadata": {},
   "outputs": [],
   "source": []
  }
 ],
 "metadata": {
  "kernelspec": {
   "display_name": "Python 3 (ipykernel)",
   "language": "python",
   "name": "python3"
  },
  "language_info": {
   "codemirror_mode": {
    "name": "ipython",
    "version": 3
   },
   "file_extension": ".py",
   "mimetype": "text/x-python",
   "name": "python",
   "nbconvert_exporter": "python",
   "pygments_lexer": "ipython3",
   "version": "3.10.8"
  }
 },
 "nbformat": 4,
 "nbformat_minor": 5
}
