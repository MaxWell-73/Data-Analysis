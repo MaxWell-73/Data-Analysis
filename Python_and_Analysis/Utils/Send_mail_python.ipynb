{
  "nbformat": 4,
  "nbformat_minor": 0,
  "metadata": {
    "colab": {
      "provenance": []
    },
    "kernelspec": {
      "name": "python3",
      "display_name": "Python 3"
    },
    "language_info": {
      "name": "python"
    }
  },
  "cells": [
    {
      "cell_type": "code",
      "execution_count": 2,
      "metadata": {
        "id": "d-KUobCFIrXk"
      },
      "outputs": [],
      "source": [
        "from email.mime.multipart import MIMEMultipart\n",
        "from email.mime.base import MIMEBase\n",
        "from smtplib import SMTP"
      ]
    },
    {
      "cell_type": "code",
      "source": [
        "mensaje = MIMEMultipart(\"plain\")\n",
        "mensaje[\"From\"]=\"duvanstp@gmail.com\"\n",
        "mensaje[\"To\"]= \"dizaquita@unal.edu.co\"\n",
        "mensaje[\"Subject\"] =\"Correo de prueba desde Python 3\"\n",
        "\n",
        "#Crear archivo txt\n",
        "adjunto = MIMEBase(\"application\",\"octect-stream\")\n",
        "adjunto.set_payload('Hola Duvan como has estado')\n",
        "adjunto.add_header(\"content-Disposition\",'attachment; filename=\"mensaje.txt\"')\n",
        "\n",
        "mensaje.attach(adjunto)\n",
        "smtp = SMTP(\"smtp.gmail.com\")\n",
        "#smtp.gmail.com for google accounts\n",
        "#smtp.yahoo.com for yahoo accounts\n",
        "\n",
        "smtp.starttls()\n",
        "smtp.login(\"duvanstp@gmail.com\",\"cncjchskyqjziuyo\")\n",
        "smtp.sendmail(\"duvanstp@gmail.com\",\"dizaquita@unal.edu.co\", 'Hola como has estado amigo')\n",
        "smtp.quit()"
      ],
      "metadata": {
        "colab": {
          "base_uri": "https://localhost:8080/"
        },
        "id": "ONpWvV0uItdZ",
        "outputId": "09095b1d-c0fb-40d7-d1cb-0ebb84a8bf0a"
      },
      "execution_count": 9,
      "outputs": [
        {
          "output_type": "execute_result",
          "data": {
            "text/plain": [
              "(221,\n",
              " b'2.0.0 closing connection bf22-20020a17090b0b1600b00263987a50fcsm4573110pjb.22 - gsmtp')"
            ]
          },
          "metadata": {},
          "execution_count": 9
        }
      ]
    },
    {
      "cell_type": "code",
      "source": [],
      "metadata": {
        "id": "bmog49OcMP7z"
      },
      "execution_count": null,
      "outputs": []
    }
  ]
}