{
 "cells": [
  {
   "cell_type": "code",
   "execution_count": 2,
   "id": "eda85152",
   "metadata": {},
   "outputs": [],
   "source": [
    "import random\n",
    "\n",
    "def generar_numeros_aleatorios():\n",
    "    numeros = list(range(1, 8))\n",
    "    random.shuffle(numeros)\n",
    "    return numeros\n",
    "def elegir(numeros_aleatorios, names, num):\n",
    "    num_list = numeros_aleatorios[num-1]-1\n",
    "    return names[num_list]\n",
    "\n",
    "carlos = 'Carlos' #1\n",
    "alejandro = 'Alejandro' #2\n",
    "angel = 'Angel' #3\n",
    "santiago = 'Santiago' #4\n",
    "nieto = 'Nieto' #5\n",
    "andres = 'Andres' #6\n",
    "duvan = 'Duvan' #7\n",
    "\n",
    "names = [carlos,alejandro,santiago,nieto,andres,duvan]\n",
    "\n"
   ]
  },
  {
   "cell_type": "code",
   "execution_count": 12,
   "id": "e7788b54",
   "metadata": {},
   "outputs": [],
   "source": [
    "numeros_aleatorios = generar_numeros_aleatorios()"
   ]
  },
  {
   "cell_type": "code",
   "execution_count": 4,
   "id": "22abc8a5",
   "metadata": {},
   "outputs": [
    {
     "name": "stdout",
     "output_type": "stream",
     "text": [
      "Carlos equipo con Nieto\n"
     ]
    }
   ],
   "source": [
    "print(carlos, 'equipo con', elegir(numeros_aleatorios,names, 3))"
   ]
  },
  {
   "cell_type": "code",
   "execution_count": 3,
   "id": "c1fd190d",
   "metadata": {},
   "outputs": [],
   "source": [
    "# print(alejandro,' equipo con ',  elegir(numeros_aleatorios,names, 2))"
   ]
  },
  {
   "cell_type": "code",
   "execution_count": 4,
   "id": "e99e800b",
   "metadata": {},
   "outputs": [],
   "source": [
    "# print(angel,' equipo con ',  elegir(numeros_aleatorios,names, 3))"
   ]
  },
  {
   "cell_type": "code",
   "execution_count": 7,
   "id": "e4b5ce27",
   "metadata": {},
   "outputs": [
    {
     "name": "stdout",
     "output_type": "stream",
     "text": [
      "Santiago  equipo con  Alejandro\n"
     ]
    }
   ],
   "source": [
    "print(santiago,' equipo con ',  elegir(numeros_aleatorios,names, 4))"
   ]
  },
  {
   "cell_type": "code",
   "execution_count": 6,
   "id": "fd20ebe0",
   "metadata": {},
   "outputs": [],
   "source": [
    "# print(nieto,' equipo con ',  elegir(numeros_aleatorios,names, 5))"
   ]
  },
  {
   "cell_type": "code",
   "execution_count": 7,
   "id": "5feccc03",
   "metadata": {},
   "outputs": [],
   "source": [
    "# print(andres,' equipo con ', elegir(numeros_aleatorios,names, 6))"
   ]
  },
  {
   "cell_type": "code",
   "execution_count": 16,
   "id": "0f7d9028",
   "metadata": {},
   "outputs": [
    {
     "name": "stdout",
     "output_type": "stream",
     "text": [
      "Duvan  equipo con  Andres\n"
     ]
    }
   ],
   "source": [
    "print(duvan,' equipo con ',  elegir(numeros_aleatorios,names, 2))"
   ]
  },
  {
   "cell_type": "markdown",
   "id": "6f1d8bc8",
   "metadata": {},
   "source": [
    "### PostgreSQL"
   ]
  },
  {
   "cell_type": "markdown",
   "id": "dc155028",
   "metadata": {},
   "source": [
    "PostgreSQL, también llamado Postgres, es un sistema de gestión de bases de datos relacional orientado a objetos y de código abierto, publicado bajo la licencia PostgreSQL,1​ similar a la BSD o la MIT.\n",
    "\n",
    "Como muchos otros proyectos de código abierto, el desarrollo de PostgreSQL no es manejado por una empresa o persona, sino que es dirigido por una comunidad de desarrolladores que trabajan de forma desinteresada, altruista, libre o apoyados por organizaciones comerciales. Dicha comunidad es denominada el PGDG (PostgreSQL Global Development Group).\n",
    "\n",
    "PostgreSQL no tiene un gestor de errores (bugs), haciendo muy difícil conocer el estado de corrección de los mismos\n",
    "\n",
    "##### Alta concurrencia\n",
    "Mediante un sistema denominado MVCC (Acceso concurrente multiversión, por sus siglas en inglés) PostgreSQL permite que mientras un proceso escribe en una tabla, otros accedan a la misma tabla sin necesidad de bloqueos. Cada usuario obtiene una visión consistente.\n",
    "\n",
    "##### Otras características\n",
    "Claves ajenas también denominadas Llaves ajenas o Claves Foráneas (foreign keys).\n",
    "Disparadores (triggers): Un disparador o trigger se define como una acción específica que se realiza de acuerdo a un evento, cuando este ocurra dentro de la base de datos. En PostgreSQL esto significa la ejecución de un procedimiento almacenado basado en una determinada acción sobre una tabla específica. Ahora todos los disparadores se definen por seis características:\n",
    "El nombre del disparador o trigger\n",
    "El momento en que el disparador debe arrancar\n",
    "El evento del disparador deberá activarse sobre...\n",
    "La tabla donde el disparador se activará\n",
    "La frecuencia de la ejecución\n",
    "La función que podría ser llamada\n",
    "La función no es correcta\n",
    "Entonces combinando estas seis características, PostgreSQL le permitirá crear una amplia funcionalidad a través de su sistema de activación de disparadores (triggers).\n",
    "\n",
    "Vistas.\n",
    "Integridad transaccional.\n",
    "Herencia de tablas.\n",
    "Tipos de datos y operaciones geométricas.\n",
    "Soporte para transacciones distribuidas. Permite a PostgreSQL integrarse en un sistema distribuido formado por varios recursos (p.ej, una base de datos PostgreSQL, otra Oracle, una cola de mensajes IBM MQ JMS y un ERP SAP) gestionado por un servidor de aplicaciones donde el éxito (\"commit\") de la transacción global es el resultado del éxito de las transacciones locales.\n",
    "\n",
    "PostgreSQL es un sistema de gestión de bases de datos relacional de código abierto muy popular. A continuación, te proporcionaré respuestas a tus preguntas sobre PostgreSQL:\n",
    "\n",
    "1. ¿Qué es PostgreSQL?\n",
    "PostgreSQL es un sistema de gestión de bases de datos relacional (RDBMS) de código abierto que se basa en el modelo de base de datos relacional. Fue desarrollado originalmente en la Universidad de California en Berkeley en 1986 y se ha convertido en una opción popular debido a su estabilidad, escalabilidad y capacidad de extensión.\n",
    "\n",
    "2. ¿En dónde se usa comúnmente PostgreSQL?\n",
    "PostgreSQL se utiliza comúnmente en una variedad de aplicaciones y entornos, incluyendo empresas, organizaciones gubernamentales, sitios web, aplicaciones móviles y más. Es adecuado para proyectos de cualquier tamaño, desde pequeñas aplicaciones hasta grandes sistemas empresariales.\n",
    "\n",
    "3. Capacidad y estructura de PostgreSQL\n",
    "PostgreSQL tiene una amplia gama de características y soporta una gran cantidad de tipos de datos, incluyendo tipos numéricos, de cadena, fechas, booleanos, geometría, JSON, entre otros. También ofrece soporte para consultas complejas, transacciones ACID, integridad referencial y claves primarias y foráneas.\n",
    "\n",
    "La estructura de PostgreSQL se basa en una arquitectura cliente-servidor. Utiliza un proceso principal llamado \"postgres\" que coordina las solicitudes de los clientes y gestiona los procesos hijos que manejan las conexiones individuales con las bases de datos.\n",
    "\n",
    "4. Rendimiento y latencia en PostgreSQL\n",
    "PostgreSQL está diseñado para ofrecer un buen rendimiento en diferentes cargas de trabajo. Sus características incluyen consultas optimizadas, indexación eficiente, paralelismo, caché de consultas y capacidad para ajustar diversos parámetros de configuración para adaptarse a las necesidades específicas del sistema.\n",
    "\n",
    "La latencia en PostgreSQL depende de varios factores, como la complejidad de las consultas, el hardware subyacente, la configuración y la carga del sistema. Con una configuración adecuada y una gestión eficiente de los recursos, PostgreSQL puede ofrecer un rendimiento rápido y tiempos de respuesta bajos.\n",
    "\n",
    "5. Seguridad en PostgreSQL\n",
    "PostgreSQL se considera un sistema de bases de datos seguro. Ofrece una variedad de características de seguridad, incluyendo autenticación de usuarios, cifrado de datos en tránsito y en reposo, control de acceso basado en roles y permisos, auditoría y registro de eventos, y extensiones para implementar políticas de seguridad personalizadas.\n",
    "\n",
    "6. Ventajas de PostgreSQL\n",
    "PostgreSQL tiene varias ventajas que lo hacen una buena elección como sistema de gestión de bases de datos:\n",
    "\n",
    "- Es de código abierto y gratuito.\n",
    "- Es altamente escalable y puede manejar grandes volúmenes de datos.\n",
    "- Tiene una amplia gama de características y soporta diversos tipos de datos.\n",
    "- Ofrece una excelente estabilidad y confiabilidad.\n",
    "- Es compatible con múltiples plataformas, incluyendo Linux, Windows y macOS.\n",
    "- Cuenta con una comunidad activa y un sólido soporte técnico.\n",
    "\n",
    "7. Mantenimiento en PostgreSQL\n",
    "Sí, es posible realizar el mantenimiento de una base de datos PostgreSQL. Esto incluye realizar copias de seguridad regulares, optimizar el rendimiento, aplicar actualizaciones y parches, y realizar tareas de mantenimiento relacionadas con la\n",
    "\n",
    " integridad de los datos y la administración del sistema.\n",
    "\n",
    "8. Conexión con Python y librerías recomendadas\n",
    "Sí, puedes conectar PostgreSQL con Python. Existen varias librerías que facilitan la conexión y la interacción con PostgreSQL desde Python. Algunas de las librerías más populares son:\n",
    "\n",
    "- psycopg2: Es una librería madura y ampliamente utilizada para interactuar con PostgreSQL desde Python.\n",
    "- SQLAlchemy: Proporciona una capa de abstracción sobre varias bases de datos, incluyendo PostgreSQL, lo que facilita el manejo de la conexión y las consultas de base de datos.\n",
    "- pg8000: Es una librería pura de Python que ofrece una interfaz para conectarse y ejecutar consultas en PostgreSQL.\n",
    "\n",
    "Cada librería tiene sus propias características y enfoques, por lo que la elección depende de tus necesidades específicas. Es recomendable investigar y evaluar las opciones antes de seleccionar la más adecuada para tu proyecto.\n",
    "\n",
    "En cuanto a mejoras, las librerías existentes suelen ser bastante sólidas y maduras. Sin embargo, siempre hay espacio para mejoras en términos de rendimiento, facilidad de uso y compatibilidad con nuevas características de PostgreSQL. Las actualizaciones y versiones posteriores de las librerías suelen abordar estas mejoras y ofrecer nuevas funcionalidades."
   ]
  },
  {
   "cell_type": "code",
   "execution_count": 3,
   "id": "4bf08b39",
   "metadata": {},
   "outputs": [],
   "source": [
    "#%%capture\n",
    "#!pip install psycopg2\n",
    "\n"
   ]
  },
  {
   "cell_type": "code",
   "execution_count": 17,
   "id": "d7e3802b",
   "metadata": {},
   "outputs": [
    {
     "name": "stdout",
     "output_type": "stream",
     "text": [
      "Conectado\n"
     ]
    }
   ],
   "source": [
    "import psycopg2\n",
    "\n",
    "# Establecer la conexión\n",
    "conn = psycopg2.connect(\n",
    "    host=\"localhost\",\n",
    "    port=\"5432\",\n",
    "    user=\"postgres\",\n",
    "    password=\"duvan\"\n",
    ")\n",
    "if conn:\n",
    "    print('Conectado')\n",
    "\n",
    "# Crear el cursor\n",
    "conn.autocommit = True\n",
    "\n",
    "# Crear el cursor\n",
    "cur = conn.cursor()\n",
    "\n",
    "ruta_base_datos = r'D:\\Equipo dinamita\\Session_1'\n",
    "\n",
    "# Ejecutar el comando SQL para crear la base de datos en la ruta especificada\n",
    "cur.execute(\"CREATE DATABASE mi_basedatos;\")\n",
    "\n",
    "# conn.commit()\n",
    "# Volver a activar el modo de autocommit\n",
    "\n",
    "conn.autocommit = False\n",
    "\n",
    "# Cerrar el cursor y la conexión\n",
    "cur.close()\n",
    "conn.close()\n",
    "\n"
   ]
  },
  {
   "cell_type": "code",
   "execution_count": 21,
   "id": "ca9af35c",
   "metadata": {},
   "outputs": [],
   "source": [
    "#!pip install sqlalquemy\n",
    "#!pip install sqlalchemy_utils\n",
    "#!pip list"
   ]
  },
  {
   "cell_type": "code",
   "execution_count": 22,
   "id": "7a09959e",
   "metadata": {},
   "outputs": [
    {
     "name": "stdout",
     "output_type": "stream",
     "text": [
      "Conectado\n"
     ]
    }
   ],
   "source": [
    "from sqlalchemy import create_engine\n",
    "from sqlalchemy_utils import database_exists, create_database\n",
    "\n",
    "# Detalles de conexión a la base de datos\n",
    "user = 'postgres'\n",
    "password = 'duvan'\n",
    "host = 'localhost'\n",
    "port = '5432'\n",
    "database = 'mi_basedatos'\n",
    "\n",
    "# Crear la cadena de conexión\n",
    "db_string = f'postgresql://{user}:{password}@{host}:{port}/{database}'\n",
    "\n",
    "# Crear el motor de SQLAlchemy\n",
    "engine = create_engine(db_string)\n",
    "\n",
    "\n",
    "\n",
    "# Verificar si la base de datos existe y crearla si no existe\n",
    "if not database_exists(engine.url):\n",
    "    create_database(engine.url)\n",
    "else:\n",
    "    print('Conectado')\n",
    "\n",
    "    \n",
    "# Cerrar la conexión\n",
    "engine.dispose()\n"
   ]
  },
  {
   "cell_type": "code",
   "execution_count": 17,
   "id": "ff7b39b7",
   "metadata": {},
   "outputs": [],
   "source": [
    "regex = 'ANGEL'"
   ]
  },
  {
   "cell_type": "code",
   "execution_count": 24,
   "id": "403208fe",
   "metadata": {},
   "outputs": [],
   "source": [
    "matplotlib = 'matplotlib'"
   ]
  },
  {
   "cell_type": "code",
   "execution_count": 25,
   "id": "ad7a855e",
   "metadata": {},
   "outputs": [],
   "source": [
    "numpy = 'numpy'"
   ]
  },
  {
   "cell_type": "code",
   "execution_count": 26,
   "id": "8b51f5b8",
   "metadata": {},
   "outputs": [],
   "source": [
    "pandas = 'pandas'"
   ]
  },
  {
   "cell_type": "code",
   "execution_count": 29,
   "id": "c84689d3",
   "metadata": {},
   "outputs": [],
   "source": [
    "def generar_numeros_aleatorios():\n",
    "    numeros = list(range(0, 3))\n",
    "    random.shuffle(numeros)\n",
    "    return numeros"
   ]
  },
  {
   "cell_type": "code",
   "execution_count": 30,
   "id": "4336705d",
   "metadata": {},
   "outputs": [],
   "source": [
    "num = generar_numeros_aleatorios()\n",
    "arreglo = [numpy,pandas, matplotlib]"
   ]
  },
  {
   "cell_type": "code",
   "execution_count": 31,
   "id": "c1613248",
   "metadata": {},
   "outputs": [
    {
     "data": {
      "text/plain": [
       "'numpy'"
      ]
     },
     "execution_count": 31,
     "metadata": {},
     "output_type": "execute_result"
    }
   ],
   "source": [
    "arreglo[num[2]]"
   ]
  },
  {
   "cell_type": "code",
   "execution_count": 32,
   "id": "6394948a",
   "metadata": {},
   "outputs": [
    {
     "data": {
      "text/plain": [
       "'pandas'"
      ]
     },
     "execution_count": 32,
     "metadata": {},
     "output_type": "execute_result"
    }
   ],
   "source": [
    "arreglo[num[1]]"
   ]
  },
  {
   "cell_type": "code",
   "execution_count": null,
   "id": "18d037fd",
   "metadata": {},
   "outputs": [],
   "source": []
  }
 ],
 "metadata": {
  "kernelspec": {
   "display_name": "Python 3 (ipykernel)",
   "language": "python",
   "name": "python3"
  },
  "language_info": {
   "codemirror_mode": {
    "name": "ipython",
    "version": 3
   },
   "file_extension": ".py",
   "mimetype": "text/x-python",
   "name": "python",
   "nbconvert_exporter": "python",
   "pygments_lexer": "ipython3",
   "version": "3.10.8"
  }
 },
 "nbformat": 4,
 "nbformat_minor": 5
}
