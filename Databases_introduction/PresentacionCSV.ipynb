{
 "cells": [
  {
   "cell_type": "markdown",
   "metadata": {},
   "source": [
    "# EL FORMATO CSV"
   ]
  },
  {
   "cell_type": "markdown",
   "metadata": {},
   "source": [
    "# Que es?\n",
    "Las siglas CSV vienen del inglés \"Comma Separated Values\" y significan valores separados por comas. Dicho esto, un archivo CSV es cualquier archivo de texto en el cual los caracteres están separados por comas, haciendo una especie de tabla en filas y columnas. Las columnas quedan definidas coma, mientras que cada fila se define mediante un espacio. "
   ]
  },
  {
   "cell_type": "markdown",
   "metadata": {},
   "source": [
    "# Para que sirve?\n",
    "1. Almacenamiento de datos tabulares: Los archivos CSV permiten almacenar datos en una estructura tabular, donde cada línea representa una fila y los valores se separan por comas o algún otro delimitador. Este formato es especialmente útil cuando necesitas almacenar grandes cantidades de datos en una estructura organizada y fácilmente legible.\n",
    "\n",
    "2. Importación y exportación de datos: Los archivos CSV son ampliamente utilizados para importar y exportar datos en aplicaciones como hojas de cálculo, bases de datos y programas estadísticos. Muchas aplicaciones y plataformas admiten la lectura y escritura de archivos CSV, lo que facilita el intercambio de datos entre diferentes sistemas.\n",
    "\n",
    "3. Integración con lenguajes de programación: Los archivos CSV son compatibles con la mayoría de los lenguajes de programación, lo que los convierte en un formato comúnmente utilizado para la manipulación y procesamiento de datos en programas. Puedes leer y escribir archivos CSV en lenguajes como Python, R, Java, entre otros, utilizando bibliotecas y funciones incorporadas.\n",
    "\n",
    "4. Análisis y visualización de datos: Los archivos CSV se utilizan ampliamente en análisis de datos y visualización. Puedes importar un archivo CSV en herramientas como Excel, Google Sheets, pandas en Python o RStudio para realizar cálculos, filtrar datos, realizar gráficos y obtener información útil a partir de los datos almacenados en el archivo.\n",
    "\n",
    "5. Interoperabilidad de datos: Los archivos CSV son un formato ampliamente aceptado y compatible. Esto significa que puedes compartir fácilmente datos en formato CSV con otros usuarios o sistemas, independientemente de la plataforma o la aplicación que utilicen. Esto facilita la colaboración y el intercambio de datos entre diferentes entornos."
   ]
  },
  {
   "cell_type": "markdown",
   "metadata": {},
   "source": [
    "# Capacidad\n",
    "La capacidad de un archivo CSV se refiere a la cantidad de datos que puede almacenar. Como formato de texto plano, no hay restricciones estrictas en términos de tamaño de archivo o límites de capacidad predefinidos. La capacidad está más determinada por los recursos de almacenamiento disponibles en el sistema donde se guarda el archivo.\n",
    "\n",
    "# Estructura\n",
    "La estructura de un archivo CSV es relativamente simple. Los datos se organizan en filas y columnas, donde cada fila representa un registro o una entrada de datos y cada columna representa un campo o atributo específico. Los valores en cada campo se separan mediante un delimitador, comúnmente una coma (,), aunque también se utilizan otros delimitadores como punto y coma (;) o tabulaciones. La primera fila a menudo se utiliza para definir los encabezados de columna, que proporcionan nombres descriptivos para cada campo.\n",
    "# Seguridad\n",
    "El formato CSV en sí mismo no proporciona características de seguridad incorporadas. Los archivos CSV son archivos de texto plano, lo que significa que no ofrecen métodos de cifrado o protección automática de los datos. La seguridad de los archivos CSV depende de las medidas de seguridad aplicadas en el sistema de almacenamiento y en la forma en que se gestionan y se accede a los archivos. Para proteger la seguridad de los datos en un archivo CSV, se recomienda aplicar buenas prácticas de gestión de archivos, como establecer permisos de acceso adecuados, utilizar medidas de cifrado en caso necesario y seguir las políticas de seguridad establecidas en el entorno donde se almacenan los archivos."
   ]
  },
  {
   "cell_type": "markdown",
   "metadata": {},
   "source": [
    "# Ventajas\n",
    "Simplicidad: El formato CSV es extremadamente simple y fácil de entender. Consiste en valores separados por comas en un archivo de texto plano, lo que facilita la creación y lectura de datos sin la necesidad de software o herramientas especializadas.\n",
    "\n",
    "Compatibilidad: Los archivos CSV son ampliamente compatibles con una amplia gama de aplicaciones, plataformas y lenguajes de programación. La mayoría de las herramientas y bibliotecas de programación admiten la importación y exportación de archivos CSV, lo que permite intercambiar datos entre diferentes sistemas de manera sencilla.\n",
    "\n",
    "Tamaño reducido: El formato CSV tiende a tener un tamaño de archivo más pequeño en comparación con otros formatos de almacenamiento de datos estructurados, como hojas de cálculo o bases de datos. Esto puede ser beneficioso para el almacenamiento y la transferencia de datos, especialmente cuando se trabaja con grandes conjuntos de datos.\n",
    "\n",
    "Flexibilidad: Los archivos CSV permiten almacenar una amplia variedad de tipos de datos, como números, texto, fechas y valores booleanos. También es posible anidar estructuras de datos más complejas, como listas o diccionarios, dentro de los valores separados por comas.\n",
    "\n",
    "# Desventajas\n",
    "Falta de tipificación de datos: A diferencia de los formatos de bases de datos o hojas de cálculo, los archivos CSV no tienen información de tipo de datos incorporada. Esto puede conducir a problemas de interpretación de datos si no se tiene en cuenta correctamente el tipo de cada valor.\n",
    "\n",
    "Limitaciones de formato: El formato CSV no es adecuado para representar estructuras de datos más complejas, como relaciones entre tablas o datos jerárquicos. Si se requiere una representación más sofisticada, puede ser necesario utilizar otros formatos, como JSON o XML.\n",
    "\n",
    "Ausencia de validación de datos: Los archivos CSV no tienen mecanismos integrados para validar la integridad o consistencia de los datos. Esto significa que los errores de formato o inconsistencias en los datos pueden pasar desapercibidos, lo que requiere una mayor atención al asegurar la calidad de los datos almacenados en el archivo.\n",
    "\n",
    "Limitaciones en el manejo de caracteres especiales: Los archivos CSV pueden presentar dificultades al manejar caracteres especiales, como comas o comillas, que podrían interferir con la estructura de los datos. Se requiere un cuidado adicional al procesar y escapar adecuadamente estos caracteres para garantizar la integridad de los datos."
   ]
  },
  {
   "cell_type": "markdown",
   "metadata": {},
   "source": [
    "# Mantenimiento\n",
    "Gracias a la versátilidad de este formato es posible realizar mantenimiento a las bases de datos. Para esto se pueden usar distintas tçnicas cómo: respaldo y restauración; limpieza y normalización; optimización del rendimiento; actualizaciones y modificaciones de la estructura de datos."
   ]
  },
  {
   "cell_type": "markdown",
   "metadata": {},
   "source": [
    "# Librerías para manipular datos en este formato (Python)\n",
    "1. csv: Esta es una biblioteca incorporada en Python que proporciona funciones para leer y escribir archivos CSV. Proporciona métodos simples para trabajar con datos tabulares en formato CSV.\n",
    "\n",
    "2. pandas: Pandas es una biblioteca de análisis de datos que también ofrece funcionalidades para leer y escribir archivos CSV. Proporciona estructuras de datos flexibles y eficientes para manipular y analizar datos tabulares.\n",
    "\n",
    "3. numpy: Numpy es una biblioteca popular para cálculos numéricos en Python. Aunque no está específicamente diseñada para el manejo de archivos CSV, puede ser utilizada junto con otras bibliotecas para trabajar con datos tabulares en formato CSV."
   ]
  },
  {
   "cell_type": "markdown",
   "metadata": {},
   "source": [
    "# Cómo abrir un CSV desde Python?\n",
    "Esto se puede hacer usando diferentes librerías, a continucaión veremos como hacer usando las librerías csv y pandas:\n"
   ]
  },
  {
   "cell_type": "markdown",
   "metadata": {},
   "source": [
    "# CSV\n"
   ]
  },
  {
   "cell_type": "code",
   "execution_count": 1,
   "metadata": {},
   "outputs": [
    {
     "ename": "FileNotFoundError",
     "evalue": "[Errno 2] No such file or directory: 'datos.csv'",
     "output_type": "error",
     "traceback": [
      "\u001b[1;31m---------------------------------------------------------------------------\u001b[0m",
      "\u001b[1;31mFileNotFoundError\u001b[0m                         Traceback (most recent call last)",
      "\u001b[1;32m<ipython-input-1-55afc5818be6>\u001b[0m in \u001b[0;36m<module>\u001b[1;34m\u001b[0m\n\u001b[0;32m      2\u001b[0m \u001b[1;33m\u001b[0m\u001b[0m\n\u001b[0;32m      3\u001b[0m \u001b[1;31m# Abre el archivo CSV\u001b[0m\u001b[1;33m\u001b[0m\u001b[1;33m\u001b[0m\u001b[1;33m\u001b[0m\u001b[0m\n\u001b[1;32m----> 4\u001b[1;33m \u001b[1;32mwith\u001b[0m \u001b[0mopen\u001b[0m\u001b[1;33m(\u001b[0m\u001b[1;34m'datos.csv'\u001b[0m\u001b[1;33m,\u001b[0m \u001b[1;34m'r'\u001b[0m\u001b[1;33m)\u001b[0m \u001b[1;32mas\u001b[0m \u001b[0marchivo_csv\u001b[0m\u001b[1;33m:\u001b[0m\u001b[1;33m\u001b[0m\u001b[1;33m\u001b[0m\u001b[0m\n\u001b[0m\u001b[0;32m      5\u001b[0m     \u001b[1;31m# Crea un objeto lector CSV\u001b[0m\u001b[1;33m\u001b[0m\u001b[1;33m\u001b[0m\u001b[1;33m\u001b[0m\u001b[0m\n\u001b[0;32m      6\u001b[0m     \u001b[0mlector_csv\u001b[0m \u001b[1;33m=\u001b[0m \u001b[0mcsv\u001b[0m\u001b[1;33m.\u001b[0m\u001b[0mreader\u001b[0m\u001b[1;33m(\u001b[0m\u001b[0marchivo_csv\u001b[0m\u001b[1;33m)\u001b[0m\u001b[1;33m\u001b[0m\u001b[1;33m\u001b[0m\u001b[0m\n",
      "\u001b[1;31mFileNotFoundError\u001b[0m: [Errno 2] No such file or directory: 'datos.csv'"
     ]
    }
   ],
   "source": [
    "import csv\n",
    "with open('datos.csv', 'r') as archivo_csv:\n",
    "    # Crea un objeto lector CSV\n",
    "    lector_csv = csv.reader(archivo_csv)\n",
    "    # Lee los datos línea por línea\n",
    "    for linea in lector_csv:\n",
    "        # Accede a los datos de cada columna\n",
    "        columna1 = linea[0]\n",
    "        columna2 = linea[1]\n",
    "        # Realiza alguna operación con los datos\n",
    "        print(columna1, columna2)\n"
   ]
  },
  {
   "cell_type": "markdown",
   "metadata": {},
   "source": [
    "# Pandas"
   ]
  },
  {
   "cell_type": "code",
   "execution_count": null,
   "metadata": {},
   "outputs": [],
   "source": [
    "import pandas as pd\n",
    "\n",
    "# Lee el archivo CSV y carga los datos en un DataFrame\n",
    "df = pd.read_csv('datos.csv')\n",
    "\n",
    "# Accede a los datos en el DataFrame\n",
    "columna1 = df['columna1']\n",
    "columna2 = df['columna2']\n",
    "\n",
    "# Imprime los datos\n",
    "print(columna1)\n",
    "print(columna2)\n"
   ]
  },
  {
   "cell_type": "markdown",
   "metadata": {},
   "source": [
    "# Dónde encontrar bases de datos en formato CSV?\n",
    "Debido a su amplio uso hay muchos lugares donde se pueden descargar bases de datos en formato csv, entre ellas encontramos:\n",
    "\n",
    "1. Kaggle:  https://www.kaggle.com/datasets\n",
    "2. Data.gov:  https://www.data.gov/\n",
    "3. UCI Machine Learning Repository:  https://archive.ics.uci.edu/ml/index.php\n",
    "4. Google Dataset Search: https://datasetsearch.research.google.com/"
   ]
  },
  {
   "cell_type": "markdown",
   "metadata": {},
   "source": [
    "Gracias por su atención ;)\n",
    "Presentado por: Andrés Melgarejo "
   ]
  },
  {
   "cell_type": "code",
   "execution_count": null,
   "metadata": {},
   "outputs": [],
   "source": []
  }
 ],
 "metadata": {
  "kernelspec": {
   "display_name": "Python 3",
   "language": "python",
   "name": "python3"
  },
  "language_info": {
   "codemirror_mode": {
    "name": "ipython",
    "version": 3
   },
   "file_extension": ".py",
   "mimetype": "text/x-python",
   "name": "python",
   "nbconvert_exporter": "python",
   "pygments_lexer": "ipython3",
   "version": "3.7.6"
  }
 },
 "nbformat": 4,
 "nbformat_minor": 4
}
